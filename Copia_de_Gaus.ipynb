{
  "nbformat": 4,
  "nbformat_minor": 0,
  "metadata": {
    "colab": {
      "name": "Copia de Gaus.ipynb",
      "version": "0.3.2",
      "provenance": [],
      "collapsed_sections": [],
      "include_colab_link": true
    },
    "kernelspec": {
      "name": "python3",
      "display_name": "Python 3"
    },
    "accelerator": "GPU"
  },
  "cells": [
    {
      "cell_type": "markdown",
      "metadata": {
        "id": "view-in-github",
        "colab_type": "text"
      },
      "source": [
        "<a href=\"https://colab.research.google.com/github/granantuin/Model_vs_data_label/blob/master/Copia_de_Gaus.ipynb\" target=\"_parent\"><img src=\"https://colab.research.google.com/assets/colab-badge.svg\" alt=\"Open In Colab\"/></a>"
      ]
    },
    {
      "metadata": {
        "id": "D6Kp-M-UUxW5",
        "colab_type": "code",
        "colab": {}
      },
      "cell_type": "code",
      "source": [
        "import pandas as pd\n",
        "import matplotlib.pyplot as plt\n",
        "import numpy as np\n",
        "from sklearn.model_selection import train_test_split\n",
        "from sklearn.naive_bayes import GaussianNB\n",
        "import seaborn as sns\n",
        "from google.colab import drive\n",
        "drive.mount('/content/drive')\n"
      ],
      "execution_count": 0,
      "outputs": []
    },
    {
      "metadata": {
        "id": "qac39YH5R38N",
        "colab_type": "code",
        "colab": {}
      },
      "cell_type": "code",
      "source": [
        "drive_4km=\"/content/drive/My Drive/Colab Notebooks/model_vs_data/Coron_4km_h24toh48_dir/\"\n",
        "drive_1km=\"/content/drive/My Drive/Colab Notebooks/model_vs_data/Coron_Mars_H24to48_dir/\"\n",
        "dr=[drive_4km,drive_1km]\n",
        "y_data=pd.read_excel(dr[1]+\"y_data.xlsx\")\n",
        "x_data=pd.read_csv(dr[1]+\"x_data\",usecols=range(1,10))"
      ],
      "execution_count": 0,
      "outputs": []
    },
    {
      "metadata": {
        "id": "HX4YoFcrYb08",
        "colab_type": "text"
      },
      "cell_type": "markdown",
      "source": [
        "**Select model points to fit linear regression iloc in x_datal**"
      ]
    },
    {
      "metadata": {
        "id": "TWNCUPsBWyx3",
        "colab_type": "code",
        "colab": {}
      },
      "cell_type": "code",
      "source": [
        "x_train, x_test, y_train, y_test = train_test_split(x_data.iloc[:,0:9],y_data[\"value\"], test_size=0.3, random_state=5)"
      ],
      "execution_count": 0,
      "outputs": []
    },
    {
      "metadata": {
        "id": "DYbRo9V-XPzK",
        "colab_type": "code",
        "colab": {}
      },
      "cell_type": "code",
      "source": [
        "y_pred=GaussianNB().fit(x_train,y_train).predict(x_test)"
      ],
      "execution_count": 0,
      "outputs": []
    },
    {
      "metadata": {
        "id": "3YTHHKh0Xgfo",
        "colab_type": "code",
        "colab": {}
      },
      "cell_type": "code",
      "source": [
        "df2 = pd.DataFrame({'y_test': y_test,'y_pred':y_pred})\n",
        "sc=sns.jointplot(x=\"y_test\",y=\"y_pred\",kind=\"kde\",data=df2,xlim=(0,360),ylim=(0,360),)"
      ],
      "execution_count": 0,
      "outputs": []
    },
    {
      "metadata": {
        "id": "y6ZmBy0OCzox",
        "colab_type": "code",
        "colab": {}
      },
      "cell_type": "code",
      "source": [
        "plt.figure(figsize=(10, 8))\n",
        "sns.heatmap(df2.corr(),annot=True)"
      ],
      "execution_count": 0,
      "outputs": []
    },
    {
      "metadata": {
        "id": "eeOQ8cKeYDGF",
        "colab_type": "code",
        "colab": {}
      },
      "cell_type": "code",
      "source": [
        "df2['DIF']=y_pred-y_test\n",
        "df2[\"DIF\"]=df2[\"DIF\"][df2[\"DIF\"]<180]\n",
        "df2[\"DIF\"]=df2[\"DIF\"][df2[\"DIF\"]>-180]\n",
        "  "
      ],
      "execution_count": 0,
      "outputs": []
    },
    {
      "metadata": {
        "id": "6Eff2LEuYUIp",
        "colab_type": "code",
        "colab": {}
      },
      "cell_type": "code",
      "source": [
        "plt.figure(figsize=(10, 8))\n",
        "ax = sns.boxplot(data=df2.iloc[:,2:3])\n",
        "  "
      ],
      "execution_count": 0,
      "outputs": []
    },
    {
      "metadata": {
        "id": "ixVahIiSYmmH",
        "colab_type": "code",
        "colab": {}
      },
      "cell_type": "code",
      "source": [
        "df2.iloc[:,2:3].describe()"
      ],
      "execution_count": 0,
      "outputs": []
    },
    {
      "metadata": {
        "id": "C1uriWp5fYjs",
        "colab_type": "text"
      },
      "cell_type": "markdown",
      "source": [
        "**Filtering dat wind  only more 2 meters per second**"
      ]
    },
    {
      "metadata": {
        "id": "z1RYSBCaff6F",
        "colab_type": "code",
        "colab": {}
      },
      "cell_type": "code",
      "source": [
        "y_data=pd.read_excel(dr[1]+\"y_data.xlsx\")\n",
        "x_data=pd.read_csv(dr[1]+\"x_data\",usecols=range(1,10))\n",
        "y_sp=pd.read_excel(dr[1]+\"y_sp.xlsx\") # units=Km/h to m/s\n",
        "y_sp[\"spd\"]=y_sp[\"spd\"]/3.6\n",
        "x_data[\"date\"]=y_data[\"date\"]\n",
        "x_data=x_data.set_index(\"date\")\n",
        "y_data=y_data.set_index(\"date\")\n",
        "y_sp=y_sp.set_index(\"date\")\n",
        "tot=pd.concat([x_data,y_data,y_sp],axis=1).dropna()\n",
        "x_data=tot[tot[\"spd\"]>2].iloc[:, 0:9]\n",
        "y_data=tot[tot[\"spd\"]>2].iloc[:, 9:10]"
      ],
      "execution_count": 0,
      "outputs": []
    },
    {
      "metadata": {
        "id": "mlKqMJUxf7nO",
        "colab_type": "code",
        "colab": {}
      },
      "cell_type": "code",
      "source": [
        "x_train, x_test, y_train, y_test = train_test_split(x_data.iloc[:,0:9],y_data[\"value\"], test_size=0.3, random_state=5)"
      ],
      "execution_count": 0,
      "outputs": []
    },
    {
      "metadata": {
        "id": "x9eulCugf-PD",
        "colab_type": "code",
        "colab": {}
      },
      "cell_type": "code",
      "source": [
        "y_pred=GaussianNB().fit(x_train,y_train).predict(x_test)"
      ],
      "execution_count": 0,
      "outputs": []
    },
    {
      "metadata": {
        "id": "G7YdMjmKgIbJ",
        "colab_type": "code",
        "colab": {}
      },
      "cell_type": "code",
      "source": [
        "df2 = pd.DataFrame({'y_test': y_test,'y_pred':y_pred})\n",
        "sc=sns.jointplot(x=\"y_test\",y=\"y_pred\",kind=\"kde\",data=df2,xlim=(0,360),ylim=(0,360),)"
      ],
      "execution_count": 0,
      "outputs": []
    },
    {
      "metadata": {
        "id": "9BD_vkQ1DZo6",
        "colab_type": "code",
        "colab": {}
      },
      "cell_type": "code",
      "source": [
        "plt.figure(figsize=(10, 8))\n",
        "sns.heatmap(df2.corr(),annot=True)"
      ],
      "execution_count": 0,
      "outputs": []
    },
    {
      "metadata": {
        "id": "U6vn7xxCSwsT",
        "colab_type": "code",
        "colab": {}
      },
      "cell_type": "code",
      "source": [
        "df2['DIF']=y_pred-y_test\n",
        "df2[\"DIF\"]=df2[\"DIF\"][df2[\"DIF\"]<180]\n",
        "df2[\"DIF\"]=df2[\"DIF\"][df2[\"DIF\"]>-180]\n",
        "  "
      ],
      "execution_count": 0,
      "outputs": []
    },
    {
      "metadata": {
        "id": "3_5_i5U1SkMd",
        "colab_type": "code",
        "colab": {}
      },
      "cell_type": "code",
      "source": [
        "df2.iloc[:,2:3].describe()"
      ],
      "execution_count": 0,
      "outputs": []
    }
  ]
}