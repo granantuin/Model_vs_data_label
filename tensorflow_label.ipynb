{
  "nbformat": 4,
  "nbformat_minor": 0,
  "metadata": {
    "colab": {
      "name": "tensorflow_label.ipynb",
      "version": "0.3.2",
      "provenance": [],
      "collapsed_sections": [],
      "include_colab_link": true
    },
    "kernelspec": {
      "name": "python3",
      "display_name": "Python 3"
    }
  },
  "cells": [
    {
      "cell_type": "markdown",
      "metadata": {
        "id": "view-in-github",
        "colab_type": "text"
      },
      "source": [
        "<a href=\"https://colab.research.google.com/github/granantuin/Model_vs_data_label/blob/master/tensorflow_label.ipynb\" target=\"_parent\"><img src=\"https://colab.research.google.com/assets/colab-badge.svg\" alt=\"Open In Colab\"/></a>"
      ]
    },
    {
      "metadata": {
        "id": "2uGuxfBa1GSB",
        "colab_type": "code",
        "colab": {}
      },
      "cell_type": "code",
      "source": [
        "from sklearn.metrics import precision_recall_fscore_support\n",
        "import pandas as pd\n",
        "from sklearn.metrics import confusion_matrix ,accuracy_score,f1_score,recall_score\n",
        "import numpy as np\n",
        "from sklearn.model_selection import train_test_split\n",
        "import seaborn as sns\n",
        "import matplotlib.pyplot as plt\n",
        "from sklearn.model_selection import train_test_split\n",
        "import seaborn as sns\n",
        "from __future__ import absolute_import, division, print_function\n",
        "import tensorflow as tf\n",
        "tf.logging.set_verbosity(tf.logging.ERROR)\n",
        "\n"
      ],
      "execution_count": 0,
      "outputs": []
    },
    {
      "metadata": {
        "id": "N_cnHTUh1aTf",
        "colab_type": "code",
        "colab": {}
      },
      "cell_type": "code",
      "source": [
        "from google.colab import drive\n",
        "drive.mount('/content/drive')\n"
      ],
      "execution_count": 0,
      "outputs": []
    },
    {
      "metadata": {
        "id": "Lt2mSVBX1fgc",
        "colab_type": "code",
        "colab": {}
      },
      "cell_type": "code",
      "source": [
        "drive_4km=\"/content/drive/My Drive/Colab Notebooks/model_vs_data/Coron_4km_h24toh48_dir/\"\n",
        "drive_1km=\"/content/drive/My Drive/Colab Notebooks/model_vs_data/Coron_Mars_H24to48_dir/\"\n",
        "dr=[drive_4km,drive_1km]\n",
        "y_data=pd.read_excel(dr[0]+\"y_coron_dir.xlsx\",index_col=0)\n",
        "x_data=pd.read_csv(dr[0]+\"x_coron.csv\",index_col=0)\n",
        "x_data=x_data.iloc[:,0:9]\n",
        "y_data=y_data[y_data>0]# delete station errors\n",
        "result = x_data.join(y_data, how='outer').dropna()\n",
        "x_data=result.iloc[:,0:9]\n",
        "y_data=result.iloc[:,9:10]"
      ],
      "execution_count": 0,
      "outputs": []
    },
    {
      "metadata": {
        "id": "T5aBR60h745J",
        "colab_type": "code",
        "colab": {}
      },
      "cell_type": "code",
      "source": [
        "def evaluate():\n",
        "  index=[\"E\",\"N\",\"NE\",\"NW\",\"S\",\"SE\",\"SW\",\"W\"]\n",
        "  print(pd.DataFrame(confusion_matrix(y_test, y_pred), index=index, columns=index))\n",
        "  print(\"****************\")\n",
        "  print(\"Accuracy=\",\"{:.2%}\".format(accuracy_score(y_test, y_pred)),\"// Model Accuracy=45%\")\n",
        "  results= precision_recall_fscore_support(y_test, y_pred, average=None, )\n",
        "  df=pd.DataFrame({\"Precision\":results[0],\"Recall\":results[1],\"F1\":results[2],\"W_DIR\":index})\n",
        "  df=df.set_index(\"W_DIR\")\n",
        "  print(\"Average precision =\",\"{:.2%}\".format(df[\"Precision\"].mean()),\"// Model precision=28%\")\n",
        "  print(\"Average recall =\",\"{:.2%}\".format(df[\"Recall\"].mean()),\"// Model recall=28%\")\n",
        "  results= precision_recall_fscore_support(y_test, y_pred, average='weighted', )\n",
        "  print(\"Precision weighted=\",\"{:.2%}\".format(results[0]),\"//Model weighted=56%\")\n",
        "  print(\"Recall weighted =\",\"{:.2%}\".format(results[1]),\"//Model weighted=53%\")\n",
        "  print(\"****************\")\n",
        "  print(df)"
      ],
      "execution_count": 0,
      "outputs": []
    },
    {
      "metadata": {
        "id": "QSJ4uJKCKdYE",
        "colab_type": "text"
      },
      "cell_type": "markdown",
      "source": [
        "**E=[1,0,0,0,0,0,0,0]\n",
        "N=[0,1,0,0,0,0,0,0]\n",
        "NE=[0,0,1,0,0,0,0,0]\n",
        "NW=[0,0,0,1,0,0,0,0]\n",
        "S=[0,0,0,0,1,0,0,0,0]\n",
        "SE=[0,0,0,0,0,1,0,0]\n",
        "SW=[0,0,0,0,0,0,1,0]\n",
        "W=[0,0,0,0,0,0,0,1]**"
      ]
    },
    {
      "metadata": {
        "id": "hAs4madU1trV",
        "colab_type": "code",
        "colab": {}
      },
      "cell_type": "code",
      "source": [
        "y_data_tf=[]\n",
        "for dir in y_data[\"value\"]:\n",
        "  if dir>22.5 and dir<67.5:\n",
        "    y_data_tf.append([0,0,1,0,0,0,0,0])\n",
        "  if dir>67.5 and dir<112.5:\n",
        "    y_data_tf.append([1,0,0,0,0,0,0,0])\n",
        "  if dir>112.5 and dir<157.5:\n",
        "    y_data_tf.append([0,0,0,0,0,1,0,0])\n",
        "  if dir>157.5 and dir<202.5:\n",
        "    y_data_tf.append([0,0,0,0,1,0,0,0])\n",
        "  if dir>202.5 and dir<247.5:\n",
        "    y_data_tf.append([0,0,0,0,0,0,1,0]) \n",
        "  if dir>247.5 and dir<292.5:\n",
        "    y_data_tf.append([0,0,0,0,0,0,0,1])\n",
        "  if dir>292.5 and dir<337.5:\n",
        "    y_data_tf.append([0,0,0,1,0,0,0,0])\n",
        "  if dir>337.5 or dir<22.5:\n",
        "    y_data_tf.append([0,1,0,0,0,0,0,0])  \n",
        "y_data=np.asarray(y_data_tf)"
      ],
      "execution_count": 0,
      "outputs": []
    },
    {
      "metadata": {
        "id": "K0GKwrsx2Lnu",
        "colab_type": "code",
        "colab": {}
      },
      "cell_type": "code",
      "source": [
        "x_train, x_test, y_train, y_test = train_test_split(x_data,y_data, test_size=0.2, random_state=5)"
      ],
      "execution_count": 0,
      "outputs": []
    },
    {
      "metadata": {
        "id": "NahoPMu22VBX",
        "colab_type": "code",
        "colab": {}
      },
      "cell_type": "code",
      "source": [
        "l0 = tf.keras.layers.Dense(units=5, input_shape=[9]) \n",
        "l2 = tf.keras.layers.Dense(units=8,)\n",
        "model = tf.keras.Sequential([l0,l2])\n",
        "model.compile(loss='mean_squared_error',\n",
        "              optimizer=tf.keras.optimizers.Adam(0.1))\n",
        "model.summary()\n"
      ],
      "execution_count": 0,
      "outputs": []
    },
    {
      "metadata": {
        "id": "K4KGjJZV43C1",
        "colab_type": "code",
        "colab": {}
      },
      "cell_type": "code",
      "source": [
        "history = model.fit(x_train, y_train, epochs=200, verbose=False)\n",
        "print(\"Finished training the model\")"
      ],
      "execution_count": 0,
      "outputs": []
    },
    {
      "metadata": {
        "id": "_nJt7ff-iVyC",
        "colab_type": "code",
        "colab": {}
      },
      "cell_type": "code",
      "source": [
        "hist=pd.DataFrame(history.history)"
      ],
      "execution_count": 0,
      "outputs": []
    },
    {
      "metadata": {
        "id": "Uq8MPMopjASW",
        "colab_type": "code",
        "colab": {}
      },
      "cell_type": "code",
      "source": [
        "hist.plot()"
      ],
      "execution_count": 0,
      "outputs": []
    },
    {
      "metadata": {
        "id": "xO7lMEFI5l74",
        "colab_type": "code",
        "colab": {}
      },
      "cell_type": "code",
      "source": [
        "y_pred=model.predict(x_test)\n"
      ],
      "execution_count": 0,
      "outputs": []
    },
    {
      "metadata": {
        "id": "8QsRSPBK19nq",
        "colab_type": "text"
      },
      "cell_type": "markdown",
      "source": [
        "E=[1,0,0,0,0,0,0,0] N=[0,1,0,0,0,0,0,0] NE=[0,0,1,0,0,0,0,0] NW=[0,0,0,1,0,0,0,0] S=[0,0,0,0,1,0,0,0,0] SE=[0,0,0,0,0,1,0,0] SW=[0,0,0,0,0,0,1,0] W=[0,0,0,0,0,0,0,1]"
      ]
    },
    {
      "metadata": {
        "id": "uBVXoGtQO5Hk",
        "colab_type": "code",
        "colab": {}
      },
      "cell_type": "code",
      "source": [
        "y_pred_str=[]\n",
        "for c in y_pred:\n",
        "  if np.argmax(c)==0:\n",
        "    y_pred_str.append(\"E\")\n",
        "  if np.argmax(c)==1:\n",
        "    y_pred_str.append(\"N\")\n",
        "  if np.argmax(c)==2:\n",
        "    y_pred_str.append(\"NE\")\n",
        "  if np.argmax(c)==3:\n",
        "    y_pred_str.append(\"NW\")\n",
        "  if np.argmax(c)==4:\n",
        "    y_pred_str.append(\"S\")\n",
        "  if np.argmax(c)==5:\n",
        "    y_pred_str.append(\"SE\")\n",
        "  if np.argmax(c)==6:\n",
        "    y_pred_str.append(\"SW\")\n",
        "  if np.argmax(c)==7:\n",
        "    y_pred_str.append(\"W\")  \n",
        "y_pred=np.asarray(y_pred_str)\n",
        "\n",
        "y_test_str=[]\n",
        "for c in y_test:\n",
        "  if np.argmax(c)==0:\n",
        "    y_test_str.append(\"E\")\n",
        "  if np.argmax(c)==1:\n",
        "    y_test_str.append(\"N\")\n",
        "  if np.argmax(c)==2:\n",
        "    y_test_str.append(\"NE\")\n",
        "  if np.argmax(c)==3:\n",
        "    y_test_str.append(\"NW\")\n",
        "  if np.argmax(c)==4:\n",
        "    y_test_str.append(\"S\")\n",
        "  if np.argmax(c)==5:\n",
        "    y_test_str.append(\"SE\")\n",
        "  if np.argmax(c)==6:\n",
        "    y_test_str.append(\"SW\")\n",
        "  if np.argmax(c)==7:\n",
        "    y_test_str.append(\"W\")  \n",
        "y_test=np.asarray(y_test_str)"
      ],
      "execution_count": 0,
      "outputs": []
    },
    {
      "metadata": {
        "id": "z7ozvdit6RAC",
        "colab_type": "code",
        "colab": {}
      },
      "cell_type": "code",
      "source": [
        "evaluate()"
      ],
      "execution_count": 0,
      "outputs": []
    },
    {
      "metadata": {
        "id": "WPDrZOys9eHZ",
        "colab_type": "text"
      },
      "cell_type": "markdown",
      "source": [
        "**Overfit?**"
      ]
    },
    {
      "metadata": {
        "id": "g4tFvuT29qdY",
        "colab_type": "code",
        "colab": {}
      },
      "cell_type": "code",
      "source": [
        "y_test=y_train\n",
        "y_pred=model.predict(x_train)\n",
        "y_pred_str=[]\n",
        "for c in y_pred:\n",
        "  if np.argmax(c)==0:\n",
        "    y_pred_str.append(\"E\")\n",
        "  if np.argmax(c)==1:\n",
        "    y_pred_str.append(\"N\")\n",
        "  if np.argmax(c)==2:\n",
        "    y_pred_str.append(\"NE\")\n",
        "  if np.argmax(c)==3:\n",
        "    y_pred_str.append(\"NW\")\n",
        "  if np.argmax(c)==4:\n",
        "    y_pred_str.append(\"S\")\n",
        "  if np.argmax(c)==5:\n",
        "    y_pred_str.append(\"SE\")\n",
        "  if np.argmax(c)==6:\n",
        "    y_pred_str.append(\"SW\")\n",
        "  if np.argmax(c)==7:\n",
        "    y_pred_str.append(\"W\")  \n",
        "y_pred=np.asarray(y_pred_str)\n",
        "\n",
        "y_test_str=[]\n",
        "for c in y_test:\n",
        "  if np.argmax(c)==0:\n",
        "    y_test_str.append(\"E\")\n",
        "  if np.argmax(c)==1:\n",
        "    y_test_str.append(\"N\")\n",
        "  if np.argmax(c)==2:\n",
        "    y_test_str.append(\"NE\")\n",
        "  if np.argmax(c)==3:\n",
        "    y_test_str.append(\"NW\")\n",
        "  if np.argmax(c)==4:\n",
        "    y_test_str.append(\"S\")\n",
        "  if np.argmax(c)==5:\n",
        "    y_test_str.append(\"SE\")\n",
        "  if np.argmax(c)==6:\n",
        "    y_test_str.append(\"SW\")\n",
        "  if np.argmax(c)==7:\n",
        "    y_test_str.append(\"W\")  \n",
        "y_test=np.asarray(y_test_str)\n",
        "\n",
        "\n",
        "#evaluate()"
      ],
      "execution_count": 0,
      "outputs": []
    },
    {
      "metadata": {
        "id": "dm21jqj2EwmH",
        "colab_type": "code",
        "colab": {}
      },
      "cell_type": "code",
      "source": [
        "evaluate()"
      ],
      "execution_count": 0,
      "outputs": []
    }
  ]
}