{
  "nbformat": 4,
  "nbformat_minor": 0,
  "metadata": {
    "colab": {
      "name": "all_class.ipynb",
      "version": "0.3.2",
      "provenance": [],
      "collapsed_sections": [],
      "include_colab_link": true
    },
    "kernelspec": {
      "name": "python3",
      "display_name": "Python 3"
    }
  },
  "cells": [
    {
      "cell_type": "markdown",
      "metadata": {
        "id": "view-in-github",
        "colab_type": "text"
      },
      "source": [
        "<a href=\"https://colab.research.google.com/github/granantuin/Model_vs_data_label/blob/master/all_class.ipynb\" target=\"_parent\"><img src=\"https://colab.research.google.com/assets/colab-badge.svg\" alt=\"Open In Colab\"/></a>"
      ]
    },
    {
      "metadata": {
        "id": "eKAeeLLI18Qj",
        "colab_type": "code",
        "colab": {}
      },
      "cell_type": "code",
      "source": [
        "from sklearn.metrics import precision_recall_fscore_support\n",
        "import pandas as pd\n",
        "from sklearn.metrics import confusion_matrix ,accuracy_score,f1_score,recall_score\n",
        "import numpy as np\n",
        "import seaborn as sns\n",
        "import matplotlib.pyplot as plt\n",
        "from sklearn.model_selection import train_test_split\n",
        "from sklearn import svm\n",
        "from sklearn.dummy import DummyClassifier\n",
        "from sklearn.ensemble import RandomForestClassifier\n",
        "from sklearn.utils import resample"
      ],
      "execution_count": 0,
      "outputs": []
    },
    {
      "metadata": {
        "id": "YSxUuEeOB4vV",
        "colab_type": "code",
        "colab": {}
      },
      "cell_type": "code",
      "source": [
        "def evaluate(y_test,y_pred):\n",
        "  index=[\"E\",\"N\",\"NE\",\"NW\",\"S\",\"SE\",\"SW\",\"W\"]\n",
        "  print(pd.DataFrame(confusion_matrix(y_test, y_pred), index=index, columns=index))\n",
        "  print(\"****************\")\n",
        "  print(\"Accuracy=\",\"{:.2%}\".format(accuracy_score(y_test, y_pred)),\" Model Accuracy=32.17%\")\n",
        "  print(\"****************\")\n",
        "  results= precision_recall_fscore_support(y_test, y_pred, average=None, )\n",
        "  df=pd.DataFrame({\"Precision\":results[0],\"Recall\":results[1],\"F1\":results[2],\"W_DIR\":index})\n",
        "  df=df.set_index(\"W_DIR\")\n",
        "  print(\"Average precision =\",\"{:.2%}\".format(df[\"Precision\"].mean()),\" Model precision=21.03%\")\n",
        "  print(\"Average recall =\",\"{:.2%}\".format(df[\"Recall\"].mean()),\" Model recall=21.71%\")\n",
        "  print(df)\n",
        "  "
      ],
      "execution_count": 0,
      "outputs": []
    },
    {
      "metadata": {
        "id": "D6Kp-M-UUxW5",
        "colab_type": "code",
        "outputId": "ca84ac0f-abb6-4a32-da23-b70b43abd7c2",
        "colab": {
          "base_uri": "https://localhost:8080/",
          "height": 121
        }
      },
      "cell_type": "code",
      "source": [
        "\n",
        "from google.colab import drive\n",
        "drive.mount('/content/drive')\n"
      ],
      "execution_count": 6,
      "outputs": [
        {
          "output_type": "stream",
          "text": [
            "Go to this URL in a browser: https://accounts.google.com/o/oauth2/auth?client_id=947318989803-6bn6qk8qdgf4n4g3pfee6491hc0brc4i.apps.googleusercontent.com&redirect_uri=urn%3Aietf%3Awg%3Aoauth%3A2.0%3Aoob&scope=email%20https%3A%2F%2Fwww.googleapis.com%2Fauth%2Fdocs.test%20https%3A%2F%2Fwww.googleapis.com%2Fauth%2Fdrive%20https%3A%2F%2Fwww.googleapis.com%2Fauth%2Fdrive.photos.readonly%20https%3A%2F%2Fwww.googleapis.com%2Fauth%2Fpeopleapi.readonly&response_type=code\n",
            "\n",
            "Enter your authorization code:\n",
            "··········\n",
            "Mounted at /content/drive\n"
          ],
          "name": "stdout"
        }
      ]
    },
    {
      "metadata": {
        "id": "zKYcQpI6WCoP",
        "colab_type": "code",
        "colab": {}
      },
      "cell_type": "code",
      "source": [
        "y_data=pd.read_excel(\"/content/drive/My Drive/Colab Notebooks/model_vs_data/Coron_Mars_H24to48_dir/y_data.xlsx\")\n",
        "x_data=pd.read_csv(\"/content/drive/My Drive/Colab Notebooks/model_vs_data/Coron_Mars_H24to48_dir/x_data\",usecols=range(1,10))"
      ],
      "execution_count": 0,
      "outputs": []
    },
    {
      "metadata": {
        "id": "4zBkI58Jmt1W",
        "colab_type": "code",
        "colab": {}
      },
      "cell_type": "code",
      "source": [
        "NE=y_data[(y_data[\"value\"]>22.5) & (y_data[\"value\"]<67.5)]\n",
        "NE[\"label\"]=\"NE\"\n",
        "E=y_data[(y_data[\"value\"]>67.5) & (y_data[\"value\"]<112.5)]\n",
        "E[\"label\"]=\"E\"\n",
        "SE=y_data[(y_data[\"value\"]>112.5) & (y_data[\"value\"]<157.5)]\n",
        "SE[\"label\"]=\"SE\"\n",
        "S=y_data[(y_data[\"value\"]>157.5) & (y_data[\"value\"]<202.5)]\n",
        "S[\"label\"]=\"S\"\n",
        "SW=y_data[(y_data[\"value\"]>202.5) & (y_data[\"value\"]<247.5)]\n",
        "SW[\"label\"]=\"SW\"\n",
        "W=y_data[(y_data[\"value\"]>247.5) & (y_data[\"value\"]<292.5)]\n",
        "W[\"label\"]=\"W\"\n",
        "NW=y_data[(y_data[\"value\"]>292.5) & (y_data[\"value\"]<337.5)]\n",
        "NW[\"label\"]=\"NW\"\n",
        "N=y_data[(y_data[\"value\"]>337.5) | (y_data[\"value\"]<22.5)]\n",
        "N[\"label\"]=\"N\"\n",
        "winds=[NE,N,E,SE,S,SW,W,NW]\n",
        "y_data=pd.concat(winds)\n",
        "y_data=y_data.sort_values(by=\"DATA (Horario UTC)\")"
      ],
      "execution_count": 0,
      "outputs": []
    },
    {
      "metadata": {
        "id": "TWNCUPsBWyx3",
        "colab_type": "code",
        "colab": {}
      },
      "cell_type": "code",
      "source": [
        "x_train, x_test, y_train, y_test = train_test_split(x_data,y_data[\"label\"], test_size=0.4, random_state=5)"
      ],
      "execution_count": 0,
      "outputs": []
    },
    {
      "metadata": {
        "id": "2l8aEPL-2MTm",
        "colab_type": "text"
      },
      "cell_type": "markdown",
      "source": [
        "**Classifier SVM**"
      ]
    },
    {
      "metadata": {
        "id": "DYbRo9V-XPzK",
        "colab_type": "code",
        "outputId": "21ddbab6-48f8-41b4-a002-9fe611c285fa",
        "colab": {
          "base_uri": "https://localhost:8080/",
          "height": 474
        }
      },
      "cell_type": "code",
      "source": [
        "y_pred=svm.SVC(gamma='scale').fit(x_train,y_train).predict(x_test)\n",
        "evaluate(y_test,y_pred)\n"
      ],
      "execution_count": 0,
      "outputs": [
        {
          "output_type": "stream",
          "text": [
            "    E  N   NE  NW  S  SE  SW  W\n",
            "E   0  0   16   0  0   0   0  0\n",
            "N   0  0   16   0  0   0   0  0\n",
            "NE  0  0  138   0  0   0   0  0\n",
            "NW  0  0    9   0  0   0   0  0\n",
            "S   0  0   12   0  0   0   0  0\n",
            "SE  0  0    8   0  0   0   0  0\n",
            "SW  0  0   23   0  0   0   0  0\n",
            "W   0  0   18   0  0   0   0  0\n",
            "****************\n",
            "Accuracy= 57.50%  Model Accuracy=32.17%\n",
            "****************\n",
            "Average precision = 7.19%  Model precision=21.03%\n",
            "Average recall = 12.50%  Model recall=21.71%\n",
            "       Precision  Recall        F1\n",
            "W_DIR                             \n",
            "E          0.000     0.0  0.000000\n",
            "N          0.000     0.0  0.000000\n",
            "NE         0.575     1.0  0.730159\n",
            "NW         0.000     0.0  0.000000\n",
            "S          0.000     0.0  0.000000\n",
            "SE         0.000     0.0  0.000000\n",
            "SW         0.000     0.0  0.000000\n",
            "W          0.000     0.0  0.000000\n"
          ],
          "name": "stdout"
        },
        {
          "output_type": "stream",
          "text": [
            "/usr/local/lib/python3.6/dist-packages/sklearn/metrics/classification.py:1143: UndefinedMetricWarning: Precision and F-score are ill-defined and being set to 0.0 in labels with no predicted samples.\n",
            "  'precision', 'predicted', average, warn_for)\n"
          ],
          "name": "stderr"
        }
      ]
    },
    {
      "metadata": {
        "id": "HYIyQnM42fmV",
        "colab_type": "text"
      },
      "cell_type": "markdown",
      "source": [
        "**Classifier Dummy**"
      ]
    },
    {
      "metadata": {
        "id": "oD_A9aXY36oX",
        "colab_type": "code",
        "outputId": "8368f518-d148-425a-cd5a-e74154ab4b58",
        "colab": {
          "base_uri": "https://localhost:8080/",
          "height": 474
        }
      },
      "cell_type": "code",
      "source": [
        "y_pred = DummyClassifier(strategy='most_frequent').fit(x_train, y_train).predict(x_test)\n",
        "evaluate(y_test,y_pred)\n",
        "\n"
      ],
      "execution_count": 0,
      "outputs": [
        {
          "output_type": "stream",
          "text": [
            "    E  N   NE  NW  S  SE  SW  W\n",
            "E   0  0   16   0  0   0   0  0\n",
            "N   0  0   16   0  0   0   0  0\n",
            "NE  0  0  138   0  0   0   0  0\n",
            "NW  0  0    9   0  0   0   0  0\n",
            "S   0  0   12   0  0   0   0  0\n",
            "SE  0  0    8   0  0   0   0  0\n",
            "SW  0  0   23   0  0   0   0  0\n",
            "W   0  0   18   0  0   0   0  0\n",
            "****************\n",
            "Accuracy= 57.50%  Model Accuracy=32.17%\n",
            "****************\n",
            "Average precision = 7.19%  Model precision=21.03%\n",
            "Average recall = 12.50%  Model recall=21.71%\n",
            "       Precision  Recall        F1\n",
            "W_DIR                             \n",
            "E          0.000     0.0  0.000000\n",
            "N          0.000     0.0  0.000000\n",
            "NE         0.575     1.0  0.730159\n",
            "NW         0.000     0.0  0.000000\n",
            "S          0.000     0.0  0.000000\n",
            "SE         0.000     0.0  0.000000\n",
            "SW         0.000     0.0  0.000000\n",
            "W          0.000     0.0  0.000000\n"
          ],
          "name": "stdout"
        },
        {
          "output_type": "stream",
          "text": [
            "/usr/local/lib/python3.6/dist-packages/sklearn/metrics/classification.py:1143: UndefinedMetricWarning: Precision and F-score are ill-defined and being set to 0.0 in labels with no predicted samples.\n",
            "  'precision', 'predicted', average, warn_for)\n"
          ],
          "name": "stderr"
        }
      ]
    },
    {
      "metadata": {
        "id": "vgQWg4vX5rwp",
        "colab_type": "text"
      },
      "cell_type": "markdown",
      "source": [
        "**Classifier Randomforest**"
      ]
    },
    {
      "metadata": {
        "id": "pK3aW52-6BbO",
        "colab_type": "code",
        "outputId": "b4bae87b-7bf5-4af7-960a-d2eac1ea7da0",
        "colab": {
          "base_uri": "https://localhost:8080/",
          "height": 420
        }
      },
      "cell_type": "code",
      "source": [
        "y_pred = RandomForestClassifier(n_estimators=20).fit(x_train, y_train).predict(x_test)\n",
        "evaluate(y_test,y_pred)"
      ],
      "execution_count": 60,
      "outputs": [
        {
          "output_type": "stream",
          "text": [
            "    E  N   NE  NW  S  SE  SW  W\n",
            "E   0  0   16   0  0   0   0  0\n",
            "N   0  3   12   0  0   0   0  1\n",
            "NE  4  5  121   3  1   0   2  2\n",
            "NW  0  0    7   1  0   0   1  0\n",
            "S   0  2    9   0  0   0   1  0\n",
            "SE  0  1    7   0  0   0   0  0\n",
            "SW  0  4   17   0  1   0   0  1\n",
            "W   0  1   12   0  0   1   2  2\n",
            "****************\n",
            "Accuracy= 52.92%  Model Accuracy=32.17%\n",
            "****************\n",
            "Average precision = 17.16%  Model precision=21.03%\n",
            "Average recall = 16.08%  Model recall=21.71%\n",
            "       Precision    Recall        F1\n",
            "W_DIR                               \n",
            "E       0.000000  0.000000  0.000000\n",
            "N       0.187500  0.187500  0.187500\n",
            "NE      0.601990  0.876812  0.713864\n",
            "NW      0.250000  0.111111  0.153846\n",
            "S       0.000000  0.000000  0.000000\n",
            "SE      0.000000  0.000000  0.000000\n",
            "SW      0.000000  0.000000  0.000000\n",
            "W       0.333333  0.111111  0.166667\n"
          ],
          "name": "stdout"
        }
      ]
    },
    {
      "metadata": {
        "id": "BiLR2dmh9gJk",
        "colab_type": "text"
      },
      "cell_type": "markdown",
      "source": [
        "**Oversample minority class**"
      ]
    },
    {
      "metadata": {
        "id": "4gazh0jZCCgC",
        "colab_type": "code",
        "colab": {}
      },
      "cell_type": "code",
      "source": [
        "x_train, x_test, y_train, y_test = train_test_split(x_data,y_data[\"label\"], test_size=0.4, random_state=5)\n",
        "X = pd.concat([x_train, y_train], axis=1)\n",
        "not_NE = X[X[\"label\"]!=\"NE\"]\n",
        "NE = X[X[\"label\"]==\"NE\"]\n",
        "not_NE_upsampled = resample(not_NE,\n",
        "                          replace=True, # sample with replacement\n",
        "                          n_samples=len(not_NE), # match number in majority class\n",
        "                          random_state=27) # reproducible results\n",
        "upsampled = pd.concat([NE, not_NE_upsampled])\n",
        "y_train=upsampled[\"label\"]\n",
        "x_train=upsampled.drop(\"label\",axis=1)\n"
      ],
      "execution_count": 0,
      "outputs": []
    },
    {
      "metadata": {
        "id": "4gOaGVFgQ-KZ",
        "colab_type": "code",
        "colab": {
          "base_uri": "https://localhost:8080/",
          "height": 474
        },
        "outputId": "a0398791-d5d6-467e-b495-25acd194fd4c"
      },
      "cell_type": "code",
      "source": [
        "y_pred = RandomForestClassifier(n_estimators=20).fit(x_train, y_train).predict(x_test)\n",
        "evaluate(y_test,y_pred)"
      ],
      "execution_count": 58,
      "outputs": [
        {
          "output_type": "stream",
          "text": [
            "    E  N   NE  NW  S  SE  SW  W\n",
            "E   0  0   16   0  0   0   0  0\n",
            "N   0  2   12   0  2   0   0  0\n",
            "NE  0  1  125   0  2   1   5  4\n",
            "NW  0  0    8   0  0   0   1  0\n",
            "S   0  1    9   0  0   2   0  0\n",
            "SE  0  1    7   0  0   0   0  0\n",
            "SW  0  2   17   0  1   1   1  1\n",
            "W   0  1   12   0  0   0   3  2\n",
            "****************\n",
            "Accuracy= 54.17%  Model Accuracy=32.17%\n",
            "****************\n",
            "Average precision = 15.53%  Model precision=21.03%\n",
            "Average recall = 14.82%  Model recall=21.71%\n",
            "       Precision    Recall        F1\n",
            "W_DIR                               \n",
            "E       0.000000  0.000000  0.000000\n",
            "N       0.250000  0.125000  0.166667\n",
            "NE      0.606796  0.905797  0.726744\n",
            "NW      0.000000  0.000000  0.000000\n",
            "S       0.000000  0.000000  0.000000\n",
            "SE      0.000000  0.000000  0.000000\n",
            "SW      0.100000  0.043478  0.060606\n",
            "W       0.285714  0.111111  0.160000\n"
          ],
          "name": "stdout"
        },
        {
          "output_type": "stream",
          "text": [
            "/usr/local/lib/python3.6/dist-packages/sklearn/metrics/classification.py:1143: UndefinedMetricWarning: Precision and F-score are ill-defined and being set to 0.0 in labels with no predicted samples.\n",
            "  'precision', 'predicted', average, warn_for)\n"
          ],
          "name": "stderr"
        }
      ]
    }
  ]
}