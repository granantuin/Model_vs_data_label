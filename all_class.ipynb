{
  "nbformat": 4,
  "nbformat_minor": 0,
  "metadata": {
    "colab": {
      "name": "all_class.ipynb",
      "version": "0.3.2",
      "provenance": [],
      "collapsed_sections": [],
      "include_colab_link": true
    },
    "kernelspec": {
      "name": "python3",
      "display_name": "Python 3"
    }
  },
  "cells": [
    {
      "cell_type": "markdown",
      "metadata": {
        "id": "view-in-github",
        "colab_type": "text"
      },
      "source": [
        "<a href=\"https://colab.research.google.com/github/granantuin/Model_vs_data_label/blob/master/all_class.ipynb\" target=\"_parent\"><img src=\"https://colab.research.google.com/assets/colab-badge.svg\" alt=\"Open In Colab\"/></a>"
      ]
    },
    {
      "metadata": {
        "id": "eKAeeLLI18Qj",
        "colab_type": "code",
        "colab": {}
      },
      "cell_type": "code",
      "source": [
        "from sklearn.metrics import precision_recall_fscore_support,confusion_matrix,accuracy_score\n",
        "import pandas as pd\n",
        "import numpy as np\n",
        "import seaborn as sns\n",
        "import matplotlib.pyplot as plt\n",
        "from sklearn.model_selection import train_test_split,cross_val_score,cross_validate,GridSearchCV\n",
        "from sklearn import svm\n",
        "from sklearn.dummy import DummyClassifier\n",
        "from sklearn.ensemble import RandomForestClassifier\n",
        "from sklearn.utils import resample\n",
        "from imblearn.over_sampling import SMOTE\n",
        "from sklearn.model_selection import RandomizedSearchCV"
      ],
      "execution_count": 0,
      "outputs": []
    },
    {
      "metadata": {
        "id": "YSxUuEeOB4vV",
        "colab_type": "code",
        "colab": {}
      },
      "cell_type": "code",
      "source": [
        "def evaluate(y_test,y_pred):\n",
        "  index=[\"E\",\"N\",\"NE\",\"NW\",\"S\",\"SE\",\"SW\",\"W\"]\n",
        "  print(pd.DataFrame(confusion_matrix(y_test, y_pred), index=index, columns=index))\n",
        "  print(\"****************\")\n",
        "  print(\"Accuracy=\",\"{:.2%}\".format(accuracy_score(y_test, y_pred)),\" Model Accuracy=32.17%\")\n",
        "  print(\"****************\")\n",
        "  results= precision_recall_fscore_support(y_test, y_pred, average=None, )\n",
        "  df=pd.DataFrame({\"Precision\":results[0],\"Recall\":results[1],\"F1\":results[2],\"W_DIR\":index})\n",
        "  df=df.set_index(\"W_DIR\")\n",
        "  print(\"Average precision =\",\"{:.2%}\".format(df[\"Precision\"].mean()),\" Model precision=21.03%\")\n",
        "  print(\"Average recall =\",\"{:.2%}\".format(df[\"Recall\"].mean()),\" Model recall=21.71%\")\n",
        "  print(df)\n",
        "  "
      ],
      "execution_count": 0,
      "outputs": []
    },
    {
      "metadata": {
        "id": "D6Kp-M-UUxW5",
        "colab_type": "code",
        "outputId": "af7d21f6-6666-407f-b041-944d532b7195",
        "colab": {
          "base_uri": "https://localhost:8080/",
          "height": 34
        }
      },
      "cell_type": "code",
      "source": [
        "\n",
        "from google.colab import drive\n",
        "drive.mount('/content/drive')\n"
      ],
      "execution_count": 3,
      "outputs": [
        {
          "output_type": "stream",
          "text": [
            "Drive already mounted at /content/drive; to attempt to forcibly remount, call drive.mount(\"/content/drive\", force_remount=True).\n"
          ],
          "name": "stdout"
        }
      ]
    },
    {
      "metadata": {
        "id": "zKYcQpI6WCoP",
        "colab_type": "code",
        "colab": {}
      },
      "cell_type": "code",
      "source": [
        "y_data=pd.read_excel(\"/content/drive/My Drive/Colab Notebooks/model_vs_data/Coron_Mars_H24to48_dir/y_data.xlsx\")\n",
        "x_data=pd.read_csv(\"/content/drive/My Drive/Colab Notebooks/model_vs_data/Coron_Mars_H24to48_dir/x_data\",usecols=range(1,10))"
      ],
      "execution_count": 0,
      "outputs": []
    },
    {
      "metadata": {
        "id": "4zBkI58Jmt1W",
        "colab_type": "code",
        "colab": {}
      },
      "cell_type": "code",
      "source": [
        "NE=y_data[(y_data[\"value\"]>22.5) & (y_data[\"value\"]<67.5)]\n",
        "NE[\"label\"]=\"NE\"\n",
        "E=y_data[(y_data[\"value\"]>67.5) & (y_data[\"value\"]<112.5)]\n",
        "E[\"label\"]=\"E\"\n",
        "SE=y_data[(y_data[\"value\"]>112.5) & (y_data[\"value\"]<157.5)]\n",
        "SE[\"label\"]=\"SE\"\n",
        "S=y_data[(y_data[\"value\"]>157.5) & (y_data[\"value\"]<202.5)]\n",
        "S[\"label\"]=\"S\"\n",
        "SW=y_data[(y_data[\"value\"]>202.5) & (y_data[\"value\"]<247.5)]\n",
        "SW[\"label\"]=\"SW\"\n",
        "W=y_data[(y_data[\"value\"]>247.5) & (y_data[\"value\"]<292.5)]\n",
        "W[\"label\"]=\"W\"\n",
        "NW=y_data[(y_data[\"value\"]>292.5) & (y_data[\"value\"]<337.5)]\n",
        "NW[\"label\"]=\"NW\"\n",
        "N=y_data[(y_data[\"value\"]>337.5) | (y_data[\"value\"]<22.5)]\n",
        "N[\"label\"]=\"N\"\n",
        "winds=[NE,N,E,SE,S,SW,W,NW]\n",
        "y_data=pd.concat(winds)\n",
        "y_data=y_data.sort_values(by=\"DATA (Horario UTC)\")"
      ],
      "execution_count": 0,
      "outputs": []
    },
    {
      "metadata": {
        "id": "TWNCUPsBWyx3",
        "colab_type": "code",
        "colab": {}
      },
      "cell_type": "code",
      "source": [
        ""
      ],
      "execution_count": 0,
      "outputs": []
    },
    {
      "metadata": {
        "id": "2l8aEPL-2MTm",
        "colab_type": "text"
      },
      "cell_type": "markdown",
      "source": [
        "**Classifier SVM**"
      ]
    },
    {
      "metadata": {
        "id": "DYbRo9V-XPzK",
        "colab_type": "code",
        "colab": {}
      },
      "cell_type": "code",
      "source": [
        "x_train, x_test, y_train, y_test = train_test_split(x_data,y_data[\"label\"], test_size=0.25, random_state=5)\n",
        "y_pred=svm.SVC().fit(x_train,y_train).predict(x_test)\n",
        "evaluate(y_test,y_pred)\n"
      ],
      "execution_count": 0,
      "outputs": []
    },
    {
      "metadata": {
        "id": "HYIyQnM42fmV",
        "colab_type": "text"
      },
      "cell_type": "markdown",
      "source": [
        "**Classifier Dummy**"
      ]
    },
    {
      "metadata": {
        "id": "oD_A9aXY36oX",
        "colab_type": "code",
        "colab": {}
      },
      "cell_type": "code",
      "source": [
        "x_train, x_test, y_train, y_test = train_test_split(x_data,y_data[\"label\"], test_size=0.25, random_state=5)\n",
        "y_pred=svm.SVC().fit(x_train,y_train).predict(x_test)\n",
        "y_pred = DummyClassifier(strategy='most_frequent').fit(x_train, y_train).predict(x_test)\n",
        "evaluate(y_test,y_pred)\n",
        "\n"
      ],
      "execution_count": 0,
      "outputs": []
    },
    {
      "metadata": {
        "id": "vgQWg4vX5rwp",
        "colab_type": "text"
      },
      "cell_type": "markdown",
      "source": [
        "**Classifier Randomforest**"
      ]
    },
    {
      "metadata": {
        "id": "pK3aW52-6BbO",
        "colab_type": "code",
        "colab": {}
      },
      "cell_type": "code",
      "source": [
        "x_train, x_test, y_train, y_test = train_test_split(x_data,y_data[\"label\"], test_size=0.25, random_state=5)\n",
        "y_pred=svm.SVC().fit(x_train,y_train).predict(x_test)\n",
        "y_pred = RandomForestClassifier(n_estimators=20).fit(x_train, y_train).predict(x_test)\n",
        "evaluate(y_test,y_pred)"
      ],
      "execution_count": 0,
      "outputs": []
    },
    {
      "metadata": {
        "id": "BiLR2dmh9gJk",
        "colab_type": "text"
      },
      "cell_type": "markdown",
      "source": [
        "**Oversample minority class**"
      ]
    },
    {
      "metadata": {
        "id": "4gazh0jZCCgC",
        "colab_type": "code",
        "colab": {}
      },
      "cell_type": "code",
      "source": [
        "x_train, x_test, y_train, y_test = train_test_split(x_data,y_data[\"label\"], test_size=0.25, random_state=5)\n",
        "X = pd.concat([x_train, y_train], axis=1)\n",
        "not_NE = X[X[\"label\"]!=\"NE\"]\n",
        "NE = X[X[\"label\"]==\"NE\"]\n",
        "not_NE_upsampled = resample(not_NE,\n",
        "                          replace=True, # sample with replacement\n",
        "                          n_samples=len(not_NE), # match number in majority class\n",
        "                          random_state=27) # reproducible results\n",
        "upsampled = pd.concat([NE, not_NE_upsampled])\n",
        "y_train=upsampled[\"label\"]\n",
        "x_train=upsampled.drop(\"label\",axis=1)\n",
        "y_pred = RandomForestClassifier(n_estimators=20).fit(x_train, y_train).predict(x_test)\n",
        "evaluate(y_test,y_pred)\n"
      ],
      "execution_count": 0,
      "outputs": []
    },
    {
      "metadata": {
        "id": "y7mBo3DUTHGt",
        "colab_type": "text"
      },
      "cell_type": "markdown",
      "source": [
        "**Generate synthetic samples**"
      ]
    },
    {
      "metadata": {
        "id": "S5TFloYJVBOk",
        "colab_type": "code",
        "colab": {}
      },
      "cell_type": "code",
      "source": [
        "x_train, x_test, y_train, y_test = train_test_split(x_data, y_data, test_size=0.25, random_state=27)\n",
        "print(\"Original train samples=\",x_train.shape[0])\n",
        "#y_pred = RandomForestClassifier(n_estimators=15).fit(x_train, y_train).predict(x_test)\n",
        "#evaluate(y_test[\"label\"],y_pred)\n",
        "\n",
        "sm = SMOTE(random_state=27,)\n",
        "x_train, y_train = sm.fit_sample(x_train, y_train[\"label\"])\n",
        "print(\"Synthetic train samples=\",x_train.shape[0])\n",
        "print(\"****Randomforest****\")\n",
        "y_pred = RandomForestClassifier(n_estimators=15).fit(x_train, y_train).predict(x_test)\n",
        "evaluate(y_test[\"label\"],y_pred)\n",
        "print(\"****SVM****\")\n",
        "y_pred=svm.SVC().fit(x_train,y_train).predict(x_test)\n",
        "evaluate(y_test[\"label\"],y_pred)\n"
      ],
      "execution_count": 0,
      "outputs": []
    },
    {
      "metadata": {
        "id": "cGrTM2wN9YxG",
        "colab_type": "text"
      },
      "cell_type": "markdown",
      "source": [
        "**Cross validation K_folds**"
      ]
    },
    {
      "metadata": {
        "id": "AP6Cpp4u9in-",
        "colab_type": "code",
        "colab": {}
      },
      "cell_type": "code",
      "source": [
        "clf=RandomForestClassifier(n_estimators=15)\n",
        "scoring = ['precision_macro', 'recall_macro','f1_macro',\"accuracy\"]\n",
        "scores = cross_validate(clf, x_data, y_data[\"label\"], scoring=scoring,\n",
        "                        cv=5, return_train_score=False)\n",
        "print(\"Accuracy: {:.2%} (+/- {:.2%})\" .format (scores[\"test_accuracy\"].mean(), scores[\"test_accuracy\"].std() * 2))\n",
        "print(\"Recall: {:.2%} (+/- {:.2%})\" .format (scores[\"test_recall_macro\"].mean(), scores[\"test_recall_macro\"].std() * 2))\n",
        "print(\"Precision: {:.2%} (+/- {:.2%})\" .format (scores[\"test_precision_macro\"].mean(), scores[\"test_precision_macro\"].std() * 2))\n",
        "print(\"f1: {:.2%} (+/-{:.2%} )\".format (scores[\"test_f1_macro\"].mean(), scores[\"test_f1_macro\"].std() * 2))"
      ],
      "execution_count": 0,
      "outputs": []
    },
    {
      "metadata": {
        "id": "_xwqYe34xCEt",
        "colab_type": "text"
      },
      "cell_type": "markdown",
      "source": [
        "**Tuning SVM**"
      ]
    },
    {
      "metadata": {
        "id": "Xz5ttTxJxBmv",
        "colab_type": "code",
        "colab": {}
      },
      "cell_type": "code",
      "source": [
        "x_train, x_test, y_train, y_test = train_test_split(x_data, y_data, test_size=0.25, random_state=27)\n",
        "tuned_parameters = {'kernel': ['rbf'], 'gamma': [1e-3, 1e-4], 'C': [1, 10, 100, 1000]}\n",
        "#Generate synthetic samples\n",
        "sm = SMOTE(random_state=27,)\n",
        "x_train, y_train = sm.fit_sample(x_train, y_train[\"label\"])\n",
        "clf = GridSearchCV(svm.SVC(), tuned_parameters,scoring=\"f1_macro\", cv=5).fit(x_train, y_train)\n",
        "                    \n",
        "print(\"Best parameters=\",clf.best_params_)\n",
        "print(\"Best F1=\",clf.best_score_)\n",
        "#SVC(C=1000, gamma=0.001, kernel='rbf')\n"
      ],
      "execution_count": 0,
      "outputs": []
    },
    {
      "metadata": {
        "id": "CKVqI6LeSAly",
        "colab_type": "text"
      },
      "cell_type": "markdown",
      "source": [
        "**Evaluate SVM with best parameters**"
      ]
    },
    {
      "metadata": {
        "id": "8dyekuSnST1T",
        "colab_type": "code",
        "colab": {}
      },
      "cell_type": "code",
      "source": [
        "x_train, x_test, y_train, y_test = train_test_split(x_data, y_data, test_size=0.25, random_state=27)\n",
        "#Generate synthetic samples\n",
        "sm = SMOTE(random_state=27,)\n",
        "x_train, y_train = sm.fit_sample(x_train, y_train[\"label\"])\n",
        "y_pred=svm.SVC(C=1000, gamma=0.001, kernel='rbf').fit(x_train,y_train).predict(x_test)\n",
        "evaluate(y_test[\"label\"],y_pred)"
      ],
      "execution_count": 0,
      "outputs": []
    },
    {
      "metadata": {
        "id": "DzftoqKdTSbC",
        "colab_type": "text"
      },
      "cell_type": "markdown",
      "source": [
        "**Tuning RandomForestClassifier**"
      ]
    },
    {
      "metadata": {
        "id": "stSi4FO1UEre",
        "colab_type": "code",
        "colab": {
          "base_uri": "https://localhost:8080/",
          "height": 84
        },
        "outputId": "da981b3e-a349-4ed5-db3c-459f25503987"
      },
      "cell_type": "code",
      "source": [
        "x_train, x_test, y_train, y_test = train_test_split(x_data, y_data, test_size=0.25, random_state=27)\n",
        "# Number of trees in random forest\n",
        "n_estimators = [int(x) for x in np.linspace(start = 200, stop = 2000, num = 10)]\n",
        "# Number of features to consider at every split\n",
        "max_features = ['auto', 'sqrt']\n",
        "# Maximum number of levels in tree\n",
        "max_depth = [int(x) for x in np.linspace(10, 110, num = 11)]\n",
        "max_depth.append(None)\n",
        "# Minimum number of samples required to split a node\n",
        "min_samples_split = [2, 5, 10]\n",
        "# Minimum number of samples required at each leaf node\n",
        "min_samples_leaf = [1, 2, 4]\n",
        "# Method of selecting samples for training each tree\n",
        "bootstrap = [True, False]\n",
        "# Create the random grid\n",
        "random_grid = {'n_estimators': n_estimators,\n",
        "               'max_features': max_features,\n",
        "               'max_depth': max_depth,\n",
        "               'min_samples_split': min_samples_split,\n",
        "               'min_samples_leaf': min_samples_leaf,\n",
        "               'bootstrap': bootstrap}\n",
        "\n",
        "# Use the random grid to search for best hyperparameters\n",
        "# First create the base model to tune\n",
        "rf = RandomForestClassifier()\n",
        "# Random search of parameters, using 3 fold cross validation, \n",
        "# search across 100 different combinations, and use all available cores\n",
        "rf_random = RandomizedSearchCV(estimator = rf, param_distributions = random_grid, n_iter = 5, cv = 3, verbose=2, random_state=42, n_jobs = -1)\n",
        "# Fit the random search model\n",
        "# Synthetic samples\n",
        "sm = SMOTE(random_state=27,)\n",
        "x_train, y_train = sm.fit_sample(x_train, y_train[\"label\"])\n",
        "rf_random.fit(x_train, y_train)\n",
        "print(\"best parameters\",rf_random.best_params_)"
      ],
      "execution_count": 24,
      "outputs": [
        {
          "output_type": "stream",
          "text": [
            "Fitting 3 folds for each of 5 candidates, totalling 15 fits\n"
          ],
          "name": "stdout"
        },
        {
          "output_type": "stream",
          "text": [
            "[Parallel(n_jobs=-1)]: Using backend LokyBackend with 2 concurrent workers.\n",
            "[Parallel(n_jobs=-1)]: Done  15 out of  15 | elapsed:   43.0s finished\n"
          ],
          "name": "stderr"
        },
        {
          "output_type": "stream",
          "text": [
            "best parameters {'n_estimators': 1400, 'min_samples_split': 5, 'min_samples_leaf': 1, 'max_features': 'sqrt', 'max_depth': 30, 'bootstrap': True}\n"
          ],
          "name": "stdout"
        }
      ]
    },
    {
      "metadata": {
        "id": "pUyO-ldQakio",
        "colab_type": "code",
        "colab": {
          "base_uri": "https://localhost:8080/",
          "height": 134
        },
        "outputId": "00d2be91-b3c2-42ad-b787-e8b81b0c9305"
      },
      "cell_type": "code",
      "source": [
        "RandomForestClassifier()"
      ],
      "execution_count": 25,
      "outputs": [
        {
          "output_type": "execute_result",
          "data": {
            "text/plain": [
              "RandomForestClassifier(bootstrap=True, class_weight=None, criterion='gini',\n",
              "            max_depth=None, max_features='auto', max_leaf_nodes=None,\n",
              "            min_impurity_decrease=0.0, min_impurity_split=None,\n",
              "            min_samples_leaf=1, min_samples_split=2,\n",
              "            min_weight_fraction_leaf=0.0, n_estimators='warn', n_jobs=None,\n",
              "            oob_score=False, random_state=None, verbose=0,\n",
              "            warm_start=False)"
            ]
          },
          "metadata": {
            "tags": []
          },
          "execution_count": 25
        }
      ]
    }
  ]
}