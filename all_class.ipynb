{
  "nbformat": 4,
  "nbformat_minor": 0,
  "metadata": {
    "colab": {
      "name": "all_class.ipynb",
      "version": "0.3.2",
      "provenance": [],
      "collapsed_sections": [],
      "include_colab_link": true
    },
    "kernelspec": {
      "name": "python3",
      "display_name": "Python 3"
    }
  },
  "cells": [
    {
      "cell_type": "markdown",
      "metadata": {
        "id": "view-in-github",
        "colab_type": "text"
      },
      "source": [
        "<a href=\"https://colab.research.google.com/github/granantuin/Model_vs_data_label/blob/master/all_class.ipynb\" target=\"_parent\"><img src=\"https://colab.research.google.com/assets/colab-badge.svg\" alt=\"Open In Colab\"/></a>"
      ]
    },
    {
      "metadata": {
        "id": "eKAeeLLI18Qj",
        "colab_type": "code",
        "colab": {}
      },
      "cell_type": "code",
      "source": [
        "from sklearn.metrics import precision_recall_fscore_support,confusion_matrix,accuracy_score\n",
        "import pandas as pd\n",
        "import numpy as np\n",
        "import seaborn as sns\n",
        "import matplotlib.pyplot as plt\n",
        "from sklearn.model_selection import train_test_split,cross_val_score,cross_validate,GridSearchCV\n",
        "from sklearn import svm\n",
        "from sklearn.dummy import DummyClassifier\n",
        "from sklearn.ensemble import RandomForestClassifier\n",
        "from sklearn.utils import resample\n",
        "from imblearn.over_sampling import SMOTE\n",
        "from sklearn.model_selection import RandomizedSearchCV"
      ],
      "execution_count": 0,
      "outputs": []
    },
    {
      "metadata": {
        "id": "ri6lpXgZ8l76",
        "colab_type": "code",
        "colab": {}
      },
      "cell_type": "code",
      "source": [
        "def evaluate(y_test,y_pred):\n",
        "  index=[\"E\",\"N\",\"NE\",\"NW\",\"S\",\"SE\",\"SW\",\"W\"]\n",
        "  print(pd.DataFrame(confusion_matrix(y_test, y_pred), index=index, columns=index))\n",
        "  print(\"****************\")\n",
        "  print(\"Accuracy=\",\"{:.2%}\".format(accuracy_score(y_test, y_pred)),\"// Model Accuracy=45%\")\n",
        "  results= precision_recall_fscore_support(y_test, y_pred, average=None, )\n",
        "  df=pd.DataFrame({\"Precision\":results[0],\"Recall\":results[1],\"F1\":results[2],\"W_DIR\":index})\n",
        "  df=df.set_index(\"W_DIR\")\n",
        "  print(\"Average precision =\",\"{:.2%}\".format(df[\"Precision\"].mean()),\"// Model precision=28%\")\n",
        "  print(\"Average recall =\",\"{:.2%}\".format(df[\"Recall\"].mean()),\"// Model recall=28%\")\n",
        "  results= precision_recall_fscore_support(y_test, y_pred, average='weighted', )\n",
        "  print(\"Precision weighted=\",\"{:.2%}\".format(results[0]),\"//Model weighted=56%\")\n",
        "  print(\"Recall weighted =\",\"{:.2%}\".format(results[1]),\"//Model weighted=53%\")\n",
        "  print(\"****************\")\n",
        "  print(df)"
      ],
      "execution_count": 0,
      "outputs": []
    },
    {
      "metadata": {
        "id": "D6Kp-M-UUxW5",
        "colab_type": "code",
        "colab": {}
      },
      "cell_type": "code",
      "source": [
        "\n",
        "from google.colab import drive\n",
        "drive.mount('/content/drive')\n"
      ],
      "execution_count": 0,
      "outputs": []
    },
    {
      "metadata": {
        "id": "fMNa4r9hUI_G",
        "colab_type": "code",
        "colab": {}
      },
      "cell_type": "code",
      "source": [
        "drive_4km=\"/content/drive/My Drive/Colab Notebooks/model_vs_data/Coron_4km_h24toh48_dir/\"\n",
        "drive_1km=\"/content/drive/My Drive/Colab Notebooks/model_vs_data/Coron_Mars_H24to48_dir/\"\n",
        "dr=[drive_4km,drive_1km]"
      ],
      "execution_count": 0,
      "outputs": []
    },
    {
      "metadata": {
        "id": "UuxP1P0MUQnF",
        "colab_type": "code",
        "colab": {}
      },
      "cell_type": "code",
      "source": [
        "y_data=pd.read_excel(dr[1]+\"y_data.xlsx\")\n",
        "x_data=pd.read_csv(dr[1]+\"x_data\",usecols=range(1,10))"
      ],
      "execution_count": 0,
      "outputs": []
    },
    {
      "metadata": {
        "id": "4zBkI58Jmt1W",
        "colab_type": "code",
        "colab": {}
      },
      "cell_type": "code",
      "source": [
        "NE=y_data[(y_data[\"value\"]>22.5) & (y_data[\"value\"]<67.5)]\n",
        "NE[\"label\"]=\"NE\"\n",
        "E=y_data[(y_data[\"value\"]>67.5) & (y_data[\"value\"]<112.5)]\n",
        "E[\"label\"]=\"E\"\n",
        "SE=y_data[(y_data[\"value\"]>112.5) & (y_data[\"value\"]<157.5)]\n",
        "SE[\"label\"]=\"SE\"\n",
        "S=y_data[(y_data[\"value\"]>157.5) & (y_data[\"value\"]<202.5)]\n",
        "S[\"label\"]=\"S\"\n",
        "SW=y_data[(y_data[\"value\"]>202.5) & (y_data[\"value\"]<247.5)]\n",
        "SW[\"label\"]=\"SW\"\n",
        "W=y_data[(y_data[\"value\"]>247.5) & (y_data[\"value\"]<292.5)]\n",
        "W[\"label\"]=\"W\"\n",
        "NW=y_data[(y_data[\"value\"]>292.5) & (y_data[\"value\"]<337.5)]\n",
        "NW[\"label\"]=\"NW\"\n",
        "N=y_data[(y_data[\"value\"]>337.5) | (y_data[\"value\"]<22.5)]\n",
        "N[\"label\"]=\"N\"\n",
        "winds=[NE,N,E,SE,S,SW,W,NW]\n",
        "y_data=pd.concat(winds)\n",
        "y_data=y_data.sort_values(by=\"date\")"
      ],
      "execution_count": 0,
      "outputs": []
    },
    {
      "metadata": {
        "id": "7YH5BxoIW0fZ",
        "colab_type": "text"
      },
      "cell_type": "markdown",
      "source": [
        "**Display**"
      ]
    },
    {
      "metadata": {
        "id": "FlFMv1aYVNWc",
        "colab_type": "code",
        "colab": {}
      },
      "cell_type": "code",
      "source": [
        "pd.concat([x_data,y_data],axis=1).set_index('date')"
      ],
      "execution_count": 0,
      "outputs": []
    },
    {
      "metadata": {
        "id": "2l8aEPL-2MTm",
        "colab_type": "text"
      },
      "cell_type": "markdown",
      "source": [
        "**Classifier SVM**"
      ]
    },
    {
      "metadata": {
        "id": "DYbRo9V-XPzK",
        "colab_type": "code",
        "outputId": "e4777bde-94e1-480d-ba4b-cead3bd94ed8",
        "colab": {
          "base_uri": "https://localhost:8080/",
          "height": 541
        }
      },
      "cell_type": "code",
      "source": [
        "x_train, x_test, y_train, y_test = train_test_split(x_data,y_data[\"label\"], test_size=0.25, random_state=5)\n",
        "y_pred=svm.SVC().fit(x_train,y_train).predict(x_test)\n",
        "evaluate(y_test,y_pred)\n"
      ],
      "execution_count": 10,
      "outputs": [
        {
          "output_type": "stream",
          "text": [
            "    E  N  NE  NW  S  SE  SW  W\n",
            "E   0  0  11   0  0   0   0  0\n",
            "N   0  0  17   0  0   0   0  0\n",
            "NE  0  0  97   0  0   0   0  0\n",
            "NW  0  0  11   0  0   0   0  0\n",
            "S   0  0  11   0  0   0   1  0\n",
            "SE  0  0  11   0  0   0   0  0\n",
            "SW  0  0  26   0  0   0   0  0\n",
            "W   0  0  19   0  0   0   0  0\n",
            "****************\n",
            "Accuracy= 47.55% // Model Accuracy=45%\n",
            "Average precision = 5.97% // Model precision=28%\n",
            "Average recall = 12.50% // Model recall=28%\n",
            "Precision weighted= 22.72% //Model weighted=56%\n",
            "Recall weighted = 47.55% //Model weighted=53%\n",
            "****************\n",
            "       Precision  Recall        F1\n",
            "W_DIR                             \n",
            "E       0.000000     0.0  0.000000\n",
            "N       0.000000     0.0  0.000000\n",
            "NE      0.477833     1.0  0.646667\n",
            "NW      0.000000     0.0  0.000000\n",
            "S       0.000000     0.0  0.000000\n",
            "SE      0.000000     0.0  0.000000\n",
            "SW      0.000000     0.0  0.000000\n",
            "W       0.000000     0.0  0.000000\n"
          ],
          "name": "stdout"
        },
        {
          "output_type": "stream",
          "text": [
            "/usr/local/lib/python3.6/dist-packages/sklearn/svm/base.py:196: FutureWarning: The default value of gamma will change from 'auto' to 'scale' in version 0.22 to account better for unscaled features. Set gamma explicitly to 'auto' or 'scale' to avoid this warning.\n",
            "  \"avoid this warning.\", FutureWarning)\n",
            "/usr/local/lib/python3.6/dist-packages/sklearn/metrics/classification.py:1143: UndefinedMetricWarning: Precision and F-score are ill-defined and being set to 0.0 in labels with no predicted samples.\n",
            "  'precision', 'predicted', average, warn_for)\n"
          ],
          "name": "stderr"
        }
      ]
    },
    {
      "metadata": {
        "id": "HYIyQnM42fmV",
        "colab_type": "text"
      },
      "cell_type": "markdown",
      "source": [
        "**Classifier Dummy**"
      ]
    },
    {
      "metadata": {
        "id": "oD_A9aXY36oX",
        "colab_type": "code",
        "outputId": "3d3e4551-51b0-452c-8459-ff265288782f",
        "colab": {
          "base_uri": "https://localhost:8080/",
          "height": 541
        }
      },
      "cell_type": "code",
      "source": [
        "x_train, x_test, y_train, y_test = train_test_split(x_data,y_data[\"label\"], test_size=0.25, random_state=5)\n",
        "y_pred=svm.SVC().fit(x_train,y_train).predict(x_test)\n",
        "y_pred = DummyClassifier(strategy='most_frequent').fit(x_train, y_train).predict(x_test)\n",
        "evaluate(y_test,y_pred)\n",
        "\n"
      ],
      "execution_count": 11,
      "outputs": [
        {
          "output_type": "stream",
          "text": [
            "    E  N  NE  NW  S  SE  SW  W\n",
            "E   0  0  11   0  0   0   0  0\n",
            "N   0  0  17   0  0   0   0  0\n",
            "NE  0  0  97   0  0   0   0  0\n",
            "NW  0  0  11   0  0   0   0  0\n",
            "S   0  0  12   0  0   0   0  0\n",
            "SE  0  0  11   0  0   0   0  0\n",
            "SW  0  0  26   0  0   0   0  0\n",
            "W   0  0  19   0  0   0   0  0\n",
            "****************\n",
            "Accuracy= 47.55% // Model Accuracy=45%\n",
            "Average precision = 5.94% // Model precision=28%\n",
            "Average recall = 12.50% // Model recall=28%\n",
            "Precision weighted= 22.61% //Model weighted=56%\n",
            "Recall weighted = 47.55% //Model weighted=53%\n",
            "****************\n",
            "       Precision  Recall        F1\n",
            "W_DIR                             \n",
            "E        0.00000     0.0  0.000000\n",
            "N        0.00000     0.0  0.000000\n",
            "NE       0.47549     1.0  0.644518\n",
            "NW       0.00000     0.0  0.000000\n",
            "S        0.00000     0.0  0.000000\n",
            "SE       0.00000     0.0  0.000000\n",
            "SW       0.00000     0.0  0.000000\n",
            "W        0.00000     0.0  0.000000\n"
          ],
          "name": "stdout"
        },
        {
          "output_type": "stream",
          "text": [
            "/usr/local/lib/python3.6/dist-packages/sklearn/svm/base.py:196: FutureWarning: The default value of gamma will change from 'auto' to 'scale' in version 0.22 to account better for unscaled features. Set gamma explicitly to 'auto' or 'scale' to avoid this warning.\n",
            "  \"avoid this warning.\", FutureWarning)\n",
            "/usr/local/lib/python3.6/dist-packages/sklearn/metrics/classification.py:1143: UndefinedMetricWarning: Precision and F-score are ill-defined and being set to 0.0 in labels with no predicted samples.\n",
            "  'precision', 'predicted', average, warn_for)\n"
          ],
          "name": "stderr"
        }
      ]
    },
    {
      "metadata": {
        "id": "vgQWg4vX5rwp",
        "colab_type": "text"
      },
      "cell_type": "markdown",
      "source": [
        "**Classifier Randomforest**"
      ]
    },
    {
      "metadata": {
        "id": "pK3aW52-6BbO",
        "colab_type": "code",
        "outputId": "dd19a214-5cad-4fe6-8774-bbdec2c2aed7",
        "colab": {
          "base_uri": "https://localhost:8080/",
          "height": 507
        }
      },
      "cell_type": "code",
      "source": [
        "x_train, x_test, y_train, y_test = train_test_split(x_data,y_data[\"label\"], test_size=0.25, random_state=5)\n",
        "y_pred=svm.SVC().fit(x_train,y_train).predict(x_test)\n",
        "y_pred = RandomForestClassifier(n_estimators=20).fit(x_train, y_train).predict(x_test)\n",
        "evaluate(y_test,y_pred)"
      ],
      "execution_count": 12,
      "outputs": [
        {
          "output_type": "stream",
          "text": [
            "    E  N  NE  NW  S  SE  SW  W\n",
            "E   4  0   4   0  0   1   1  1\n",
            "N   0  6   9   1  0   0   0  1\n",
            "NE  3  3  82   0  2   0   6  1\n",
            "NW  1  0   2   0  0   0   6  2\n",
            "S   0  0   4   0  2   1   3  2\n",
            "SE  0  0   6   1  1   1   1  1\n",
            "SW  0  0   6   1  0   0  14  5\n",
            "W   0  0   6   3  0   0   2  8\n",
            "****************\n",
            "Accuracy= 57.35% // Model Accuracy=45%\n",
            "Average precision = 42.43% // Model precision=28%\n",
            "Average recall = 34.74% // Model recall=28%\n",
            "Precision weighted= 54.12% //Model weighted=56%\n",
            "Recall weighted = 57.35% //Model weighted=53%\n",
            "****************\n",
            "       Precision    Recall        F1\n",
            "W_DIR                               \n",
            "E       0.500000  0.363636  0.421053\n",
            "N       0.666667  0.352941  0.461538\n",
            "NE      0.689076  0.845361  0.759259\n",
            "NW      0.000000  0.000000  0.000000\n",
            "S       0.400000  0.166667  0.235294\n",
            "SE      0.333333  0.090909  0.142857\n",
            "SW      0.424242  0.538462  0.474576\n",
            "W       0.380952  0.421053  0.400000\n"
          ],
          "name": "stdout"
        },
        {
          "output_type": "stream",
          "text": [
            "/usr/local/lib/python3.6/dist-packages/sklearn/svm/base.py:196: FutureWarning: The default value of gamma will change from 'auto' to 'scale' in version 0.22 to account better for unscaled features. Set gamma explicitly to 'auto' or 'scale' to avoid this warning.\n",
            "  \"avoid this warning.\", FutureWarning)\n"
          ],
          "name": "stderr"
        }
      ]
    },
    {
      "metadata": {
        "id": "BiLR2dmh9gJk",
        "colab_type": "text"
      },
      "cell_type": "markdown",
      "source": [
        "**Oversample minority class**"
      ]
    },
    {
      "metadata": {
        "id": "4gazh0jZCCgC",
        "colab_type": "code",
        "colab": {
          "base_uri": "https://localhost:8080/",
          "height": 454
        },
        "outputId": "d16a24a0-fd1f-40b0-8971-00190669f3d0"
      },
      "cell_type": "code",
      "source": [
        "x_train, x_test, y_train, y_test = train_test_split(x_data,y_data[\"label\"], test_size=0.25, random_state=5)\n",
        "X = pd.concat([x_train, y_train], axis=1)\n",
        "not_NE = X[X[\"label\"]!=\"NE\"]\n",
        "NE = X[X[\"label\"]==\"NE\"]\n",
        "not_NE_upsampled = resample(not_NE,\n",
        "                          replace=True, # sample with replacement\n",
        "                          n_samples=len(not_NE), # match number in majority class\n",
        "                          random_state=27) # reproducible results\n",
        "upsampled = pd.concat([NE, not_NE_upsampled])\n",
        "y_train=upsampled[\"label\"]\n",
        "x_train=upsampled.drop(\"label\",axis=1)\n",
        "y_pred = RandomForestClassifier(n_estimators=20).fit(x_train, y_train).predict(x_test)\n",
        "evaluate(y_test,y_pred)\n"
      ],
      "execution_count": 13,
      "outputs": [
        {
          "output_type": "stream",
          "text": [
            "    E  N  NE  NW  S  SE  SW  W\n",
            "E   1  1   6   0  1   1   1  0\n",
            "N   0  2  12   0  0   2   0  1\n",
            "NE  1  3  84   0  4   0   3  2\n",
            "NW  1  0   3   1  1   0   1  4\n",
            "S   0  0   5   0  1   1   3  2\n",
            "SE  1  0   4   0  1   3   0  2\n",
            "SW  0  1   7   0  3   0  12  3\n",
            "W   1  0   7   2  1   0   2  6\n",
            "****************\n",
            "Accuracy= 53.92% // Model Accuracy=45%\n",
            "Average precision = 35.41% // Model precision=28%\n",
            "Average recall = 28.74% // Model recall=28%\n",
            "Precision weighted= 49.01% //Model weighted=56%\n",
            "Recall weighted = 53.92% //Model weighted=53%\n",
            "****************\n",
            "       Precision    Recall        F1\n",
            "W_DIR                               \n",
            "E       0.200000  0.090909  0.125000\n",
            "N       0.285714  0.117647  0.166667\n",
            "NE      0.656250  0.865979  0.746667\n",
            "NW      0.333333  0.090909  0.142857\n",
            "S       0.083333  0.083333  0.083333\n",
            "SE      0.428571  0.272727  0.333333\n",
            "SW      0.545455  0.461538  0.500000\n",
            "W       0.300000  0.315789  0.307692\n"
          ],
          "name": "stdout"
        }
      ]
    },
    {
      "metadata": {
        "id": "y7mBo3DUTHGt",
        "colab_type": "text"
      },
      "cell_type": "markdown",
      "source": [
        "**Generate synthetic samples**"
      ]
    },
    {
      "metadata": {
        "id": "S5TFloYJVBOk",
        "colab_type": "code",
        "outputId": "4c83115a-ff4a-4a1a-fab6-d46ab90cec0d",
        "colab": {
          "base_uri": "https://localhost:8080/",
          "height": 1045
        }
      },
      "cell_type": "code",
      "source": [
        "x_train, x_test, y_train, y_test = train_test_split(x_data, y_data, test_size=0.25, random_state=27)\n",
        "print(\"Original train samples=\",x_train.shape[0])\n",
        "#y_pred = RandomForestClassifier(n_estimators=15).fit(x_train, y_train).predict(x_test)\n",
        "#evaluate(y_test[\"label\"],y_pred)\n",
        "\n",
        "sm = SMOTE(random_state=27,)\n",
        "x_train, y_train = sm.fit_sample(x_train, y_train[\"label\"])\n",
        "print(\"Synthetic train samples=\",x_train.shape[0])\n",
        "print(\"****Randomforest****\")\n",
        "y_pred = RandomForestClassifier(n_estimators=20).fit(x_train, y_train).predict(x_test)\n",
        "evaluate(y_test[\"label\"],y_pred)\n",
        "print(\"****SVM****\")\n",
        "y_pred=svm.SVC().fit(x_train,y_train).predict(x_test)\n",
        "evaluate(y_test[\"label\"],y_pred)\n"
      ],
      "execution_count": 14,
      "outputs": [
        {
          "output_type": "stream",
          "text": [
            "Original train samples= 612\n",
            "Synthetic train samples= 2288\n",
            "****Randomforest****\n",
            "    E  N  NE  NW  S  SE  SW  W\n",
            "E   3  1   9   0  1   0   1  0\n",
            "N   0  2   7   1  0   1   1  1\n",
            "NE  7  3  69   3  4   2   1  1\n",
            "NW  1  0   2   1  0   0   3  0\n",
            "S   0  1   2   1  4   1   5  1\n",
            "SE  1  0   5   0  0   1   1  1\n",
            "SW  0  2   4   1  6   5   8  3\n",
            "W   3  2   4   4  3   2   2  6\n",
            "****************\n",
            "Accuracy= 46.08% // Model Accuracy=45%\n",
            "Average precision = 28.50% // Model precision=28%\n",
            "Average recall = 26.85% // Model recall=28%\n",
            "Precision weighted= 45.84% //Model weighted=56%\n",
            "Recall weighted = 46.08% //Model weighted=53%\n",
            "****************\n",
            "       Precision    Recall        F1\n",
            "W_DIR                               \n",
            "E       0.200000  0.200000  0.200000\n",
            "N       0.181818  0.153846  0.166667\n",
            "NE      0.676471  0.766667  0.718750\n",
            "NW      0.090909  0.142857  0.111111\n",
            "S       0.222222  0.266667  0.242424\n",
            "SE      0.083333  0.111111  0.095238\n",
            "SW      0.363636  0.275862  0.313725\n",
            "W       0.461538  0.230769  0.307692\n",
            "****SVM****\n"
          ],
          "name": "stdout"
        },
        {
          "output_type": "stream",
          "text": [
            "/usr/local/lib/python3.6/dist-packages/sklearn/svm/base.py:196: FutureWarning: The default value of gamma will change from 'auto' to 'scale' in version 0.22 to account better for unscaled features. Set gamma explicitly to 'auto' or 'scale' to avoid this warning.\n",
            "  \"avoid this warning.\", FutureWarning)\n"
          ],
          "name": "stderr"
        },
        {
          "output_type": "stream",
          "text": [
            "    E  N  NE  NW  S  SE  SW  W\n",
            "E   0  1  14   0  0   0   0  0\n",
            "N   0  0  13   0  0   0   0  0\n",
            "NE  0  0  90   0  0   0   0  0\n",
            "NW  0  0   5   1  0   0   0  1\n",
            "S   0  0  12   0  0   0   3  0\n",
            "SE  0  0   9   0  0   0   0  0\n",
            "SW  0  0  22   0  2   0   4  1\n",
            "W   0  1  24   0  0   0   0  1\n",
            "****************\n",
            "Accuracy= 47.06% // Model Accuracy=45%\n",
            "Average precision = 29.76% // Model precision=28%\n",
            "Average recall = 16.49% // Model recall=28%\n",
            "Precision weighted= 36.81% //Model weighted=56%\n",
            "Recall weighted = 47.06% //Model weighted=53%\n",
            "****************\n",
            "       Precision    Recall        F1\n",
            "W_DIR                               \n",
            "E       0.000000  0.000000  0.000000\n",
            "N       0.000000  0.000000  0.000000\n",
            "NE      0.476190  1.000000  0.645161\n",
            "NW      1.000000  0.142857  0.250000\n",
            "S       0.000000  0.000000  0.000000\n",
            "SE      0.000000  0.000000  0.000000\n",
            "SW      0.571429  0.137931  0.222222\n",
            "W       0.333333  0.038462  0.068966\n"
          ],
          "name": "stdout"
        },
        {
          "output_type": "stream",
          "text": [
            "/usr/local/lib/python3.6/dist-packages/sklearn/metrics/classification.py:1143: UndefinedMetricWarning: Precision and F-score are ill-defined and being set to 0.0 in labels with no predicted samples.\n",
            "  'precision', 'predicted', average, warn_for)\n"
          ],
          "name": "stderr"
        }
      ]
    },
    {
      "metadata": {
        "id": "cGrTM2wN9YxG",
        "colab_type": "text"
      },
      "cell_type": "markdown",
      "source": [
        "**Cross validation K_folds**"
      ]
    },
    {
      "metadata": {
        "id": "AP6Cpp4u9in-",
        "colab_type": "code",
        "outputId": "55b24b98-f792-4de3-a299-f7433315d5f0",
        "colab": {
          "base_uri": "https://localhost:8080/",
          "height": 423
        }
      },
      "cell_type": "code",
      "source": [
        "clf=RandomForestClassifier(n_estimators=20)\n",
        "scoring = ['precision_macro', 'recall_macro','f1_macro',\"accuracy\",\"precision_weighted\",\"recall_weighted\",\"f1_weighted\"]\n",
        "scores = cross_validate(clf, x_data, y_data[\"label\"], scoring=scoring,\n",
        "                        cv=5, return_train_score=False)\n",
        "print(\"Accuracy: {:.2%} (+/- {:.2%})\" .format (scores[\"test_accuracy\"].mean(), scores[\"test_accuracy\"].std() * 2))\n",
        "print(\"Recall: {:.2%} (+/- {:.2%})\" .format (scores[\"test_recall_macro\"].mean(), scores[\"test_recall_macro\"].std() * 2))\n",
        "print(\"Precision: {:.2%} (+/- {:.2%})\" .format (scores[\"test_precision_macro\"].mean(), scores[\"test_precision_macro\"].std() * 2))\n",
        "print(\"f1 : {:.2%} (+/-{:.2%} )\".format (scores[\"test_f1_macro\"].mean(), scores[\"test_f1_macro\"].std() * 2))\n",
        "print(\"Recall weighted: {:.2%} (+/- {:.2%})\" .format (scores[\"test_recall_weighted\"].mean(), scores[\"test_recall_weighted\"].std() * 2))\n",
        "print(\"Precision weighted: {:.2%} (+/- {:.2%})\" .format (scores[\"test_precision_weighted\"].mean(), scores[\"test_precision_weighted\"].std() * 2))\n",
        "print(\"f1 weighted: {:.2%} (+/-{:.2%} )\".format (scores[\"test_f1_weighted\"].mean(), scores[\"test_f1_weighted\"].std() * 2))"
      ],
      "execution_count": 18,
      "outputs": [
        {
          "output_type": "stream",
          "text": [
            "/usr/local/lib/python3.6/dist-packages/sklearn/metrics/classification.py:1143: UndefinedMetricWarning: Precision is ill-defined and being set to 0.0 in labels with no predicted samples.\n",
            "  'precision', 'predicted', average, warn_for)\n",
            "/usr/local/lib/python3.6/dist-packages/sklearn/metrics/classification.py:1143: UndefinedMetricWarning: F-score is ill-defined and being set to 0.0 in labels with no predicted samples.\n",
            "  'precision', 'predicted', average, warn_for)\n",
            "/usr/local/lib/python3.6/dist-packages/sklearn/metrics/classification.py:1143: UndefinedMetricWarning: Precision is ill-defined and being set to 0.0 in labels with no predicted samples.\n",
            "  'precision', 'predicted', average, warn_for)\n",
            "/usr/local/lib/python3.6/dist-packages/sklearn/metrics/classification.py:1143: UndefinedMetricWarning: F-score is ill-defined and being set to 0.0 in labels with no predicted samples.\n",
            "  'precision', 'predicted', average, warn_for)\n"
          ],
          "name": "stderr"
        },
        {
          "output_type": "stream",
          "text": [
            "Accuracy: 51.60% (+/- 6.27%)\n",
            "Recall: 28.05% (+/- 10.17%)\n",
            "Precision: 31.33% (+/- 10.67%)\n",
            "f1 : 28.34% (+/-9.78% )\n",
            "Recall weighted: 51.60% (+/- 6.27%)\n",
            "Precision weighted: 47.92% (+/- 8.88%)\n",
            "f1 weighted: 48.53% (+/-6.74% )\n"
          ],
          "name": "stdout"
        },
        {
          "output_type": "stream",
          "text": [
            "/usr/local/lib/python3.6/dist-packages/sklearn/metrics/classification.py:1143: UndefinedMetricWarning: Precision is ill-defined and being set to 0.0 in labels with no predicted samples.\n",
            "  'precision', 'predicted', average, warn_for)\n",
            "/usr/local/lib/python3.6/dist-packages/sklearn/metrics/classification.py:1143: UndefinedMetricWarning: F-score is ill-defined and being set to 0.0 in labels with no predicted samples.\n",
            "  'precision', 'predicted', average, warn_for)\n",
            "/usr/local/lib/python3.6/dist-packages/sklearn/metrics/classification.py:1143: UndefinedMetricWarning: Precision is ill-defined and being set to 0.0 in labels with no predicted samples.\n",
            "  'precision', 'predicted', average, warn_for)\n",
            "/usr/local/lib/python3.6/dist-packages/sklearn/metrics/classification.py:1143: UndefinedMetricWarning: F-score is ill-defined and being set to 0.0 in labels with no predicted samples.\n",
            "  'precision', 'predicted', average, warn_for)\n"
          ],
          "name": "stderr"
        }
      ]
    },
    {
      "metadata": {
        "id": "_xwqYe34xCEt",
        "colab_type": "text"
      },
      "cell_type": "markdown",
      "source": [
        "**Tuning SVM**"
      ]
    },
    {
      "metadata": {
        "id": "Xz5ttTxJxBmv",
        "colab_type": "code",
        "outputId": "fda61e64-56f2-4e5d-eee1-e6e1e992f6d0",
        "colab": {
          "base_uri": "https://localhost:8080/",
          "height": 50
        }
      },
      "cell_type": "code",
      "source": [
        "x_train, x_test, y_train, y_test = train_test_split(x_data, y_data, test_size=0.25, random_state=27)\n",
        "tuned_parameters = {'kernel': ['rbf'], 'gamma': [1e-3, 1e-4], 'C': [1, 10, 100, 1000]}\n",
        "#Generate synthetic samples\n",
        "sm = SMOTE(random_state=27,)\n",
        "x_train, y_train = sm.fit_sample(x_train, y_train[\"label\"])\n",
        "clf = GridSearchCV(svm.SVC(), tuned_parameters,scoring=\"f1_macro\", cv=5).fit(x_train, y_train)\n",
        "                    \n",
        "print(\"Best parameters=\",clf.best_params_)\n",
        "print(\"Best F1=\",clf.best_score_)\n",
        "#SVC(C=1000, gamma=0.001, kernel='rbf')\n"
      ],
      "execution_count": 0,
      "outputs": [
        {
          "output_type": "stream",
          "text": [
            "Best parameters= {'C': 100, 'gamma': 0.001, 'kernel': 'rbf'}\n",
            "Best F1= 0.8435515015134369\n"
          ],
          "name": "stdout"
        }
      ]
    },
    {
      "metadata": {
        "id": "CKVqI6LeSAly",
        "colab_type": "text"
      },
      "cell_type": "markdown",
      "source": [
        "**Evaluate SVM with best parameters**"
      ]
    },
    {
      "metadata": {
        "id": "8dyekuSnST1T",
        "colab_type": "code",
        "outputId": "481ad0ec-0ed5-4817-b6ee-a4c5d1b24450",
        "colab": {
          "base_uri": "https://localhost:8080/",
          "height": 487
        }
      },
      "cell_type": "code",
      "source": [
        "x_train, x_test, y_train, y_test = train_test_split(x_data, y_data, test_size=0.25, random_state=27)\n",
        "#Generate synthetic samples\n",
        "sm = SMOTE(random_state=27,)\n",
        "x_train, y_train = sm.fit_sample(x_train, y_train[\"label\"])\n",
        "y_pred=svm.SVC(C=100, gamma=0.001, kernel='rbf').fit(x_train,y_train).predict(x_test)\n",
        "evaluate(y_test[\"label\"],y_pred)"
      ],
      "execution_count": 0,
      "outputs": [
        {
          "output_type": "stream",
          "text": [
            "    E  N  NE  NW  S  SE  SW  W\n",
            "E   1  3  10   0  0   0   1  0\n",
            "N   0  3   8   1  0   0   0  1\n",
            "NE  3  6  74   0  2   1   3  1\n",
            "NW  0  1   3   1  0   0   1  1\n",
            "S   0  0   4   1  4   2   3  1\n",
            "SE  1  0   4   1  1   0   1  1\n",
            "SW  2  1   5   3  7   3   5  3\n",
            "W   0  5   9   2  4   1   3  2\n",
            "****************\n",
            "Accuracy= 44.12% // Model Accuracy=45%\n",
            "Average precision = 22.01% // Model precision=28%\n",
            "Average recall = 22.23% // Model recall=28%\n",
            "Precision micro= 44.12% //Model precision micro=45%\n",
            "Recall micro= 44.12% //Model recall micro=45%\n",
            "Precision weighted= 38.71% //Model weighted=56%\n",
            "Recall weighted = 44.12% //Model weighted=53%\n",
            "****************\n",
            "       Precision    Recall        F1\n",
            "W_DIR                               \n",
            "E       0.142857  0.066667  0.090909\n",
            "N       0.157895  0.230769  0.187500\n",
            "NE      0.632479  0.822222  0.714976\n",
            "NW      0.111111  0.142857  0.125000\n",
            "S       0.222222  0.266667  0.242424\n",
            "SE      0.000000  0.000000  0.000000\n",
            "SW      0.294118  0.172414  0.217391\n",
            "W       0.200000  0.076923  0.111111\n"
          ],
          "name": "stdout"
        }
      ]
    },
    {
      "metadata": {
        "id": "DzftoqKdTSbC",
        "colab_type": "text"
      },
      "cell_type": "markdown",
      "source": [
        "**Tuning RandomForestClassifier**"
      ]
    },
    {
      "metadata": {
        "id": "stSi4FO1UEre",
        "colab_type": "code",
        "outputId": "7a173055-fa58-4b6c-b8a0-330fcc88ef67",
        "colab": {
          "base_uri": "https://localhost:8080/",
          "height": 154
        }
      },
      "cell_type": "code",
      "source": [
        "x_train, x_test, y_train, y_test = train_test_split(x_data, y_data, test_size=0.25, random_state=27)\n",
        "# Number of trees in random forest\n",
        "n_estimators = [int(x) for x in np.linspace(start = 200, stop = 2000, num = 10)]\n",
        "# Number of features to consider at every split\n",
        "max_features = ['auto', 'sqrt']\n",
        "# Maximum number of levels in tree\n",
        "max_depth = [int(x) for x in np.linspace(10, 110, num = 11)]\n",
        "max_depth.append(None)\n",
        "# Minimum number of samples required to split a node\n",
        "min_samples_split = [2, 5, 10]\n",
        "# Minimum number of samples required at each leaf node\n",
        "min_samples_leaf = [1, 2, 4]\n",
        "# Method of selecting samples for training each tree\n",
        "bootstrap = [True, False]\n",
        "# Create the random grid\n",
        "random_grid = {'n_estimators': n_estimators,\n",
        "               'max_features': max_features,\n",
        "               'max_depth': max_depth,\n",
        "               'min_samples_split': min_samples_split,\n",
        "               'min_samples_leaf': min_samples_leaf,\n",
        "               'bootstrap': bootstrap}\n",
        "\n",
        "# Use the random grid to search for best hyperparameters\n",
        "# First create the base model to tune\n",
        "rf = RandomForestClassifier()\n",
        "# Random search of parameters, using 3 fold cross validation, \n",
        "# search across 100 different combinations, and use all available cores\n",
        "rf_random = RandomizedSearchCV(estimator = rf, param_distributions = random_grid, n_iter = 20, cv = 3, verbose=2, random_state=42, n_jobs = -1)\n",
        "# Fit the random search model\n",
        "# Synthetic samples\n",
        "sm = SMOTE(random_state=27,)\n",
        "x_train, y_train = sm.fit_sample(x_train, y_train[\"label\"])\n",
        "rf_random.fit(x_train, y_train)\n",
        "print(\"best parameters\",rf_random.best_params_)"
      ],
      "execution_count": 0,
      "outputs": [
        {
          "output_type": "stream",
          "text": [
            "Fitting 3 folds for each of 20 candidates, totalling 60 fits\n"
          ],
          "name": "stdout"
        },
        {
          "output_type": "stream",
          "text": [
            "[Parallel(n_jobs=-1)]: Using backend LokyBackend with 2 concurrent workers.\n",
            "/usr/local/lib/python3.6/dist-packages/sklearn/externals/joblib/externals/loky/process_executor.py:706: UserWarning: A worker stopped while some jobs were given to the executor. This can be caused by a too short worker timeout or by a memory leak.\n",
            "  \"timeout or by a memory leak.\", UserWarning\n",
            "[Parallel(n_jobs=-1)]: Done  37 tasks      | elapsed:  2.3min\n",
            "[Parallel(n_jobs=-1)]: Done  60 out of  60 | elapsed:  4.2min finished\n"
          ],
          "name": "stderr"
        },
        {
          "output_type": "stream",
          "text": [
            "best parameters {'n_estimators': 800, 'min_samples_split': 2, 'min_samples_leaf': 1, 'max_features': 'sqrt', 'max_depth': 20, 'bootstrap': False}\n"
          ],
          "name": "stdout"
        }
      ]
    },
    {
      "metadata": {
        "id": "tbUdmzP9cn-k",
        "colab_type": "text"
      },
      "cell_type": "markdown",
      "source": [
        "**Running Randomforest tuned**"
      ]
    },
    {
      "metadata": {
        "id": "pUyO-ldQakio",
        "colab_type": "code",
        "outputId": "90477d44-fb80-4c94-dc20-28c01b07175f",
        "colab": {
          "base_uri": "https://localhost:8080/",
          "height": 454
        }
      },
      "cell_type": "code",
      "source": [
        "x_train, x_test, y_train, y_test = train_test_split(x_data, y_data, test_size=0.3, random_state=27)\n",
        "#Generate synthetic samples\n",
        "sm = SMOTE(random_state=27,)\n",
        "x_train, y_train = sm.fit_sample(x_train, y_train[\"label\"])\n",
        "clas=RandomForestClassifier(bootstrap=False, class_weight=None, criterion='gini',\n",
        "            max_depth=20, max_features='sqrt', max_leaf_nodes=None,\n",
        "            min_impurity_decrease=0.0, min_impurity_split=None,\n",
        "            min_samples_leaf=1, min_samples_split=2,\n",
        "            min_weight_fraction_leaf=0.0, n_estimators=800, n_jobs=None,\n",
        "            oob_score=False, random_state=None, verbose=0,\n",
        "            warm_start=False)\n",
        "y_pred = clas.fit(x_train, y_train).predict(x_test)\n",
        "evaluate(y_test[\"label\"],y_pred)"
      ],
      "execution_count": 19,
      "outputs": [
        {
          "output_type": "stream",
          "text": [
            "    E  N  NE  NW  S  SE  SW  W\n",
            "E   2  3   9   0  3   0   1  1\n",
            "N   0  4  11   0  0   0   1  1\n",
            "NE  3  7  83   2  4   4   2  0\n",
            "NW  0  1   2   1  1   1   2  0\n",
            "S   1  0   3   2  8   2   3  0\n",
            "SE  1  0   4   1  1   0   1  1\n",
            "SW  1  2   5   3  8   6   9  3\n",
            "W   0  2   8   3  6   1   2  9\n",
            "****************\n",
            "Accuracy= 47.35% // Model Accuracy=45%\n",
            "Average precision = 31.18% // Model precision=28%\n",
            "Average recall = 27.63% // Model recall=28%\n",
            "Precision weighted= 48.19% //Model weighted=56%\n",
            "Recall weighted = 47.35% //Model weighted=53%\n",
            "****************\n",
            "       Precision    Recall        F1\n",
            "W_DIR                               \n",
            "E       0.250000  0.105263  0.148148\n",
            "N       0.210526  0.235294  0.222222\n",
            "NE      0.664000  0.790476  0.721739\n",
            "NW      0.083333  0.125000  0.100000\n",
            "S       0.258065  0.421053  0.320000\n",
            "SE      0.000000  0.000000  0.000000\n",
            "SW      0.428571  0.243243  0.310345\n",
            "W       0.600000  0.290323  0.391304\n"
          ],
          "name": "stdout"
        }
      ]
    },
    {
      "metadata": {
        "id": "LlilleENjZTN",
        "colab_type": "text"
      },
      "cell_type": "markdown",
      "source": [
        "**Cross validation K_folds**"
      ]
    },
    {
      "metadata": {
        "id": "zw677JaDjYby",
        "colab_type": "code",
        "outputId": "8351b354-a736-4efa-9d3e-64f82fdc184d",
        "colab": {
          "base_uri": "https://localhost:8080/",
          "height": 134
        }
      },
      "cell_type": "code",
      "source": [
        "scoring = ['precision_macro', 'recall_macro','f1_macro',\"accuracy\",\"precision_weighted\",\"recall_weighted\",\"f1_weighted\"]\n",
        "scores = cross_validate(clas, x_data, y_data[\"label\"], scoring=scoring,\n",
        "                        cv=5, return_train_score=False)\n",
        "print(\"Accuracy: {:.2%} (+/- {:.2%})\" .format (scores[\"test_accuracy\"].mean(), scores[\"test_accuracy\"].std() * 2))\n",
        "print(\"Recall: {:.2%} (+/- {:.2%})\" .format (scores[\"test_recall_macro\"].mean(), scores[\"test_recall_macro\"].std() * 2))\n",
        "print(\"Precision: {:.2%} (+/- {:.2%})\" .format (scores[\"test_precision_macro\"].mean(), scores[\"test_precision_macro\"].std() * 2))\n",
        "print(\"f1 : {:.2%} (+/-{:.2%} )\".format (scores[\"test_f1_macro\"].mean(), scores[\"test_f1_macro\"].std() * 2))\n",
        "print(\"Recall weighted: {:.2%} (+/- {:.2%})\" .format (scores[\"test_recall_weighted\"].mean(), scores[\"test_recall_weighted\"].std() * 2))\n",
        "print(\"Precision weighted: {:.2%} (+/- {:.2%})\" .format (scores[\"test_precision_weighted\"].mean(), scores[\"test_precision_weighted\"].std() * 2))\n",
        "print(\"f1 weighted: {:.2%} (+/-{:.2%} )\".format (scores[\"test_f1_weighted\"].mean(), scores[\"test_f1_weighted\"].std() * 2))"
      ],
      "execution_count": 20,
      "outputs": [
        {
          "output_type": "stream",
          "text": [
            "Accuracy: 50.74% (+/- 8.02%)\n",
            "Recall: 27.38% (+/- 9.75%)\n",
            "Precision: 30.33% (+/- 10.84%)\n",
            "f1 : 27.09% (+/-7.98% )\n",
            "Recall weighted: 50.74% (+/- 8.02%)\n",
            "Precision weighted: 47.36% (+/- 8.57%)\n",
            "f1 weighted: 47.85% (+/-7.21% )\n"
          ],
          "name": "stdout"
        }
      ]
    }
  ]
}