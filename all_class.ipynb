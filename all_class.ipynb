{
  "nbformat": 4,
  "nbformat_minor": 0,
  "metadata": {
    "colab": {
      "name": "all_class.ipynb",
      "version": "0.3.2",
      "provenance": [],
      "collapsed_sections": [],
      "include_colab_link": true
    },
    "kernelspec": {
      "name": "python3",
      "display_name": "Python 3"
    }
  },
  "cells": [
    {
      "cell_type": "markdown",
      "metadata": {
        "id": "view-in-github",
        "colab_type": "text"
      },
      "source": [
        "<a href=\"https://colab.research.google.com/github/granantuin/Model_vs_data_label/blob/master/all_class.ipynb\" target=\"_parent\"><img src=\"https://colab.research.google.com/assets/colab-badge.svg\" alt=\"Open In Colab\"/></a>"
      ]
    },
    {
      "metadata": {
        "id": "eKAeeLLI18Qj",
        "colab_type": "code",
        "colab": {}
      },
      "cell_type": "code",
      "source": [
        "from sklearn.metrics import precision_recall_fscore_support,confusion_matrix,accuracy_score\n",
        "import pandas as pd\n",
        "import numpy as np\n",
        "import seaborn as sns\n",
        "import matplotlib.pyplot as plt\n",
        "from sklearn.model_selection import train_test_split,cross_val_score,cross_validate,GridSearchCV\n",
        "from sklearn import svm\n",
        "from sklearn.dummy import DummyClassifier\n",
        "from sklearn.ensemble import RandomForestClassifier\n",
        "from sklearn.utils import resample\n",
        "from imblearn.over_sampling import SMOTE\n",
        "from sklearn.model_selection import RandomizedSearchCV"
      ],
      "execution_count": 0,
      "outputs": []
    },
    {
      "metadata": {
        "id": "ri6lpXgZ8l76",
        "colab_type": "code",
        "colab": {}
      },
      "cell_type": "code",
      "source": [
        "def evaluate(y_test,y_pred):\n",
        "  index=[\"E\",\"N\",\"NE\",\"NW\",\"S\",\"SE\",\"SW\",\"W\"]\n",
        "  print(pd.DataFrame(confusion_matrix(y_test, y_pred), index=index, columns=index))\n",
        "  print(\"****************\")\n",
        "  print(\"Accuracy=\",\"{:.2%}\".format(accuracy_score(y_test, y_pred)),\"// Model Accuracy=45%\")\n",
        "  results= precision_recall_fscore_support(y_test, y_pred, average=None, )\n",
        "  df=pd.DataFrame({\"Precision\":results[0],\"Recall\":results[1],\"F1\":results[2],\"W_DIR\":index})\n",
        "  df=df.set_index(\"W_DIR\")\n",
        "  print(\"Average precision =\",\"{:.2%}\".format(df[\"Precision\"].mean()),\"// Model precision=28%\")\n",
        "  print(\"Average recall =\",\"{:.2%}\".format(df[\"Recall\"].mean()),\"// Model recall=28%\")\n",
        "  results= precision_recall_fscore_support(y_test, y_pred, average=\"micro\", )\n",
        "  print(\"Precision micro=\",\"{:.2%}\".format(results[0]),\"//Model precision micro=45%\")\n",
        "  print(\"Recall micro=\",\"{:.2%}\".format(results[1]),\"//Model recall micro=45%\")\n",
        "  results= precision_recall_fscore_support(y_test, y_pred, average='weighted', )\n",
        "  print(\"Precision weighted=\",\"{:.2%}\".format(results[0]),\"//Model weighted=56%\")\n",
        "  print(\"Recall weighted =\",\"{:.2%}\".format(results[1]),\"//Model weighted=53%\")\n",
        "  print(\"****************\")\n",
        "  print(df)"
      ],
      "execution_count": 0,
      "outputs": []
    },
    {
      "metadata": {
        "id": "D6Kp-M-UUxW5",
        "colab_type": "code",
        "colab": {}
      },
      "cell_type": "code",
      "source": [
        "\n",
        "from google.colab import drive\n",
        "drive.mount('/content/drive')\n"
      ],
      "execution_count": 0,
      "outputs": []
    },
    {
      "metadata": {
        "id": "fMNa4r9hUI_G",
        "colab_type": "code",
        "colab": {}
      },
      "cell_type": "code",
      "source": [
        "drive_4km=\"/content/drive/My Drive/Colab Notebooks/model_vs_data/Coron_4km_h24toh48_dir/\"\n",
        "drive_1km=\"/content/drive/My Drive/Colab Notebooks/model_vs_data/Coron_Mars_H24to48_dir/\"\n",
        "dr=[drive_4km,drive_1km]"
      ],
      "execution_count": 0,
      "outputs": []
    },
    {
      "metadata": {
        "id": "UuxP1P0MUQnF",
        "colab_type": "code",
        "colab": {}
      },
      "cell_type": "code",
      "source": [
        "y_data=pd.read_excel(dr[1]+\"y_data.xlsx\")\n",
        "x_data=pd.read_csv(dr[1]+\"x_data\",usecols=range(1,10))"
      ],
      "execution_count": 0,
      "outputs": []
    },
    {
      "metadata": {
        "id": "4zBkI58Jmt1W",
        "colab_type": "code",
        "colab": {}
      },
      "cell_type": "code",
      "source": [
        "NE=y_data[(y_data[\"value\"]>22.5) & (y_data[\"value\"]<67.5)]\n",
        "NE[\"label\"]=\"NE\"\n",
        "E=y_data[(y_data[\"value\"]>67.5) & (y_data[\"value\"]<112.5)]\n",
        "E[\"label\"]=\"E\"\n",
        "SE=y_data[(y_data[\"value\"]>112.5) & (y_data[\"value\"]<157.5)]\n",
        "SE[\"label\"]=\"SE\"\n",
        "S=y_data[(y_data[\"value\"]>157.5) & (y_data[\"value\"]<202.5)]\n",
        "S[\"label\"]=\"S\"\n",
        "SW=y_data[(y_data[\"value\"]>202.5) & (y_data[\"value\"]<247.5)]\n",
        "SW[\"label\"]=\"SW\"\n",
        "W=y_data[(y_data[\"value\"]>247.5) & (y_data[\"value\"]<292.5)]\n",
        "W[\"label\"]=\"W\"\n",
        "NW=y_data[(y_data[\"value\"]>292.5) & (y_data[\"value\"]<337.5)]\n",
        "NW[\"label\"]=\"NW\"\n",
        "N=y_data[(y_data[\"value\"]>337.5) | (y_data[\"value\"]<22.5)]\n",
        "N[\"label\"]=\"N\"\n",
        "winds=[NE,N,E,SE,S,SW,W,NW]\n",
        "y_data=pd.concat(winds)\n",
        "y_data=y_data.sort_values(by=\"date\")"
      ],
      "execution_count": 0,
      "outputs": []
    },
    {
      "metadata": {
        "id": "7YH5BxoIW0fZ",
        "colab_type": "text"
      },
      "cell_type": "markdown",
      "source": [
        "**Display**"
      ]
    },
    {
      "metadata": {
        "id": "FlFMv1aYVNWc",
        "colab_type": "code",
        "colab": {}
      },
      "cell_type": "code",
      "source": [
        "pd.concat([x_data,y_data],axis=1).set_index('date')"
      ],
      "execution_count": 0,
      "outputs": []
    },
    {
      "metadata": {
        "id": "2l8aEPL-2MTm",
        "colab_type": "text"
      },
      "cell_type": "markdown",
      "source": [
        "**Classifier SVM**"
      ]
    },
    {
      "metadata": {
        "id": "DYbRo9V-XPzK",
        "colab_type": "code",
        "outputId": "51d12e70-12f1-4ac9-f8bd-27d78b7707c9",
        "colab": {
          "base_uri": "https://localhost:8080/",
          "height": 574
        }
      },
      "cell_type": "code",
      "source": [
        "x_train, x_test, y_train, y_test = train_test_split(x_data,y_data[\"label\"], test_size=0.25, random_state=5)\n",
        "y_pred=svm.SVC().fit(x_train,y_train).predict(x_test)\n",
        "evaluate(y_test,y_pred)\n"
      ],
      "execution_count": 24,
      "outputs": [
        {
          "output_type": "stream",
          "text": [
            "    E  N  NE  NW  S  SE  SW  W\n",
            "E   0  0  11   0  0   0   0  0\n",
            "N   0  0  17   0  0   0   0  0\n",
            "NE  0  0  97   0  0   0   0  0\n",
            "NW  0  0  11   0  0   0   0  0\n",
            "S   0  0  11   0  0   0   1  0\n",
            "SE  0  0  11   0  0   0   0  0\n",
            "SW  0  0  26   0  0   0   0  0\n",
            "W   0  0  19   0  0   0   0  0\n",
            "****************\n",
            "Accuracy= 47.55% // Model Accuracy=45%\n",
            "Average precision = 5.97% // Model precision=28%\n",
            "Average recall = 12.50% // Model recall=28%\n",
            "Precision micro= 47.55% //Model precision micro=45%\n",
            "Recall micro= 47.55% //Model recall micro=45%\n",
            "Precision weighted= 22.72% //Model weighted=56%\n",
            "Recall weighted = 47.55% //Model weighted=53%\n",
            "****************\n",
            "       Precision  Recall        F1\n",
            "W_DIR                             \n",
            "E       0.000000     0.0  0.000000\n",
            "N       0.000000     0.0  0.000000\n",
            "NE      0.477833     1.0  0.646667\n",
            "NW      0.000000     0.0  0.000000\n",
            "S       0.000000     0.0  0.000000\n",
            "SE      0.000000     0.0  0.000000\n",
            "SW      0.000000     0.0  0.000000\n",
            "W       0.000000     0.0  0.000000\n"
          ],
          "name": "stdout"
        },
        {
          "output_type": "stream",
          "text": [
            "/usr/local/lib/python3.6/dist-packages/sklearn/svm/base.py:196: FutureWarning: The default value of gamma will change from 'auto' to 'scale' in version 0.22 to account better for unscaled features. Set gamma explicitly to 'auto' or 'scale' to avoid this warning.\n",
            "  \"avoid this warning.\", FutureWarning)\n",
            "/usr/local/lib/python3.6/dist-packages/sklearn/metrics/classification.py:1143: UndefinedMetricWarning: Precision and F-score are ill-defined and being set to 0.0 in labels with no predicted samples.\n",
            "  'precision', 'predicted', average, warn_for)\n"
          ],
          "name": "stderr"
        }
      ]
    },
    {
      "metadata": {
        "id": "HYIyQnM42fmV",
        "colab_type": "text"
      },
      "cell_type": "markdown",
      "source": [
        "**Classifier Dummy**"
      ]
    },
    {
      "metadata": {
        "id": "oD_A9aXY36oX",
        "colab_type": "code",
        "outputId": "73a25f31-880f-406c-e623-2e999e2b00a8",
        "colab": {
          "base_uri": "https://localhost:8080/",
          "height": 574
        }
      },
      "cell_type": "code",
      "source": [
        "x_train, x_test, y_train, y_test = train_test_split(x_data,y_data[\"label\"], test_size=0.25, random_state=5)\n",
        "y_pred=svm.SVC().fit(x_train,y_train).predict(x_test)\n",
        "y_pred = DummyClassifier(strategy='most_frequent').fit(x_train, y_train).predict(x_test)\n",
        "evaluate(y_test,y_pred)\n",
        "\n"
      ],
      "execution_count": 25,
      "outputs": [
        {
          "output_type": "stream",
          "text": [
            "    E  N  NE  NW  S  SE  SW  W\n",
            "E   0  0  11   0  0   0   0  0\n",
            "N   0  0  17   0  0   0   0  0\n",
            "NE  0  0  97   0  0   0   0  0\n",
            "NW  0  0  11   0  0   0   0  0\n",
            "S   0  0  12   0  0   0   0  0\n",
            "SE  0  0  11   0  0   0   0  0\n",
            "SW  0  0  26   0  0   0   0  0\n",
            "W   0  0  19   0  0   0   0  0\n",
            "****************\n",
            "Accuracy= 47.55% // Model Accuracy=45%\n",
            "Average precision = 5.94% // Model precision=28%\n",
            "Average recall = 12.50% // Model recall=28%\n",
            "Precision micro= 47.55% //Model precision micro=45%\n",
            "Recall micro= 47.55% //Model recall micro=45%\n",
            "Precision weighted= 22.61% //Model weighted=56%\n",
            "Recall weighted = 47.55% //Model weighted=53%\n",
            "****************\n",
            "       Precision  Recall        F1\n",
            "W_DIR                             \n",
            "E        0.00000     0.0  0.000000\n",
            "N        0.00000     0.0  0.000000\n",
            "NE       0.47549     1.0  0.644518\n",
            "NW       0.00000     0.0  0.000000\n",
            "S        0.00000     0.0  0.000000\n",
            "SE       0.00000     0.0  0.000000\n",
            "SW       0.00000     0.0  0.000000\n",
            "W        0.00000     0.0  0.000000\n"
          ],
          "name": "stdout"
        },
        {
          "output_type": "stream",
          "text": [
            "/usr/local/lib/python3.6/dist-packages/sklearn/svm/base.py:196: FutureWarning: The default value of gamma will change from 'auto' to 'scale' in version 0.22 to account better for unscaled features. Set gamma explicitly to 'auto' or 'scale' to avoid this warning.\n",
            "  \"avoid this warning.\", FutureWarning)\n",
            "/usr/local/lib/python3.6/dist-packages/sklearn/metrics/classification.py:1143: UndefinedMetricWarning: Precision and F-score are ill-defined and being set to 0.0 in labels with no predicted samples.\n",
            "  'precision', 'predicted', average, warn_for)\n"
          ],
          "name": "stderr"
        }
      ]
    },
    {
      "metadata": {
        "id": "vgQWg4vX5rwp",
        "colab_type": "text"
      },
      "cell_type": "markdown",
      "source": [
        "**Classifier Randomforest**"
      ]
    },
    {
      "metadata": {
        "id": "pK3aW52-6BbO",
        "colab_type": "code",
        "outputId": "1f95c63d-3b80-4975-ba4d-69b45e6d4a1f",
        "colab": {
          "base_uri": "https://localhost:8080/",
          "height": 541
        }
      },
      "cell_type": "code",
      "source": [
        "x_train, x_test, y_train, y_test = train_test_split(x_data,y_data[\"label\"], test_size=0.25, random_state=5)\n",
        "y_pred=svm.SVC().fit(x_train,y_train).predict(x_test)\n",
        "y_pred = RandomForestClassifier(n_estimators=20).fit(x_train, y_train).predict(x_test)\n",
        "evaluate(y_test,y_pred)"
      ],
      "execution_count": 28,
      "outputs": [
        {
          "output_type": "stream",
          "text": [
            "    E  N  NE  NW  S  SE  SW  W\n",
            "E   0  0   8   0  0   0   2  1\n",
            "N   0  6   7   1  0   0   0  3\n",
            "NE  1  2  84   0  4   0   4  2\n",
            "NW  1  0   3   0  0   0   3  4\n",
            "S   0  0   4   0  0   1   4  3\n",
            "SE  0  0   4   0  1   3   0  3\n",
            "SW  0  0   7   1  0   0  16  2\n",
            "W   0  0   6   2  0   0   2  9\n",
            "****************\n",
            "Accuracy= 57.84% // Model Accuracy=45%\n",
            "Average precision = 37.90% // Model precision=28%\n",
            "Average recall = 32.26% // Model recall=28%\n",
            "Precision micro= 57.84% //Model precision micro=45%\n",
            "Recall micro= 57.84% //Model recall micro=45%\n",
            "Precision weighted= 52.45% //Model weighted=56%\n",
            "Recall weighted = 57.84% //Model weighted=53%\n",
            "****************\n",
            "       Precision    Recall        F1\n",
            "W_DIR                               \n",
            "E       0.000000  0.000000  0.000000\n",
            "N       0.750000  0.352941  0.480000\n",
            "NE      0.682927  0.865979  0.763636\n",
            "NW      0.000000  0.000000  0.000000\n",
            "S       0.000000  0.000000  0.000000\n",
            "SE      0.750000  0.272727  0.400000\n",
            "SW      0.516129  0.615385  0.561404\n",
            "W       0.333333  0.473684  0.391304\n"
          ],
          "name": "stdout"
        },
        {
          "output_type": "stream",
          "text": [
            "/usr/local/lib/python3.6/dist-packages/sklearn/svm/base.py:196: FutureWarning: The default value of gamma will change from 'auto' to 'scale' in version 0.22 to account better for unscaled features. Set gamma explicitly to 'auto' or 'scale' to avoid this warning.\n",
            "  \"avoid this warning.\", FutureWarning)\n"
          ],
          "name": "stderr"
        }
      ]
    },
    {
      "metadata": {
        "id": "BiLR2dmh9gJk",
        "colab_type": "text"
      },
      "cell_type": "markdown",
      "source": [
        "**Oversample minority class**"
      ]
    },
    {
      "metadata": {
        "id": "4gazh0jZCCgC",
        "colab_type": "code",
        "colab": {}
      },
      "cell_type": "code",
      "source": [
        "x_train, x_test, y_train, y_test = train_test_split(x_data,y_data[\"label\"], test_size=0.25, random_state=5)\n",
        "X = pd.concat([x_train, y_train], axis=1)\n",
        "not_NE = X[X[\"label\"]!=\"NE\"]\n",
        "NE = X[X[\"label\"]==\"NE\"]\n",
        "not_NE_upsampled = resample(not_NE,\n",
        "                          replace=True, # sample with replacement\n",
        "                          n_samples=len(not_NE), # match number in majority class\n",
        "                          random_state=27) # reproducible results\n",
        "upsampled = pd.concat([NE, not_NE_upsampled])\n",
        "y_train=upsampled[\"label\"]\n",
        "x_train=upsampled.drop(\"label\",axis=1)\n",
        "y_pred = RandomForestClassifier(n_estimators=20).fit(x_train, y_train).predict(x_test)\n",
        "evaluate(y_test,y_pred)\n"
      ],
      "execution_count": 0,
      "outputs": []
    },
    {
      "metadata": {
        "id": "y7mBo3DUTHGt",
        "colab_type": "text"
      },
      "cell_type": "markdown",
      "source": [
        "**Generate synthetic samples**"
      ]
    },
    {
      "metadata": {
        "id": "S5TFloYJVBOk",
        "colab_type": "code",
        "outputId": "caf60566-bf54-41d1-97e2-ca40cf86fcbe",
        "colab": {
          "base_uri": "https://localhost:8080/",
          "height": 1112
        }
      },
      "cell_type": "code",
      "source": [
        "x_train, x_test, y_train, y_test = train_test_split(x_data, y_data, test_size=0.25, random_state=27)\n",
        "print(\"Original train samples=\",x_train.shape[0])\n",
        "#y_pred = RandomForestClassifier(n_estimators=15).fit(x_train, y_train).predict(x_test)\n",
        "#evaluate(y_test[\"label\"],y_pred)\n",
        "\n",
        "sm = SMOTE(random_state=27,)\n",
        "x_train, y_train = sm.fit_sample(x_train, y_train[\"label\"])\n",
        "print(\"Synthetic train samples=\",x_train.shape[0])\n",
        "print(\"****Randomforest****\")\n",
        "y_pred = RandomForestClassifier(n_estimators=20).fit(x_train, y_train).predict(x_test)\n",
        "evaluate(y_test[\"label\"],y_pred)\n",
        "print(\"****SVM****\")\n",
        "y_pred=svm.SVC().fit(x_train,y_train).predict(x_test)\n",
        "evaluate(y_test[\"label\"],y_pred)\n"
      ],
      "execution_count": 29,
      "outputs": [
        {
          "output_type": "stream",
          "text": [
            "Original train samples= 612\n",
            "Synthetic train samples= 2288\n",
            "****Randomforest****\n",
            "    E  N  NE  NW  S  SE  SW  W\n",
            "E   3  2   8   1  0   0   1  0\n",
            "N   1  3   7   0  0   1   1  0\n",
            "NE  9  3  68   2  4   3   1  0\n",
            "NW  0  1   2   1  0   1   2  0\n",
            "S   0  0   1   1  5   2   5  1\n",
            "SE  0  0   3   2  1   1   1  1\n",
            "SW  0  1   4   2  5   4  10  3\n",
            "W   1  3   6   5  2   2   3  4\n",
            "****************\n",
            "Accuracy= 46.57% // Model Accuracy=45%\n",
            "Average precision = 30.38% // Model precision=28%\n",
            "Average recall = 28.40% // Model recall=28%\n",
            "Precision micro= 46.57% //Model precision micro=45%\n",
            "Recall micro= 46.57% //Model recall micro=45%\n",
            "Precision weighted= 47.66% //Model weighted=56%\n",
            "Recall weighted = 46.57% //Model weighted=53%\n",
            "****************\n",
            "       Precision    Recall        F1\n",
            "W_DIR                               \n",
            "E       0.214286  0.200000  0.206897\n",
            "N       0.230769  0.230769  0.230769\n",
            "NE      0.686869  0.755556  0.719577\n",
            "NW      0.071429  0.142857  0.095238\n",
            "S       0.294118  0.333333  0.312500\n",
            "SE      0.071429  0.111111  0.086957\n",
            "SW      0.416667  0.344828  0.377358\n",
            "W       0.444444  0.153846  0.228571\n",
            "****SVM****\n"
          ],
          "name": "stdout"
        },
        {
          "output_type": "stream",
          "text": [
            "/usr/local/lib/python3.6/dist-packages/sklearn/svm/base.py:196: FutureWarning: The default value of gamma will change from 'auto' to 'scale' in version 0.22 to account better for unscaled features. Set gamma explicitly to 'auto' or 'scale' to avoid this warning.\n",
            "  \"avoid this warning.\", FutureWarning)\n"
          ],
          "name": "stderr"
        },
        {
          "output_type": "stream",
          "text": [
            "    E  N  NE  NW  S  SE  SW  W\n",
            "E   0  1  14   0  0   0   0  0\n",
            "N   0  0  13   0  0   0   0  0\n",
            "NE  0  0  90   0  0   0   0  0\n",
            "NW  0  0   5   1  0   0   0  1\n",
            "S   0  0  12   0  0   0   3  0\n",
            "SE  0  0   9   0  0   0   0  0\n",
            "SW  0  0  22   0  2   0   4  1\n",
            "W   0  1  24   0  0   0   0  1\n",
            "****************\n",
            "Accuracy= 47.06% // Model Accuracy=45%\n",
            "Average precision = 29.76% // Model precision=28%\n",
            "Average recall = 16.49% // Model recall=28%\n",
            "Precision micro= 47.06% //Model precision micro=45%\n",
            "Recall micro= 47.06% //Model recall micro=45%\n",
            "Precision weighted= 36.81% //Model weighted=56%\n",
            "Recall weighted = 47.06% //Model weighted=53%\n",
            "****************\n",
            "       Precision    Recall        F1\n",
            "W_DIR                               \n",
            "E       0.000000  0.000000  0.000000\n",
            "N       0.000000  0.000000  0.000000\n",
            "NE      0.476190  1.000000  0.645161\n",
            "NW      1.000000  0.142857  0.250000\n",
            "S       0.000000  0.000000  0.000000\n",
            "SE      0.000000  0.000000  0.000000\n",
            "SW      0.571429  0.137931  0.222222\n",
            "W       0.333333  0.038462  0.068966\n"
          ],
          "name": "stdout"
        },
        {
          "output_type": "stream",
          "text": [
            "/usr/local/lib/python3.6/dist-packages/sklearn/metrics/classification.py:1143: UndefinedMetricWarning: Precision and F-score are ill-defined and being set to 0.0 in labels with no predicted samples.\n",
            "  'precision', 'predicted', average, warn_for)\n"
          ],
          "name": "stderr"
        }
      ]
    },
    {
      "metadata": {
        "id": "cGrTM2wN9YxG",
        "colab_type": "text"
      },
      "cell_type": "markdown",
      "source": [
        "**Cross validation K_folds**"
      ]
    },
    {
      "metadata": {
        "id": "AP6Cpp4u9in-",
        "colab_type": "code",
        "outputId": "0775d261-ab3e-435e-ded6-8650fd73d539",
        "colab": {
          "base_uri": "https://localhost:8080/",
          "height": 373
        }
      },
      "cell_type": "code",
      "source": [
        "clf=RandomForestClassifier(n_estimators=5)\n",
        "scoring = ['precision_macro', 'recall_macro','f1_macro',\"accuracy\"]\n",
        "scores = cross_validate(clf, x_data, y_data[\"label\"], scoring=scoring,\n",
        "                        cv=10, return_train_score=False)\n",
        "print(scores[\"test_accuracy\"])\n",
        "print(scores[\"test_f1_macro\"])\n",
        "\n",
        "print(\"Accuracy: {:.2%} (+/- {:.2%})\" .format (scores[\"test_accuracy\"].mean(), scores[\"test_accuracy\"].std() * 2))\n",
        "print(\"Recall: {:.2%} (+/- {:.2%})\" .format (scores[\"test_recall_macro\"].mean(), scores[\"test_recall_macro\"].std() * 2))\n",
        "print(\"Precision: {:.2%} (+/- {:.2%})\" .format (scores[\"test_precision_macro\"].mean(), scores[\"test_precision_macro\"].std() * 2))\n",
        "print(\"f1: {:.2%} (+/-{:.2%} )\".format (scores[\"test_f1_macro\"].mean(), scores[\"test_f1_macro\"].std() * 2))"
      ],
      "execution_count": 30,
      "outputs": [
        {
          "output_type": "stream",
          "text": [
            "[0.41666667 0.47619048 0.54761905 0.46987952 0.52439024 0.45679012\n",
            " 0.65       0.4625     0.425      0.41025641]\n",
            "[0.24100529 0.26372896 0.2793254  0.31212464 0.23127833 0.2469246\n",
            " 0.38714255 0.27010346 0.27597403 0.1812181 ]\n",
            "Accuracy: 48.39% (+/- 13.88%)\n",
            "Recall: 27.45% (+/- 11.56%)\n",
            "Precision: 30.33% (+/- 13.40%)\n",
            "f1: 26.89% (+/-10.28% )\n"
          ],
          "name": "stdout"
        },
        {
          "output_type": "stream",
          "text": [
            "/usr/local/lib/python3.6/dist-packages/sklearn/metrics/classification.py:1143: UndefinedMetricWarning: Precision is ill-defined and being set to 0.0 in labels with no predicted samples.\n",
            "  'precision', 'predicted', average, warn_for)\n",
            "/usr/local/lib/python3.6/dist-packages/sklearn/metrics/classification.py:1143: UndefinedMetricWarning: F-score is ill-defined and being set to 0.0 in labels with no predicted samples.\n",
            "  'precision', 'predicted', average, warn_for)\n",
            "/usr/local/lib/python3.6/dist-packages/sklearn/metrics/classification.py:1143: UndefinedMetricWarning: Precision is ill-defined and being set to 0.0 in labels with no predicted samples.\n",
            "  'precision', 'predicted', average, warn_for)\n",
            "/usr/local/lib/python3.6/dist-packages/sklearn/metrics/classification.py:1143: UndefinedMetricWarning: F-score is ill-defined and being set to 0.0 in labels with no predicted samples.\n",
            "  'precision', 'predicted', average, warn_for)\n",
            "/usr/local/lib/python3.6/dist-packages/sklearn/metrics/classification.py:1143: UndefinedMetricWarning: Precision is ill-defined and being set to 0.0 in labels with no predicted samples.\n",
            "  'precision', 'predicted', average, warn_for)\n",
            "/usr/local/lib/python3.6/dist-packages/sklearn/metrics/classification.py:1143: UndefinedMetricWarning: F-score is ill-defined and being set to 0.0 in labels with no predicted samples.\n",
            "  'precision', 'predicted', average, warn_for)\n"
          ],
          "name": "stderr"
        }
      ]
    },
    {
      "metadata": {
        "id": "_xwqYe34xCEt",
        "colab_type": "text"
      },
      "cell_type": "markdown",
      "source": [
        "**Tuning SVM**"
      ]
    },
    {
      "metadata": {
        "id": "Xz5ttTxJxBmv",
        "colab_type": "code",
        "outputId": "3c67cf74-0a90-482a-c897-8e3b2753a957",
        "colab": {
          "base_uri": "https://localhost:8080/",
          "height": 50
        }
      },
      "cell_type": "code",
      "source": [
        "x_train, x_test, y_train, y_test = train_test_split(x_data, y_data, test_size=0.25, random_state=27)\n",
        "tuned_parameters = {'kernel': ['rbf'], 'gamma': [1e-3, 1e-4], 'C': [1, 10, 100, 1000]}\n",
        "#Generate synthetic samples\n",
        "sm = SMOTE(random_state=27,)\n",
        "x_train, y_train = sm.fit_sample(x_train, y_train[\"label\"])\n",
        "clf = GridSearchCV(svm.SVC(), tuned_parameters,scoring=\"f1_macro\", cv=5).fit(x_train, y_train)\n",
        "                    \n",
        "print(\"Best parameters=\",clf.best_params_)\n",
        "print(\"Best F1=\",clf.best_score_)\n",
        "#SVC(C=1000, gamma=0.001, kernel='rbf')\n"
      ],
      "execution_count": 15,
      "outputs": [
        {
          "output_type": "stream",
          "text": [
            "Best parameters= {'C': 100, 'gamma': 0.001, 'kernel': 'rbf'}\n",
            "Best F1= 0.8435515015134369\n"
          ],
          "name": "stdout"
        }
      ]
    },
    {
      "metadata": {
        "id": "CKVqI6LeSAly",
        "colab_type": "text"
      },
      "cell_type": "markdown",
      "source": [
        "**Evaluate SVM with best parameters**"
      ]
    },
    {
      "metadata": {
        "id": "8dyekuSnST1T",
        "colab_type": "code",
        "outputId": "717959a3-cba6-452d-b9d0-fd9d7941c5a2",
        "colab": {
          "base_uri": "https://localhost:8080/",
          "height": 420
        }
      },
      "cell_type": "code",
      "source": [
        "x_train, x_test, y_train, y_test = train_test_split(x_data, y_data, test_size=0.25, random_state=27)\n",
        "#Generate synthetic samples\n",
        "sm = SMOTE(random_state=27,)\n",
        "x_train, y_train = sm.fit_sample(x_train, y_train[\"label\"])\n",
        "y_pred=svm.SVC(C=100, gamma=0.001, kernel='rbf').fit(x_train,y_train).predict(x_test)\n",
        "evaluate(y_test[\"label\"],y_pred)"
      ],
      "execution_count": 16,
      "outputs": [
        {
          "output_type": "stream",
          "text": [
            "    E  N  NE  NW  S  SE  SW  W\n",
            "E   1  3  10   0  0   0   1  0\n",
            "N   0  3   8   1  0   0   0  1\n",
            "NE  3  6  74   0  2   1   3  1\n",
            "NW  0  1   3   1  0   0   1  1\n",
            "S   0  0   4   1  4   2   3  1\n",
            "SE  1  0   4   1  1   0   1  1\n",
            "SW  2  1   5   3  7   3   5  3\n",
            "W   0  5   9   2  4   1   3  2\n",
            "****************\n",
            "Accuracy= 44.12%  Model Accuracy=32.17%\n",
            "****************\n",
            "Average precision = 22.01%  Model precision=21.03%\n",
            "Average recall = 22.23%  Model recall=21.71%\n",
            "       Precision    Recall        F1\n",
            "W_DIR                               \n",
            "E       0.142857  0.066667  0.090909\n",
            "N       0.157895  0.230769  0.187500\n",
            "NE      0.632479  0.822222  0.714976\n",
            "NW      0.111111  0.142857  0.125000\n",
            "S       0.222222  0.266667  0.242424\n",
            "SE      0.000000  0.000000  0.000000\n",
            "SW      0.294118  0.172414  0.217391\n",
            "W       0.200000  0.076923  0.111111\n"
          ],
          "name": "stdout"
        }
      ]
    },
    {
      "metadata": {
        "id": "DzftoqKdTSbC",
        "colab_type": "text"
      },
      "cell_type": "markdown",
      "source": [
        "**Tuning RandomForestClassifier**"
      ]
    },
    {
      "metadata": {
        "id": "stSi4FO1UEre",
        "colab_type": "code",
        "outputId": "70655885-f0cd-4463-f42f-881b92278502",
        "colab": {
          "base_uri": "https://localhost:8080/",
          "height": 154
        }
      },
      "cell_type": "code",
      "source": [
        "x_train, x_test, y_train, y_test = train_test_split(x_data, y_data, test_size=0.25, random_state=27)\n",
        "# Number of trees in random forest\n",
        "n_estimators = [int(x) for x in np.linspace(start = 200, stop = 2000, num = 10)]\n",
        "# Number of features to consider at every split\n",
        "max_features = ['auto', 'sqrt']\n",
        "# Maximum number of levels in tree\n",
        "max_depth = [int(x) for x in np.linspace(10, 110, num = 11)]\n",
        "max_depth.append(None)\n",
        "# Minimum number of samples required to split a node\n",
        "min_samples_split = [2, 5, 10]\n",
        "# Minimum number of samples required at each leaf node\n",
        "min_samples_leaf = [1, 2, 4]\n",
        "# Method of selecting samples for training each tree\n",
        "bootstrap = [True, False]\n",
        "# Create the random grid\n",
        "random_grid = {'n_estimators': n_estimators,\n",
        "               'max_features': max_features,\n",
        "               'max_depth': max_depth,\n",
        "               'min_samples_split': min_samples_split,\n",
        "               'min_samples_leaf': min_samples_leaf,\n",
        "               'bootstrap': bootstrap}\n",
        "\n",
        "# Use the random grid to search for best hyperparameters\n",
        "# First create the base model to tune\n",
        "rf = RandomForestClassifier()\n",
        "# Random search of parameters, using 3 fold cross validation, \n",
        "# search across 100 different combinations, and use all available cores\n",
        "rf_random = RandomizedSearchCV(estimator = rf, param_distributions = random_grid, n_iter = 20, cv = 3, verbose=2, random_state=42, n_jobs = -1)\n",
        "# Fit the random search model\n",
        "# Synthetic samples\n",
        "sm = SMOTE(random_state=27,)\n",
        "x_train, y_train = sm.fit_sample(x_train, y_train[\"label\"])\n",
        "rf_random.fit(x_train, y_train)\n",
        "print(\"best parameters\",rf_random.best_params_)"
      ],
      "execution_count": 0,
      "outputs": [
        {
          "output_type": "stream",
          "text": [
            "Fitting 3 folds for each of 20 candidates, totalling 60 fits\n"
          ],
          "name": "stdout"
        },
        {
          "output_type": "stream",
          "text": [
            "[Parallel(n_jobs=-1)]: Using backend LokyBackend with 2 concurrent workers.\n",
            "/usr/local/lib/python3.6/dist-packages/sklearn/externals/joblib/externals/loky/process_executor.py:706: UserWarning: A worker stopped while some jobs were given to the executor. This can be caused by a too short worker timeout or by a memory leak.\n",
            "  \"timeout or by a memory leak.\", UserWarning\n",
            "[Parallel(n_jobs=-1)]: Done  37 tasks      | elapsed:  2.1min\n",
            "[Parallel(n_jobs=-1)]: Done  60 out of  60 | elapsed:  3.8min finished\n"
          ],
          "name": "stderr"
        },
        {
          "output_type": "stream",
          "text": [
            "best parameters {'n_estimators': 800, 'min_samples_split': 2, 'min_samples_leaf': 1, 'max_features': 'sqrt', 'max_depth': 20, 'bootstrap': False}\n"
          ],
          "name": "stdout"
        }
      ]
    },
    {
      "metadata": {
        "id": "tbUdmzP9cn-k",
        "colab_type": "text"
      },
      "cell_type": "markdown",
      "source": [
        "**Running Randomforest tuned**"
      ]
    },
    {
      "metadata": {
        "id": "pUyO-ldQakio",
        "colab_type": "code",
        "outputId": "c5859d7c-fdc8-4627-f5ca-02f2a8b88a91",
        "colab": {
          "base_uri": "https://localhost:8080/",
          "height": 420
        }
      },
      "cell_type": "code",
      "source": [
        "x_train, x_test, y_train, y_test = train_test_split(x_data, y_data, test_size=0.3, random_state=27)\n",
        "#Generate synthetic samples\n",
        "sm = SMOTE(random_state=27,)\n",
        "x_train, y_train = sm.fit_sample(x_train, y_train[\"label\"])\n",
        "clas=RandomForestClassifier(bootstrap=False, class_weight=None, criterion='gini',\n",
        "            max_depth=70, max_features='sqrt', max_leaf_nodes=None,\n",
        "            min_impurity_decrease=0.0, min_impurity_split=None,\n",
        "            min_samples_leaf=2, min_samples_split=2,\n",
        "            min_weight_fraction_leaf=0.0, n_estimators=20, n_jobs=None,\n",
        "            oob_score=False, random_state=None, verbose=0,\n",
        "            warm_start=False)\n",
        "y_pred = clas.fit(x_train, y_train).predict(x_test)\n",
        "evaluate(y_test[\"label\"],y_pred)"
      ],
      "execution_count": 17,
      "outputs": [
        {
          "output_type": "stream",
          "text": [
            "    E   N  NE  NW  S  SE  SW   W\n",
            "E   2   3   8   1  3   0   1   1\n",
            "N   0   7   8   1  0   0   1   0\n",
            "NE  4  11  79   3  4   3   0   1\n",
            "NW  0   1   2   2  1   0   2   0\n",
            "S   0   1   2   2  7   2   4   1\n",
            "SE  0   1   5   0  1   0   1   1\n",
            "SW  1   1   5   3  6   6   8   7\n",
            "W   1   2   7   2  5   2   2  10\n",
            "****************\n",
            "Accuracy= 46.94%  Model Accuracy=32.17%\n",
            "****************\n",
            "Average precision = 31.12%  Model precision=21.03%\n",
            "Average recall = 30.33%  Model recall=21.71%\n",
            "       Precision    Recall        F1\n",
            "W_DIR                               \n",
            "E       0.250000  0.105263  0.148148\n",
            "N       0.259259  0.411765  0.318182\n",
            "NE      0.681034  0.752381  0.714932\n",
            "NW      0.142857  0.250000  0.181818\n",
            "S       0.259259  0.368421  0.304348\n",
            "SE      0.000000  0.000000  0.000000\n",
            "SW      0.421053  0.216216  0.285714\n",
            "W       0.476190  0.322581  0.384615\n"
          ],
          "name": "stdout"
        }
      ]
    },
    {
      "metadata": {
        "id": "LlilleENjZTN",
        "colab_type": "text"
      },
      "cell_type": "markdown",
      "source": [
        "**Cross validation K_folds**"
      ]
    },
    {
      "metadata": {
        "id": "zw677JaDjYby",
        "colab_type": "code",
        "outputId": "f88d209f-ee79-410e-a26f-852d476cb81f",
        "colab": {
          "base_uri": "https://localhost:8080/",
          "height": 1381
        }
      },
      "cell_type": "code",
      "source": [
        "scoring = ['precision_macro', 'recall_macro','f1_macro',\"accuracy\"]\n",
        "scores = cross_validate(clas, x_data, y_data[\"label\"], scoring=scoring,\n",
        "                        cv=20, return_train_score=False)\n",
        "print(\"Accuracy: {:.2%} (+/- {:.2%})\" .format (scores[\"test_accuracy\"].mean(), scores[\"test_accuracy\"].std() * 2))\n",
        "print(\"Recall: {:.2%} (+/- {:.2%})\" .format (scores[\"test_recall_macro\"].mean(), scores[\"test_recall_macro\"].std() * 2))\n",
        "print(\"Precision: {:.2%} (+/- {:.2%})\" .format (scores[\"test_precision_macro\"].mean(), scores[\"test_precision_macro\"].std() * 2))\n",
        "print(\"f1: {:.2%} (+/-{:.2%} )\".format (scores[\"test_f1_macro\"].mean(), scores[\"test_f1_macro\"].std() * 2))"
      ],
      "execution_count": 0,
      "outputs": [
        {
          "output_type": "stream",
          "text": [
            "/usr/local/lib/python3.6/dist-packages/sklearn/metrics/classification.py:1143: UndefinedMetricWarning: Precision is ill-defined and being set to 0.0 in labels with no predicted samples.\n",
            "  'precision', 'predicted', average, warn_for)\n",
            "/usr/local/lib/python3.6/dist-packages/sklearn/metrics/classification.py:1143: UndefinedMetricWarning: F-score is ill-defined and being set to 0.0 in labels with no predicted samples.\n",
            "  'precision', 'predicted', average, warn_for)\n",
            "/usr/local/lib/python3.6/dist-packages/sklearn/metrics/classification.py:1143: UndefinedMetricWarning: Precision is ill-defined and being set to 0.0 in labels with no predicted samples.\n",
            "  'precision', 'predicted', average, warn_for)\n",
            "/usr/local/lib/python3.6/dist-packages/sklearn/metrics/classification.py:1143: UndefinedMetricWarning: F-score is ill-defined and being set to 0.0 in labels with no predicted samples.\n",
            "  'precision', 'predicted', average, warn_for)\n",
            "/usr/local/lib/python3.6/dist-packages/sklearn/metrics/classification.py:1143: UndefinedMetricWarning: Precision is ill-defined and being set to 0.0 in labels with no predicted samples.\n",
            "  'precision', 'predicted', average, warn_for)\n",
            "/usr/local/lib/python3.6/dist-packages/sklearn/metrics/classification.py:1143: UndefinedMetricWarning: F-score is ill-defined and being set to 0.0 in labels with no predicted samples.\n",
            "  'precision', 'predicted', average, warn_for)\n",
            "/usr/local/lib/python3.6/dist-packages/sklearn/metrics/classification.py:1143: UndefinedMetricWarning: Precision is ill-defined and being set to 0.0 in labels with no predicted samples.\n",
            "  'precision', 'predicted', average, warn_for)\n",
            "/usr/local/lib/python3.6/dist-packages/sklearn/metrics/classification.py:1143: UndefinedMetricWarning: F-score is ill-defined and being set to 0.0 in labels with no predicted samples.\n",
            "  'precision', 'predicted', average, warn_for)\n",
            "/usr/local/lib/python3.6/dist-packages/sklearn/metrics/classification.py:1143: UndefinedMetricWarning: Precision is ill-defined and being set to 0.0 in labels with no predicted samples.\n",
            "  'precision', 'predicted', average, warn_for)\n",
            "/usr/local/lib/python3.6/dist-packages/sklearn/metrics/classification.py:1143: UndefinedMetricWarning: F-score is ill-defined and being set to 0.0 in labels with no predicted samples.\n",
            "  'precision', 'predicted', average, warn_for)\n",
            "/usr/local/lib/python3.6/dist-packages/sklearn/metrics/classification.py:1143: UndefinedMetricWarning: Precision is ill-defined and being set to 0.0 in labels with no predicted samples.\n",
            "  'precision', 'predicted', average, warn_for)\n",
            "/usr/local/lib/python3.6/dist-packages/sklearn/metrics/classification.py:1143: UndefinedMetricWarning: F-score is ill-defined and being set to 0.0 in labels with no predicted samples.\n",
            "  'precision', 'predicted', average, warn_for)\n",
            "/usr/local/lib/python3.6/dist-packages/sklearn/metrics/classification.py:1143: UndefinedMetricWarning: Precision is ill-defined and being set to 0.0 in labels with no predicted samples.\n",
            "  'precision', 'predicted', average, warn_for)\n",
            "/usr/local/lib/python3.6/dist-packages/sklearn/metrics/classification.py:1143: UndefinedMetricWarning: F-score is ill-defined and being set to 0.0 in labels with no predicted samples.\n",
            "  'precision', 'predicted', average, warn_for)\n",
            "/usr/local/lib/python3.6/dist-packages/sklearn/metrics/classification.py:1143: UndefinedMetricWarning: Precision is ill-defined and being set to 0.0 in labels with no predicted samples.\n",
            "  'precision', 'predicted', average, warn_for)\n",
            "/usr/local/lib/python3.6/dist-packages/sklearn/metrics/classification.py:1143: UndefinedMetricWarning: F-score is ill-defined and being set to 0.0 in labels with no predicted samples.\n",
            "  'precision', 'predicted', average, warn_for)\n",
            "/usr/local/lib/python3.6/dist-packages/sklearn/metrics/classification.py:1143: UndefinedMetricWarning: Precision is ill-defined and being set to 0.0 in labels with no predicted samples.\n",
            "  'precision', 'predicted', average, warn_for)\n",
            "/usr/local/lib/python3.6/dist-packages/sklearn/metrics/classification.py:1143: UndefinedMetricWarning: F-score is ill-defined and being set to 0.0 in labels with no predicted samples.\n",
            "  'precision', 'predicted', average, warn_for)\n",
            "/usr/local/lib/python3.6/dist-packages/sklearn/metrics/classification.py:1143: UndefinedMetricWarning: Precision is ill-defined and being set to 0.0 in labels with no predicted samples.\n",
            "  'precision', 'predicted', average, warn_for)\n",
            "/usr/local/lib/python3.6/dist-packages/sklearn/metrics/classification.py:1143: UndefinedMetricWarning: F-score is ill-defined and being set to 0.0 in labels with no predicted samples.\n",
            "  'precision', 'predicted', average, warn_for)\n",
            "/usr/local/lib/python3.6/dist-packages/sklearn/metrics/classification.py:1143: UndefinedMetricWarning: Precision is ill-defined and being set to 0.0 in labels with no predicted samples.\n",
            "  'precision', 'predicted', average, warn_for)\n",
            "/usr/local/lib/python3.6/dist-packages/sklearn/metrics/classification.py:1143: UndefinedMetricWarning: F-score is ill-defined and being set to 0.0 in labels with no predicted samples.\n",
            "  'precision', 'predicted', average, warn_for)\n",
            "/usr/local/lib/python3.6/dist-packages/sklearn/metrics/classification.py:1143: UndefinedMetricWarning: Precision is ill-defined and being set to 0.0 in labels with no predicted samples.\n",
            "  'precision', 'predicted', average, warn_for)\n",
            "/usr/local/lib/python3.6/dist-packages/sklearn/metrics/classification.py:1143: UndefinedMetricWarning: F-score is ill-defined and being set to 0.0 in labels with no predicted samples.\n",
            "  'precision', 'predicted', average, warn_for)\n",
            "/usr/local/lib/python3.6/dist-packages/sklearn/metrics/classification.py:1143: UndefinedMetricWarning: Precision is ill-defined and being set to 0.0 in labels with no predicted samples.\n",
            "  'precision', 'predicted', average, warn_for)\n",
            "/usr/local/lib/python3.6/dist-packages/sklearn/metrics/classification.py:1143: UndefinedMetricWarning: F-score is ill-defined and being set to 0.0 in labels with no predicted samples.\n",
            "  'precision', 'predicted', average, warn_for)\n",
            "/usr/local/lib/python3.6/dist-packages/sklearn/metrics/classification.py:1143: UndefinedMetricWarning: Precision is ill-defined and being set to 0.0 in labels with no predicted samples.\n",
            "  'precision', 'predicted', average, warn_for)\n",
            "/usr/local/lib/python3.6/dist-packages/sklearn/metrics/classification.py:1143: UndefinedMetricWarning: F-score is ill-defined and being set to 0.0 in labels with no predicted samples.\n",
            "  'precision', 'predicted', average, warn_for)\n",
            "/usr/local/lib/python3.6/dist-packages/sklearn/metrics/classification.py:1143: UndefinedMetricWarning: Precision is ill-defined and being set to 0.0 in labels with no predicted samples.\n",
            "  'precision', 'predicted', average, warn_for)\n",
            "/usr/local/lib/python3.6/dist-packages/sklearn/metrics/classification.py:1143: UndefinedMetricWarning: F-score is ill-defined and being set to 0.0 in labels with no predicted samples.\n",
            "  'precision', 'predicted', average, warn_for)\n"
          ],
          "name": "stderr"
        },
        {
          "output_type": "stream",
          "text": [
            "Accuracy: 33.58% (+/- 33.58%)\n",
            "Recall: 28.44% (+/- 28.08%)\n",
            "Precision: 20.75% (+/- 25.29%)\n",
            "f1: 22.75% (+/-26.01% )\n"
          ],
          "name": "stdout"
        },
        {
          "output_type": "stream",
          "text": [
            "/usr/local/lib/python3.6/dist-packages/sklearn/metrics/classification.py:1143: UndefinedMetricWarning: Precision is ill-defined and being set to 0.0 in labels with no predicted samples.\n",
            "  'precision', 'predicted', average, warn_for)\n",
            "/usr/local/lib/python3.6/dist-packages/sklearn/metrics/classification.py:1143: UndefinedMetricWarning: F-score is ill-defined and being set to 0.0 in labels with no predicted samples.\n",
            "  'precision', 'predicted', average, warn_for)\n",
            "/usr/local/lib/python3.6/dist-packages/sklearn/metrics/classification.py:1143: UndefinedMetricWarning: Precision is ill-defined and being set to 0.0 in labels with no predicted samples.\n",
            "  'precision', 'predicted', average, warn_for)\n",
            "/usr/local/lib/python3.6/dist-packages/sklearn/metrics/classification.py:1143: UndefinedMetricWarning: F-score is ill-defined and being set to 0.0 in labels with no predicted samples.\n",
            "  'precision', 'predicted', average, warn_for)\n",
            "/usr/local/lib/python3.6/dist-packages/sklearn/metrics/classification.py:1143: UndefinedMetricWarning: Precision is ill-defined and being set to 0.0 in labels with no predicted samples.\n",
            "  'precision', 'predicted', average, warn_for)\n",
            "/usr/local/lib/python3.6/dist-packages/sklearn/metrics/classification.py:1143: UndefinedMetricWarning: F-score is ill-defined and being set to 0.0 in labels with no predicted samples.\n",
            "  'precision', 'predicted', average, warn_for)\n",
            "/usr/local/lib/python3.6/dist-packages/sklearn/metrics/classification.py:1143: UndefinedMetricWarning: Precision is ill-defined and being set to 0.0 in labels with no predicted samples.\n",
            "  'precision', 'predicted', average, warn_for)\n",
            "/usr/local/lib/python3.6/dist-packages/sklearn/metrics/classification.py:1143: UndefinedMetricWarning: F-score is ill-defined and being set to 0.0 in labels with no predicted samples.\n",
            "  'precision', 'predicted', average, warn_for)\n"
          ],
          "name": "stderr"
        }
      ]
    }
  ]
}