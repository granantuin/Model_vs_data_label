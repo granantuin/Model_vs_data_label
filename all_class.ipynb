{
  "nbformat": 4,
  "nbformat_minor": 0,
  "metadata": {
    "colab": {
      "name": "all_class.ipynb",
      "version": "0.3.2",
      "provenance": [],
      "collapsed_sections": [],
      "include_colab_link": true
    },
    "kernelspec": {
      "name": "python3",
      "display_name": "Python 3"
    }
  },
  "cells": [
    {
      "cell_type": "markdown",
      "metadata": {
        "id": "view-in-github",
        "colab_type": "text"
      },
      "source": [
        "<a href=\"https://colab.research.google.com/github/granantuin/Model_vs_data_label/blob/master/all_class.ipynb\" target=\"_parent\"><img src=\"https://colab.research.google.com/assets/colab-badge.svg\" alt=\"Open In Colab\"/></a>"
      ]
    },
    {
      "metadata": {
        "id": "eKAeeLLI18Qj",
        "colab_type": "code",
        "colab": {}
      },
      "cell_type": "code",
      "source": [
        "from sklearn.metrics import precision_recall_fscore_support,confusion_matrix,accuracy_score\n",
        "import pandas as pd\n",
        "import numpy as np\n",
        "import seaborn as sns\n",
        "import matplotlib.pyplot as plt\n",
        "from sklearn.model_selection import train_test_split,cross_val_score,cross_validate,GridSearchCV\n",
        "from sklearn import svm\n",
        "from sklearn.dummy import DummyClassifier\n",
        "from sklearn.ensemble import RandomForestClassifier\n",
        "from sklearn.utils import resample\n",
        "from imblearn.over_sampling import SMOTE\n",
        "from sklearn.model_selection import RandomizedSearchCV"
      ],
      "execution_count": 0,
      "outputs": []
    },
    {
      "metadata": {
        "id": "YSxUuEeOB4vV",
        "colab_type": "code",
        "colab": {}
      },
      "cell_type": "code",
      "source": [
        "def evaluate(y_test,y_pred):\n",
        "  index=[\"E\",\"N\",\"NE\",\"NW\",\"S\",\"SE\",\"SW\",\"W\"]\n",
        "  print(pd.DataFrame(confusion_matrix(y_test, y_pred), index=index, columns=index))\n",
        "  print(\"****************\")\n",
        "  print(\"Accuracy=\",\"{:.2%}\".format(accuracy_score(y_test, y_pred)),\" Model Accuracy=32.17%\")\n",
        "  print(\"****************\")\n",
        "  results= precision_recall_fscore_support(y_test, y_pred, average=None, )\n",
        "  df=pd.DataFrame({\"Precision\":results[0],\"Recall\":results[1],\"F1\":results[2],\"W_DIR\":index})\n",
        "  df=df.set_index(\"W_DIR\")\n",
        "  print(\"Average precision =\",\"{:.2%}\".format(df[\"Precision\"].mean()),\" Model precision=21.03%\")\n",
        "  print(\"Average recall =\",\"{:.2%}\".format(df[\"Recall\"].mean()),\" Model recall=21.71%\")\n",
        "  print(df)\n",
        "  "
      ],
      "execution_count": 0,
      "outputs": []
    },
    {
      "metadata": {
        "id": "D6Kp-M-UUxW5",
        "colab_type": "code",
        "outputId": "5c7b35e6-44b7-4167-f58d-27f2f6fa323c",
        "colab": {
          "base_uri": "https://localhost:8080/",
          "height": 121
        }
      },
      "cell_type": "code",
      "source": [
        "\n",
        "from google.colab import drive\n",
        "drive.mount('/content/drive')\n"
      ],
      "execution_count": 3,
      "outputs": [
        {
          "output_type": "stream",
          "text": [
            "Go to this URL in a browser: https://accounts.google.com/o/oauth2/auth?client_id=947318989803-6bn6qk8qdgf4n4g3pfee6491hc0brc4i.apps.googleusercontent.com&redirect_uri=urn%3Aietf%3Awg%3Aoauth%3A2.0%3Aoob&scope=email%20https%3A%2F%2Fwww.googleapis.com%2Fauth%2Fdocs.test%20https%3A%2F%2Fwww.googleapis.com%2Fauth%2Fdrive%20https%3A%2F%2Fwww.googleapis.com%2Fauth%2Fdrive.photos.readonly%20https%3A%2F%2Fwww.googleapis.com%2Fauth%2Fpeopleapi.readonly&response_type=code\n",
            "\n",
            "Enter your authorization code:\n",
            "··········\n",
            "Mounted at /content/drive\n"
          ],
          "name": "stdout"
        }
      ]
    },
    {
      "metadata": {
        "id": "fMNa4r9hUI_G",
        "colab_type": "code",
        "colab": {}
      },
      "cell_type": "code",
      "source": [
        "drive_4km=\"/content/drive/My Drive/Colab Notebooks/model_vs_data/Coron_4km_h24toh48_dir/\"\n",
        "drive_1km=\"/content/drive/My Drive/Colab Notebooks/model_vs_data/Coron_Mars_H24to48_dir/\"\n",
        "dr=[drive_4km,drive_1km]"
      ],
      "execution_count": 0,
      "outputs": []
    },
    {
      "metadata": {
        "id": "UuxP1P0MUQnF",
        "colab_type": "code",
        "colab": {}
      },
      "cell_type": "code",
      "source": [
        "y_data=pd.read_excel(dr[1]+\"y_data.xlsx\")\n",
        "x_data=pd.read_csv(dr[1]+\"x_data\",usecols=range(1,10))"
      ],
      "execution_count": 0,
      "outputs": []
    },
    {
      "metadata": {
        "id": "4zBkI58Jmt1W",
        "colab_type": "code",
        "colab": {}
      },
      "cell_type": "code",
      "source": [
        "NE=y_data[(y_data[\"value\"]>22.5) & (y_data[\"value\"]<67.5)]\n",
        "NE[\"label\"]=\"NE\"\n",
        "E=y_data[(y_data[\"value\"]>67.5) & (y_data[\"value\"]<112.5)]\n",
        "E[\"label\"]=\"E\"\n",
        "SE=y_data[(y_data[\"value\"]>112.5) & (y_data[\"value\"]<157.5)]\n",
        "SE[\"label\"]=\"SE\"\n",
        "S=y_data[(y_data[\"value\"]>157.5) & (y_data[\"value\"]<202.5)]\n",
        "S[\"label\"]=\"S\"\n",
        "SW=y_data[(y_data[\"value\"]>202.5) & (y_data[\"value\"]<247.5)]\n",
        "SW[\"label\"]=\"SW\"\n",
        "W=y_data[(y_data[\"value\"]>247.5) & (y_data[\"value\"]<292.5)]\n",
        "W[\"label\"]=\"W\"\n",
        "NW=y_data[(y_data[\"value\"]>292.5) & (y_data[\"value\"]<337.5)]\n",
        "NW[\"label\"]=\"NW\"\n",
        "N=y_data[(y_data[\"value\"]>337.5) | (y_data[\"value\"]<22.5)]\n",
        "N[\"label\"]=\"N\"\n",
        "winds=[NE,N,E,SE,S,SW,W,NW]\n",
        "y_data=pd.concat(winds)\n",
        "y_data=y_data.sort_values(by=\"date\")"
      ],
      "execution_count": 0,
      "outputs": []
    },
    {
      "metadata": {
        "id": "7YH5BxoIW0fZ",
        "colab_type": "text"
      },
      "cell_type": "markdown",
      "source": [
        "**Display**"
      ]
    },
    {
      "metadata": {
        "id": "FlFMv1aYVNWc",
        "colab_type": "code",
        "colab": {}
      },
      "cell_type": "code",
      "source": [
        "pd.concat([x_data,y_data],axis=1).set_index('date')"
      ],
      "execution_count": 0,
      "outputs": []
    },
    {
      "metadata": {
        "id": "2l8aEPL-2MTm",
        "colab_type": "text"
      },
      "cell_type": "markdown",
      "source": [
        "**Classifier SVM**"
      ]
    },
    {
      "metadata": {
        "id": "DYbRo9V-XPzK",
        "colab_type": "code",
        "colab": {
          "base_uri": "https://localhost:8080/",
          "height": 507
        },
        "outputId": "1e4abfb6-f51b-4cfd-96cf-dafd0f9eea2f"
      },
      "cell_type": "code",
      "source": [
        "x_train, x_test, y_train, y_test = train_test_split(x_data,y_data[\"label\"], test_size=0.25, random_state=5)\n",
        "y_pred=svm.SVC().fit(x_train,y_train).predict(x_test)\n",
        "evaluate(y_test,y_pred)\n"
      ],
      "execution_count": 21,
      "outputs": [
        {
          "output_type": "stream",
          "text": [
            "    E  N  NE  NW  S  SE  SW  W\n",
            "E   0  0  12   0  0   0   0  0\n",
            "N   0  0  12   0  0   0   0  0\n",
            "NE  0  0  79   0  0   0   0  0\n",
            "NW  0  0   7   0  0   0   0  0\n",
            "S   0  0   9   0  0   0   0  0\n",
            "SE  0  0   4   0  0   0   0  0\n",
            "SW  0  0  17   0  0   0   0  0\n",
            "W   0  0  10   0  0   0   0  0\n",
            "****************\n",
            "Accuracy= 52.67%  Model Accuracy=32.17%\n",
            "****************\n",
            "Average precision = 6.58%  Model precision=21.03%\n",
            "Average recall = 12.50%  Model recall=21.71%\n",
            "       Precision  Recall        F1\n",
            "W_DIR                             \n",
            "E       0.000000     0.0  0.000000\n",
            "N       0.000000     0.0  0.000000\n",
            "NE      0.526667     1.0  0.689956\n",
            "NW      0.000000     0.0  0.000000\n",
            "S       0.000000     0.0  0.000000\n",
            "SE      0.000000     0.0  0.000000\n",
            "SW      0.000000     0.0  0.000000\n",
            "W       0.000000     0.0  0.000000\n"
          ],
          "name": "stdout"
        },
        {
          "output_type": "stream",
          "text": [
            "/usr/local/lib/python3.6/dist-packages/sklearn/svm/base.py:196: FutureWarning: The default value of gamma will change from 'auto' to 'scale' in version 0.22 to account better for unscaled features. Set gamma explicitly to 'auto' or 'scale' to avoid this warning.\n",
            "  \"avoid this warning.\", FutureWarning)\n",
            "/usr/local/lib/python3.6/dist-packages/sklearn/metrics/classification.py:1143: UndefinedMetricWarning: Precision and F-score are ill-defined and being set to 0.0 in labels with no predicted samples.\n",
            "  'precision', 'predicted', average, warn_for)\n"
          ],
          "name": "stderr"
        }
      ]
    },
    {
      "metadata": {
        "id": "HYIyQnM42fmV",
        "colab_type": "text"
      },
      "cell_type": "markdown",
      "source": [
        "**Classifier Dummy**"
      ]
    },
    {
      "metadata": {
        "id": "oD_A9aXY36oX",
        "colab_type": "code",
        "outputId": "0521ffde-e242-4f52-aed8-f063bd2bac63",
        "colab": {
          "base_uri": "https://localhost:8080/",
          "height": 507
        }
      },
      "cell_type": "code",
      "source": [
        "x_train, x_test, y_train, y_test = train_test_split(x_data,y_data[\"label\"], test_size=0.25, random_state=5)\n",
        "y_pred=svm.SVC().fit(x_train,y_train).predict(x_test)\n",
        "y_pred = DummyClassifier(strategy='most_frequent').fit(x_train, y_train).predict(x_test)\n",
        "evaluate(y_test,y_pred)\n",
        "\n"
      ],
      "execution_count": 22,
      "outputs": [
        {
          "output_type": "stream",
          "text": [
            "    E  N  NE  NW  S  SE  SW  W\n",
            "E   0  0  12   0  0   0   0  0\n",
            "N   0  0  12   0  0   0   0  0\n",
            "NE  0  0  79   0  0   0   0  0\n",
            "NW  0  0   7   0  0   0   0  0\n",
            "S   0  0   9   0  0   0   0  0\n",
            "SE  0  0   4   0  0   0   0  0\n",
            "SW  0  0  17   0  0   0   0  0\n",
            "W   0  0  10   0  0   0   0  0\n",
            "****************\n",
            "Accuracy= 52.67%  Model Accuracy=32.17%\n",
            "****************\n",
            "Average precision = 6.58%  Model precision=21.03%\n",
            "Average recall = 12.50%  Model recall=21.71%\n",
            "       Precision  Recall        F1\n",
            "W_DIR                             \n",
            "E       0.000000     0.0  0.000000\n",
            "N       0.000000     0.0  0.000000\n",
            "NE      0.526667     1.0  0.689956\n",
            "NW      0.000000     0.0  0.000000\n",
            "S       0.000000     0.0  0.000000\n",
            "SE      0.000000     0.0  0.000000\n",
            "SW      0.000000     0.0  0.000000\n",
            "W       0.000000     0.0  0.000000\n"
          ],
          "name": "stdout"
        },
        {
          "output_type": "stream",
          "text": [
            "/usr/local/lib/python3.6/dist-packages/sklearn/svm/base.py:196: FutureWarning: The default value of gamma will change from 'auto' to 'scale' in version 0.22 to account better for unscaled features. Set gamma explicitly to 'auto' or 'scale' to avoid this warning.\n",
            "  \"avoid this warning.\", FutureWarning)\n",
            "/usr/local/lib/python3.6/dist-packages/sklearn/metrics/classification.py:1143: UndefinedMetricWarning: Precision and F-score are ill-defined and being set to 0.0 in labels with no predicted samples.\n",
            "  'precision', 'predicted', average, warn_for)\n"
          ],
          "name": "stderr"
        }
      ]
    },
    {
      "metadata": {
        "id": "vgQWg4vX5rwp",
        "colab_type": "text"
      },
      "cell_type": "markdown",
      "source": [
        "**Classifier Randomforest**"
      ]
    },
    {
      "metadata": {
        "id": "pK3aW52-6BbO",
        "colab_type": "code",
        "colab": {
          "base_uri": "https://localhost:8080/",
          "height": 507
        },
        "outputId": "e1a23024-7bf5-4dde-e481-ad3e2e66ffe4"
      },
      "cell_type": "code",
      "source": [
        "x_train, x_test, y_train, y_test = train_test_split(x_data,y_data[\"label\"], test_size=0.25, random_state=5)\n",
        "y_pred=svm.SVC().fit(x_train,y_train).predict(x_test)\n",
        "y_pred = RandomForestClassifier(n_estimators=20).fit(x_train, y_train).predict(x_test)\n",
        "evaluate(y_test,y_pred)"
      ],
      "execution_count": 23,
      "outputs": [
        {
          "output_type": "stream",
          "text": [
            "    E  N  NE  NW  S  SE  SW  W\n",
            "E   1  0   9   0  1   0   1  0\n",
            "N   1  3   5   0  0   1   0  2\n",
            "NE  1  3  70   0  1   2   2  0\n",
            "NW  1  0   2   0  0   1   0  3\n",
            "S   0  0   1   0  3   1   0  4\n",
            "SE  0  0   3   0  0   0   1  0\n",
            "SW  0  0   5   0  3   1   4  4\n",
            "W   0  0   3   0  0   0   3  4\n",
            "****************\n",
            "Accuracy= 56.67%  Model Accuracy=32.17%\n",
            "****************\n",
            "Average precision = 30.48%  Model precision=21.03%\n",
            "Average recall = 27.35%  Model recall=21.71%\n",
            "       Precision    Recall        F1\n",
            "W_DIR                               \n",
            "E       0.250000  0.083333  0.125000\n",
            "N       0.500000  0.250000  0.333333\n",
            "NE      0.714286  0.886076  0.790960\n",
            "NW      0.000000  0.000000  0.000000\n",
            "S       0.375000  0.333333  0.352941\n",
            "SE      0.000000  0.000000  0.000000\n",
            "SW      0.363636  0.235294  0.285714\n",
            "W       0.235294  0.400000  0.296296\n"
          ],
          "name": "stdout"
        },
        {
          "output_type": "stream",
          "text": [
            "/usr/local/lib/python3.6/dist-packages/sklearn/svm/base.py:196: FutureWarning: The default value of gamma will change from 'auto' to 'scale' in version 0.22 to account better for unscaled features. Set gamma explicitly to 'auto' or 'scale' to avoid this warning.\n",
            "  \"avoid this warning.\", FutureWarning)\n",
            "/usr/local/lib/python3.6/dist-packages/sklearn/metrics/classification.py:1143: UndefinedMetricWarning: Precision and F-score are ill-defined and being set to 0.0 in labels with no predicted samples.\n",
            "  'precision', 'predicted', average, warn_for)\n"
          ],
          "name": "stderr"
        }
      ]
    },
    {
      "metadata": {
        "id": "BiLR2dmh9gJk",
        "colab_type": "text"
      },
      "cell_type": "markdown",
      "source": [
        "**Oversample minority class**"
      ]
    },
    {
      "metadata": {
        "id": "4gazh0jZCCgC",
        "colab_type": "code",
        "colab": {}
      },
      "cell_type": "code",
      "source": [
        "x_train, x_test, y_train, y_test = train_test_split(x_data,y_data[\"label\"], test_size=0.25, random_state=5)\n",
        "X = pd.concat([x_train, y_train], axis=1)\n",
        "not_NE = X[X[\"label\"]!=\"NE\"]\n",
        "NE = X[X[\"label\"]==\"NE\"]\n",
        "not_NE_upsampled = resample(not_NE,\n",
        "                          replace=True, # sample with replacement\n",
        "                          n_samples=len(not_NE), # match number in majority class\n",
        "                          random_state=27) # reproducible results\n",
        "upsampled = pd.concat([NE, not_NE_upsampled])\n",
        "y_train=upsampled[\"label\"]\n",
        "x_train=upsampled.drop(\"label\",axis=1)\n",
        "y_pred = RandomForestClassifier(n_estimators=20).fit(x_train, y_train).predict(x_test)\n",
        "evaluate(y_test,y_pred)\n"
      ],
      "execution_count": 0,
      "outputs": []
    },
    {
      "metadata": {
        "id": "y7mBo3DUTHGt",
        "colab_type": "text"
      },
      "cell_type": "markdown",
      "source": [
        "**Generate synthetic samples**"
      ]
    },
    {
      "metadata": {
        "id": "S5TFloYJVBOk",
        "colab_type": "code",
        "colab": {
          "base_uri": "https://localhost:8080/",
          "height": 978
        },
        "outputId": "38186ee2-7b05-4fd6-902d-4a039bf1a7e4"
      },
      "cell_type": "code",
      "source": [
        "x_train, x_test, y_train, y_test = train_test_split(x_data, y_data, test_size=0.25, random_state=27)\n",
        "print(\"Original train samples=\",x_train.shape[0])\n",
        "#y_pred = RandomForestClassifier(n_estimators=15).fit(x_train, y_train).predict(x_test)\n",
        "#evaluate(y_test[\"label\"],y_pred)\n",
        "\n",
        "sm = SMOTE(random_state=27,)\n",
        "x_train, y_train = sm.fit_sample(x_train, y_train[\"label\"])\n",
        "print(\"Synthetic train samples=\",x_train.shape[0])\n",
        "print(\"****Randomforest****\")\n",
        "y_pred = RandomForestClassifier(n_estimators=15).fit(x_train, y_train).predict(x_test)\n",
        "evaluate(y_test[\"label\"],y_pred)\n",
        "print(\"****SVM****\")\n",
        "y_pred=svm.SVC().fit(x_train,y_train).predict(x_test)\n",
        "evaluate(y_test[\"label\"],y_pred)\n"
      ],
      "execution_count": 24,
      "outputs": [
        {
          "output_type": "stream",
          "text": [
            "Original train samples= 450\n",
            "Synthetic train samples= 2024\n",
            "****Randomforest****\n",
            "    E  N  NE  NW  S  SE  SW  W\n",
            "E   0  1   6   1  1   1   0  0\n",
            "N   1  4   3   0  0   0   0  2\n",
            "NE  6  5  59   1  0   3   5  2\n",
            "NW  1  0   1   0  0   0   3  2\n",
            "S   0  0   0   1  3   1   5  2\n",
            "SE  2  1   0   0  1   0   1  1\n",
            "SW  1  1   1   0  4   0   5  0\n",
            "W   1  0   2   2  0   0   5  2\n",
            "****************\n",
            "Accuracy= 48.67%  Model Accuracy=32.17%\n",
            "****************\n",
            "Average precision = 23.45%  Model precision=21.03%\n",
            "Average recall = 24.52%  Model recall=21.71%\n",
            "       Precision    Recall        F1\n",
            "W_DIR                               \n",
            "E       0.000000  0.000000  0.000000\n",
            "N       0.333333  0.400000  0.363636\n",
            "NE      0.819444  0.728395  0.771242\n",
            "NW      0.000000  0.000000  0.000000\n",
            "S       0.333333  0.250000  0.285714\n",
            "SE      0.000000  0.000000  0.000000\n",
            "SW      0.208333  0.416667  0.277778\n",
            "W       0.181818  0.166667  0.173913\n",
            "****SVM****\n"
          ],
          "name": "stdout"
        },
        {
          "output_type": "stream",
          "text": [
            "/usr/local/lib/python3.6/dist-packages/sklearn/svm/base.py:196: FutureWarning: The default value of gamma will change from 'auto' to 'scale' in version 0.22 to account better for unscaled features. Set gamma explicitly to 'auto' or 'scale' to avoid this warning.\n",
            "  \"avoid this warning.\", FutureWarning)\n"
          ],
          "name": "stderr"
        },
        {
          "output_type": "stream",
          "text": [
            "    E  N  NE  NW  S  SE  SW  W\n",
            "E   0  0  10   0  0   0   0  0\n",
            "N   0  0  10   0  0   0   0  0\n",
            "NE  0  2  79   0  0   0   0  0\n",
            "NW  0  0   7   0  0   0   0  0\n",
            "S   0  0  10   0  1   0   1  0\n",
            "SE  0  0   6   0  0   0   0  0\n",
            "SW  0  0  10   0  0   0   2  0\n",
            "W   0  0  12   0  0   0   0  0\n",
            "****************\n",
            "Accuracy= 54.67%  Model Accuracy=32.17%\n",
            "****************\n",
            "Average precision = 27.69%  Model precision=21.03%\n",
            "Average recall = 15.32%  Model recall=21.71%\n",
            "       Precision    Recall        F1\n",
            "W_DIR                               \n",
            "E       0.000000  0.000000  0.000000\n",
            "N       0.000000  0.000000  0.000000\n",
            "NE      0.548611  0.975309  0.702222\n",
            "NW      0.000000  0.000000  0.000000\n",
            "S       1.000000  0.083333  0.153846\n",
            "SE      0.000000  0.000000  0.000000\n",
            "SW      0.666667  0.166667  0.266667\n",
            "W       0.000000  0.000000  0.000000\n"
          ],
          "name": "stdout"
        },
        {
          "output_type": "stream",
          "text": [
            "/usr/local/lib/python3.6/dist-packages/sklearn/metrics/classification.py:1143: UndefinedMetricWarning: Precision and F-score are ill-defined and being set to 0.0 in labels with no predicted samples.\n",
            "  'precision', 'predicted', average, warn_for)\n"
          ],
          "name": "stderr"
        }
      ]
    },
    {
      "metadata": {
        "id": "cGrTM2wN9YxG",
        "colab_type": "text"
      },
      "cell_type": "markdown",
      "source": [
        "**Cross validation K_folds**"
      ]
    },
    {
      "metadata": {
        "id": "AP6Cpp4u9in-",
        "colab_type": "code",
        "colab": {}
      },
      "cell_type": "code",
      "source": [
        "clf=RandomForestClassifier(n_estimators=15)\n",
        "scoring = ['precision_macro', 'recall_macro','f1_macro',\"accuracy\"]\n",
        "scores = cross_validate(clf, x_data, y_data[\"label\"], scoring=scoring,\n",
        "                        cv=5, return_train_score=False)\n",
        "print(\"Accuracy: {:.2%} (+/- {:.2%})\" .format (scores[\"test_accuracy\"].mean(), scores[\"test_accuracy\"].std() * 2))\n",
        "print(\"Recall: {:.2%} (+/- {:.2%})\" .format (scores[\"test_recall_macro\"].mean(), scores[\"test_recall_macro\"].std() * 2))\n",
        "print(\"Precision: {:.2%} (+/- {:.2%})\" .format (scores[\"test_precision_macro\"].mean(), scores[\"test_precision_macro\"].std() * 2))\n",
        "print(\"f1: {:.2%} (+/-{:.2%} )\".format (scores[\"test_f1_macro\"].mean(), scores[\"test_f1_macro\"].std() * 2))"
      ],
      "execution_count": 0,
      "outputs": []
    },
    {
      "metadata": {
        "id": "_xwqYe34xCEt",
        "colab_type": "text"
      },
      "cell_type": "markdown",
      "source": [
        "**Tuning SVM**"
      ]
    },
    {
      "metadata": {
        "id": "Xz5ttTxJxBmv",
        "colab_type": "code",
        "outputId": "d3384a43-c896-4b63-8b1a-9a3938f61b44",
        "colab": {
          "base_uri": "https://localhost:8080/",
          "height": 50
        }
      },
      "cell_type": "code",
      "source": [
        "x_train, x_test, y_train, y_test = train_test_split(x_data, y_data, test_size=0.25, random_state=27)\n",
        "tuned_parameters = {'kernel': ['rbf'], 'gamma': [1e-3, 1e-4], 'C': [1, 10, 100, 1000]}\n",
        "#Generate synthetic samples\n",
        "sm = SMOTE(random_state=27,)\n",
        "x_train, y_train = sm.fit_sample(x_train, y_train[\"label\"])\n",
        "clf = GridSearchCV(svm.SVC(), tuned_parameters,scoring=\"f1_macro\", cv=5).fit(x_train, y_train)\n",
        "                    \n",
        "print(\"Best parameters=\",clf.best_params_)\n",
        "print(\"Best F1=\",clf.best_score_)\n",
        "#SVC(C=1000, gamma=0.001, kernel='rbf')\n"
      ],
      "execution_count": 26,
      "outputs": [
        {
          "output_type": "stream",
          "text": [
            "Best parameters= {'C': 1000, 'gamma': 0.0001, 'kernel': 'rbf'}\n",
            "Best F1= 0.8573368990941034\n"
          ],
          "name": "stdout"
        }
      ]
    },
    {
      "metadata": {
        "id": "CKVqI6LeSAly",
        "colab_type": "text"
      },
      "cell_type": "markdown",
      "source": [
        "**Evaluate SVM with best parameters**"
      ]
    },
    {
      "metadata": {
        "id": "8dyekuSnST1T",
        "colab_type": "code",
        "outputId": "eee15ed0-5fe9-457f-cdfb-64bcb8f33a4d",
        "colab": {
          "base_uri": "https://localhost:8080/",
          "height": 420
        }
      },
      "cell_type": "code",
      "source": [
        "x_train, x_test, y_train, y_test = train_test_split(x_data, y_data, test_size=0.25, random_state=27)\n",
        "#Generate synthetic samples\n",
        "sm = SMOTE(random_state=27,)\n",
        "x_train, y_train = sm.fit_sample(x_train, y_train[\"label\"])\n",
        "y_pred=svm.SVC(C=1000, gamma=0.0001, kernel='rbf').fit(x_train,y_train).predict(x_test)\n",
        "evaluate(y_test[\"label\"],y_pred)"
      ],
      "execution_count": 27,
      "outputs": [
        {
          "output_type": "stream",
          "text": [
            "    E  N  NE  NW  S  SE  SW  W\n",
            "E   4  1   5   0  0   0   0  0\n",
            "N   2  2   4   1  0   0   0  1\n",
            "NE  9  2  56   2  2   2   5  3\n",
            "NW  1  1   1   0  0   1   1  2\n",
            "S   1  1   1   1  3   2   3  0\n",
            "SE  2  2   1   0  1   0   0  0\n",
            "SW  0  1   1   0  3   0   7  0\n",
            "W   1  0   2   2  1   0   3  3\n",
            "****************\n",
            "Accuracy= 50.00%  Model Accuracy=32.17%\n",
            "****************\n",
            "Average precision = 27.38%  Model precision=21.03%\n",
            "Average recall = 29.68%  Model recall=21.71%\n",
            "       Precision    Recall        F1\n",
            "W_DIR                               \n",
            "E       0.200000  0.400000  0.266667\n",
            "N       0.200000  0.200000  0.200000\n",
            "NE      0.788732  0.691358  0.736842\n",
            "NW      0.000000  0.000000  0.000000\n",
            "S       0.300000  0.250000  0.272727\n",
            "SE      0.000000  0.000000  0.000000\n",
            "SW      0.368421  0.583333  0.451613\n",
            "W       0.333333  0.250000  0.285714\n"
          ],
          "name": "stdout"
        }
      ]
    },
    {
      "metadata": {
        "id": "DzftoqKdTSbC",
        "colab_type": "text"
      },
      "cell_type": "markdown",
      "source": [
        "**Tuning RandomForestClassifier**"
      ]
    },
    {
      "metadata": {
        "id": "stSi4FO1UEre",
        "colab_type": "code",
        "outputId": "70655885-f0cd-4463-f42f-881b92278502",
        "colab": {
          "base_uri": "https://localhost:8080/",
          "height": 154
        }
      },
      "cell_type": "code",
      "source": [
        "x_train, x_test, y_train, y_test = train_test_split(x_data, y_data, test_size=0.25, random_state=27)\n",
        "# Number of trees in random forest\n",
        "n_estimators = [int(x) for x in np.linspace(start = 200, stop = 2000, num = 10)]\n",
        "# Number of features to consider at every split\n",
        "max_features = ['auto', 'sqrt']\n",
        "# Maximum number of levels in tree\n",
        "max_depth = [int(x) for x in np.linspace(10, 110, num = 11)]\n",
        "max_depth.append(None)\n",
        "# Minimum number of samples required to split a node\n",
        "min_samples_split = [2, 5, 10]\n",
        "# Minimum number of samples required at each leaf node\n",
        "min_samples_leaf = [1, 2, 4]\n",
        "# Method of selecting samples for training each tree\n",
        "bootstrap = [True, False]\n",
        "# Create the random grid\n",
        "random_grid = {'n_estimators': n_estimators,\n",
        "               'max_features': max_features,\n",
        "               'max_depth': max_depth,\n",
        "               'min_samples_split': min_samples_split,\n",
        "               'min_samples_leaf': min_samples_leaf,\n",
        "               'bootstrap': bootstrap}\n",
        "\n",
        "# Use the random grid to search for best hyperparameters\n",
        "# First create the base model to tune\n",
        "rf = RandomForestClassifier()\n",
        "# Random search of parameters, using 3 fold cross validation, \n",
        "# search across 100 different combinations, and use all available cores\n",
        "rf_random = RandomizedSearchCV(estimator = rf, param_distributions = random_grid, n_iter = 20, cv = 3, verbose=2, random_state=42, n_jobs = -1)\n",
        "# Fit the random search model\n",
        "# Synthetic samples\n",
        "sm = SMOTE(random_state=27,)\n",
        "x_train, y_train = sm.fit_sample(x_train, y_train[\"label\"])\n",
        "rf_random.fit(x_train, y_train)\n",
        "print(\"best parameters\",rf_random.best_params_)"
      ],
      "execution_count": 28,
      "outputs": [
        {
          "output_type": "stream",
          "text": [
            "Fitting 3 folds for each of 20 candidates, totalling 60 fits\n"
          ],
          "name": "stdout"
        },
        {
          "output_type": "stream",
          "text": [
            "[Parallel(n_jobs=-1)]: Using backend LokyBackend with 2 concurrent workers.\n",
            "/usr/local/lib/python3.6/dist-packages/sklearn/externals/joblib/externals/loky/process_executor.py:706: UserWarning: A worker stopped while some jobs were given to the executor. This can be caused by a too short worker timeout or by a memory leak.\n",
            "  \"timeout or by a memory leak.\", UserWarning\n",
            "[Parallel(n_jobs=-1)]: Done  37 tasks      | elapsed:  2.1min\n",
            "[Parallel(n_jobs=-1)]: Done  60 out of  60 | elapsed:  3.8min finished\n"
          ],
          "name": "stderr"
        },
        {
          "output_type": "stream",
          "text": [
            "best parameters {'n_estimators': 800, 'min_samples_split': 2, 'min_samples_leaf': 1, 'max_features': 'sqrt', 'max_depth': 20, 'bootstrap': False}\n"
          ],
          "name": "stdout"
        }
      ]
    },
    {
      "metadata": {
        "id": "tbUdmzP9cn-k",
        "colab_type": "text"
      },
      "cell_type": "markdown",
      "source": [
        "**Running Randomforest tuned**"
      ]
    },
    {
      "metadata": {
        "id": "pUyO-ldQakio",
        "colab_type": "code",
        "outputId": "a785b3b4-89ca-4054-c6a6-7de09a4c6733",
        "colab": {
          "base_uri": "https://localhost:8080/",
          "height": 420
        }
      },
      "cell_type": "code",
      "source": [
        "x_train, x_test, y_train, y_test = train_test_split(x_data, y_data, test_size=0.3, random_state=27)\n",
        "#Generate synthetic samples\n",
        "sm = SMOTE(random_state=27,)\n",
        "x_train, y_train = sm.fit_sample(x_train, y_train[\"label\"])\n",
        "clas=RandomForestClassifier(bootstrap=False, class_weight=None, criterion='gini',\n",
        "            max_depth=70, max_features='sqrt', max_leaf_nodes=None,\n",
        "            min_impurity_decrease=0.0, min_impurity_split=None,\n",
        "            min_samples_leaf=2, min_samples_split=2,\n",
        "            min_weight_fraction_leaf=0.0, n_estimators=800, n_jobs=None,\n",
        "            oob_score=False, random_state=None, verbose=0,\n",
        "            warm_start=False)\n",
        "y_pred = clas.fit(x_train, y_train).predict(x_test)\n",
        "evaluate(y_test[\"label\"],y_pred)"
      ],
      "execution_count": 30,
      "outputs": [
        {
          "output_type": "stream",
          "text": [
            "    E  N  NE  NW  S  SE  SW  W\n",
            "E   2  0   7   1  0   0   1  1\n",
            "N   0  3   8   0  0   1   0  2\n",
            "NE  8  4  68   3  2   5   5  2\n",
            "NW  0  0   1   2  0   1   2  2\n",
            "S   1  1   0   1  4   1   3  1\n",
            "SE  2  1   0   0  2   0   2  0\n",
            "SW  0  1   1   1  3   0   7  2\n",
            "W   1  0   3   2  1   1   5  2\n",
            "****************\n",
            "Accuracy= 48.89%  Model Accuracy=32.17%\n",
            "****************\n",
            "Average precision = 27.44%  Model precision=21.03%\n",
            "Average recall = 28.32%  Model recall=21.71%\n",
            "       Precision    Recall        F1\n",
            "W_DIR                               \n",
            "E       0.142857  0.166667  0.153846\n",
            "N       0.300000  0.214286  0.250000\n",
            "NE      0.772727  0.701031  0.735135\n",
            "NW      0.200000  0.250000  0.222222\n",
            "S       0.333333  0.333333  0.333333\n",
            "SE      0.000000  0.000000  0.000000\n",
            "SW      0.280000  0.466667  0.350000\n",
            "W       0.166667  0.133333  0.148148\n"
          ],
          "name": "stdout"
        }
      ]
    },
    {
      "metadata": {
        "id": "LlilleENjZTN",
        "colab_type": "text"
      },
      "cell_type": "markdown",
      "source": [
        "**Cross validation K_folds**"
      ]
    },
    {
      "metadata": {
        "id": "zw677JaDjYby",
        "colab_type": "code",
        "outputId": "4cf0d43a-474c-4419-9d1f-6c987bf4927b",
        "colab": {
          "base_uri": "https://localhost:8080/",
          "height": 440
        }
      },
      "cell_type": "code",
      "source": [
        "scoring = ['precision_macro', 'recall_macro','f1_macro',\"accuracy\"]\n",
        "scores = cross_validate(clas, x_data, y_data[\"label\"], scoring=scoring,\n",
        "                        cv=5, return_train_score=False)\n",
        "print(\"Accuracy: {:.2%} (+/- {:.2%})\" .format (scores[\"test_accuracy\"].mean(), scores[\"test_accuracy\"].std() * 2))\n",
        "print(\"Recall: {:.2%} (+/- {:.2%})\" .format (scores[\"test_recall_macro\"].mean(), scores[\"test_recall_macro\"].std() * 2))\n",
        "print(\"Precision: {:.2%} (+/- {:.2%})\" .format (scores[\"test_precision_macro\"].mean(), scores[\"test_precision_macro\"].std() * 2))\n",
        "print(\"f1: {:.2%} (+/-{:.2%} )\".format (scores[\"test_f1_macro\"].mean(), scores[\"test_f1_macro\"].std() * 2))"
      ],
      "execution_count": 31,
      "outputs": [
        {
          "output_type": "stream",
          "text": [
            "/usr/local/lib/python3.6/dist-packages/sklearn/metrics/classification.py:1143: UndefinedMetricWarning: Precision is ill-defined and being set to 0.0 in labels with no predicted samples.\n",
            "  'precision', 'predicted', average, warn_for)\n",
            "/usr/local/lib/python3.6/dist-packages/sklearn/metrics/classification.py:1143: UndefinedMetricWarning: F-score is ill-defined and being set to 0.0 in labels with no predicted samples.\n",
            "  'precision', 'predicted', average, warn_for)\n",
            "/usr/local/lib/python3.6/dist-packages/sklearn/metrics/classification.py:1143: UndefinedMetricWarning: Precision is ill-defined and being set to 0.0 in labels with no predicted samples.\n",
            "  'precision', 'predicted', average, warn_for)\n",
            "/usr/local/lib/python3.6/dist-packages/sklearn/metrics/classification.py:1143: UndefinedMetricWarning: F-score is ill-defined and being set to 0.0 in labels with no predicted samples.\n",
            "  'precision', 'predicted', average, warn_for)\n",
            "/usr/local/lib/python3.6/dist-packages/sklearn/metrics/classification.py:1143: UndefinedMetricWarning: Precision is ill-defined and being set to 0.0 in labels with no predicted samples.\n",
            "  'precision', 'predicted', average, warn_for)\n",
            "/usr/local/lib/python3.6/dist-packages/sklearn/metrics/classification.py:1143: UndefinedMetricWarning: F-score is ill-defined and being set to 0.0 in labels with no predicted samples.\n",
            "  'precision', 'predicted', average, warn_for)\n",
            "/usr/local/lib/python3.6/dist-packages/sklearn/metrics/classification.py:1143: UndefinedMetricWarning: Precision is ill-defined and being set to 0.0 in labels with no predicted samples.\n",
            "  'precision', 'predicted', average, warn_for)\n",
            "/usr/local/lib/python3.6/dist-packages/sklearn/metrics/classification.py:1143: UndefinedMetricWarning: F-score is ill-defined and being set to 0.0 in labels with no predicted samples.\n",
            "  'precision', 'predicted', average, warn_for)\n"
          ],
          "name": "stderr"
        },
        {
          "output_type": "stream",
          "text": [
            "Accuracy: 55.04% (+/- 9.52%)\n",
            "Recall: 22.44% (+/- 4.29%)\n",
            "Precision: 23.80% (+/- 6.88%)\n",
            "f1: 21.89% (+/-4.63% )\n"
          ],
          "name": "stdout"
        },
        {
          "output_type": "stream",
          "text": [
            "/usr/local/lib/python3.6/dist-packages/sklearn/metrics/classification.py:1143: UndefinedMetricWarning: Precision is ill-defined and being set to 0.0 in labels with no predicted samples.\n",
            "  'precision', 'predicted', average, warn_for)\n",
            "/usr/local/lib/python3.6/dist-packages/sklearn/metrics/classification.py:1143: UndefinedMetricWarning: F-score is ill-defined and being set to 0.0 in labels with no predicted samples.\n",
            "  'precision', 'predicted', average, warn_for)\n"
          ],
          "name": "stderr"
        }
      ]
    }
  ]
}