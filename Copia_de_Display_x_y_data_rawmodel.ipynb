{
  "nbformat": 4,
  "nbformat_minor": 0,
  "metadata": {
    "colab": {
      "name": "Copia de Display_x_y_data_rawmodel",
      "version": "0.3.2",
      "provenance": [],
      "collapsed_sections": [],
      "include_colab_link": true
    },
    "kernelspec": {
      "name": "python3",
      "display_name": "Python 3"
    }
  },
  "cells": [
    {
      "cell_type": "markdown",
      "metadata": {
        "id": "view-in-github",
        "colab_type": "text"
      },
      "source": [
        "<a href=\"https://colab.research.google.com/github/granantuin/Model_vs_data_label/blob/master/Copia_de_Display_x_y_data_rawmodel.ipynb\" target=\"_parent\"><img src=\"https://colab.research.google.com/assets/colab-badge.svg\" alt=\"Open In Colab\"/></a>"
      ]
    },
    {
      "metadata": {
        "id": "QL27gIaS2FYt",
        "colab_type": "code",
        "outputId": "aaaec2b2-1829-4dc4-bd3f-276039dec7e8",
        "colab": {
          "base_uri": "https://localhost:8080/",
          "height": 202
        }
      },
      "cell_type": "code",
      "source": [
        "!pip install pandas_ml"
      ],
      "execution_count": 1,
      "outputs": [
        {
          "output_type": "stream",
          "text": [
            "Collecting pandas_ml\n",
            "\u001b[?25l  Downloading https://files.pythonhosted.org/packages/ae/72/6d90debfcb9ea74ec00927fa7ed0204dcc560b1f9ffcd8b239daa7fd106d/pandas_ml-0.6.1-py3-none-any.whl (100kB)\n",
            "\u001b[K    100% |████████████████████████████████| 102kB 4.6MB/s \n",
            "\u001b[?25hRequirement already satisfied: pandas>=0.19.0 in /usr/local/lib/python3.6/dist-packages (from pandas_ml) (0.23.4)\n",
            "Requirement already satisfied: enum34 in /usr/local/lib/python3.6/dist-packages (from pandas_ml) (1.1.6)\n",
            "Requirement already satisfied: python-dateutil>=2.5.0 in /usr/local/lib/python3.6/dist-packages (from pandas>=0.19.0->pandas_ml) (2.5.3)\n",
            "Requirement already satisfied: numpy>=1.9.0 in /usr/local/lib/python3.6/dist-packages (from pandas>=0.19.0->pandas_ml) (1.16.2)\n",
            "Requirement already satisfied: pytz>=2011k in /usr/local/lib/python3.6/dist-packages (from pandas>=0.19.0->pandas_ml) (2018.9)\n",
            "Requirement already satisfied: six>=1.5 in /usr/local/lib/python3.6/dist-packages (from python-dateutil>=2.5.0->pandas>=0.19.0->pandas_ml) (1.11.0)\n",
            "Installing collected packages: pandas-ml\n",
            "Successfully installed pandas-ml-0.6.1\n"
          ],
          "name": "stdout"
        }
      ]
    },
    {
      "metadata": {
        "id": "DQs_itchZQJF",
        "colab_type": "code",
        "colab": {}
      },
      "cell_type": "code",
      "source": [
        "from sklearn.metrics import confusion_matrix ,accuracy_score,f1_score,recall_score\n",
        "from sklearn.metrics import precision_recall_fscore_support\n",
        "from pandas_ml import ConfusionMatrix\n",
        "import pandas as pd\n",
        "import matplotlib.pyplot as plt\n",
        "import numpy as np\n",
        "import seaborn as sns\n"
      ],
      "execution_count": 0,
      "outputs": []
    },
    {
      "metadata": {
        "id": "ujOkqRiLXuqx",
        "colab_type": "code",
        "outputId": "427a2f58-e5ac-4f70-bf7b-166c87e429a4",
        "colab": {
          "base_uri": "https://localhost:8080/",
          "height": 121
        }
      },
      "cell_type": "code",
      "source": [
        "from google.colab import drive\n",
        "drive.mount('/content/drive')\n"
      ],
      "execution_count": 3,
      "outputs": [
        {
          "output_type": "stream",
          "text": [
            "Go to this URL in a browser: https://accounts.google.com/o/oauth2/auth?client_id=947318989803-6bn6qk8qdgf4n4g3pfee6491hc0brc4i.apps.googleusercontent.com&redirect_uri=urn%3Aietf%3Awg%3Aoauth%3A2.0%3Aoob&scope=email%20https%3A%2F%2Fwww.googleapis.com%2Fauth%2Fdocs.test%20https%3A%2F%2Fwww.googleapis.com%2Fauth%2Fdrive%20https%3A%2F%2Fwww.googleapis.com%2Fauth%2Fdrive.photos.readonly%20https%3A%2F%2Fwww.googleapis.com%2Fauth%2Fpeopleapi.readonly&response_type=code\n",
            "\n",
            "Enter your authorization code:\n",
            "··········\n",
            "Mounted at /content/drive\n"
          ],
          "name": "stdout"
        }
      ]
    },
    {
      "metadata": {
        "id": "rQqc7AYi8LPM",
        "colab_type": "code",
        "colab": {}
      },
      "cell_type": "code",
      "source": [
        "drive_4km=\"/content/drive/My Drive/Colab Notebooks/model_vs_data/Coron_4km_h24toh48_dir/\"\n",
        "drive_1km=\"/content/drive/My Drive/Colab Notebooks/model_vs_data/Coron_Mars_H24to48_dir/\"\n",
        "dr=[drive_4km,drive_1km]"
      ],
      "execution_count": 0,
      "outputs": []
    },
    {
      "metadata": {
        "id": "yyB-BAelb_uT",
        "colab_type": "code",
        "colab": {}
      },
      "cell_type": "code",
      "source": [
        "y_data=pd.read_excel(dr[0]+\"y_data.xlsx\")\n",
        "x_data=pd.read_csv(dr[0]+\"x_data\",usecols=range(1,10))"
      ],
      "execution_count": 0,
      "outputs": []
    },
    {
      "metadata": {
        "id": "MAXW7gex-M3p",
        "colab_type": "code",
        "colab": {}
      },
      "cell_type": "code",
      "source": [
        "y_data"
      ],
      "execution_count": 0,
      "outputs": []
    },
    {
      "metadata": {
        "id": "n2PEZ2sG-eFf",
        "colab_type": "code",
        "colab": {}
      },
      "cell_type": "code",
      "source": [
        "x_data"
      ],
      "execution_count": 0,
      "outputs": []
    },
    {
      "metadata": {
        "id": "RdBaTX9m-9AK",
        "colab_type": "code",
        "colab": {}
      },
      "cell_type": "code",
      "source": [
        "NE=y_data[(y_data[\"value\"]>22.5) & (y_data[\"value\"]<67.5)]\n",
        "NE[\"label\"]=\"NE\"\n",
        "E=y_data[(y_data[\"value\"]>67.5) & (y_data[\"value\"]<112.5)]\n",
        "E[\"label\"]=\"E\"\n",
        "SE=y_data[(y_data[\"value\"]>112.5) & (y_data[\"value\"]<157.5)]\n",
        "SE[\"label\"]=\"SE\"\n",
        "S=y_data[(y_data[\"value\"]>157.5) & (y_data[\"value\"]<202.5)]\n",
        "S[\"label\"]=\"S\"\n",
        "SW=y_data[(y_data[\"value\"]>202.5) & (y_data[\"value\"]<247.5)]\n",
        "SW[\"label\"]=\"SW\"\n",
        "W=y_data[(y_data[\"value\"]>247.5) & (y_data[\"value\"]<292.5)]\n",
        "W[\"label\"]=\"W\"\n",
        "NW=y_data[(y_data[\"value\"]>292.5) & (y_data[\"value\"]<337.5)]\n",
        "NW[\"label\"]=\"NW\"\n",
        "N=y_data[(y_data[\"value\"]>337.5) | (y_data[\"value\"]<22.5)]\n",
        "N[\"label\"]=\"N\"\n",
        "winds=[NE,N,E,SE,S,SW,W,NW]\n",
        "y_data=pd.concat(winds)\n",
        "y_data=y_data.sort_values(by=\"date\")\n"
      ],
      "execution_count": 0,
      "outputs": []
    },
    {
      "metadata": {
        "id": "E9qXaXPNoBOR",
        "colab_type": "code",
        "colab": {}
      },
      "cell_type": "code",
      "source": [
        "y_data"
      ],
      "execution_count": 0,
      "outputs": []
    },
    {
      "metadata": {
        "id": "zzkKMadCiQDD",
        "colab_type": "code",
        "colab": {}
      },
      "cell_type": "code",
      "source": [
        "x_data[\"date\"]=y_data[\"date\"]"
      ],
      "execution_count": 0,
      "outputs": []
    },
    {
      "metadata": {
        "id": "yzJ_TzBkmXNz",
        "colab_type": "code",
        "colab": {}
      },
      "cell_type": "code",
      "source": [
        "x_data"
      ],
      "execution_count": 0,
      "outputs": []
    },
    {
      "metadata": {
        "id": "gA4jlBfEby76",
        "colab_type": "code",
        "colab": {}
      },
      "cell_type": "code",
      "source": [
        "for c in ['0', '1', '2', '3', '4', '5', '6', '7', '8']:\n",
        "  NE=x_data[(x_data[c]>22.5) & (x_data[c]<67.5)]\n",
        "  NE[\"label\"+c]=\"NE\"\n",
        "  E=x_data[(x_data[c]>67.5) & (x_data[c]<112.5)]\n",
        "  E[\"label\"+c]=\"E\"\n",
        "  SE=x_data[(x_data[c]>112.5) & (x_data[c]<157.5)]\n",
        "  SE[\"label\"+c]=\"SE\"\n",
        "  S=x_data[(x_data[c]>157.5) & (x_data[c]<202.5)]\n",
        "  S[\"label\"+c]=\"S\"\n",
        "  SW=x_data[(x_data[c]>202.5) & (x_data[c]<247.5)]\n",
        "  SW[\"label\"+c]=\"SW\"\n",
        "  W=x_data[(x_data[c]>247.5) & (x_data[c]<292.5)]\n",
        "  W[\"label\"+c]=\"W\"\n",
        "  NW=x_data[(x_data[c]>292.5) & (x_data[c]<337.5)]\n",
        "  NW[\"label\"+c]=\"NW\"\n",
        "  N=x_data[(x_data[c]>337.5) | (x_data[c]<22.5)]\n",
        "  N[\"label\"+c]=\"N\"\n",
        "  winds=[NE,N,E,SE,S,SW,W,NW]\n",
        "  x_data=pd.concat(winds)\n",
        "  x_data=x_data.sort_values(by=\"date\")\n",
        "  \n",
        "  "
      ],
      "execution_count": 0,
      "outputs": []
    },
    {
      "metadata": {
        "id": "PXgZj4XHjRTx",
        "colab_type": "code",
        "colab": {}
      },
      "cell_type": "code",
      "source": [
        "x_data=x_data.iloc[:, 10:]"
      ],
      "execution_count": 0,
      "outputs": []
    },
    {
      "metadata": {
        "id": "vti0VkZVVPDE",
        "colab_type": "code",
        "colab": {}
      },
      "cell_type": "code",
      "source": [
        "x_data"
      ],
      "execution_count": 0,
      "outputs": []
    },
    {
      "metadata": {
        "id": "7P6wFAk2xuaA",
        "colab_type": "code",
        "outputId": "fb481573-0791-42b2-e254-42b7055f61c7",
        "colab": {
          "base_uri": "https://localhost:8080/",
          "height": 4402
        }
      },
      "cell_type": "code",
      "source": [
        "for label in x_data.columns:\n",
        "  print(label)\n",
        "  index=[\"E\",\"N\",\"NE\",\"NW\",\"S\",\"SE\",\"SW\",\"W\"]\n",
        "  #print(pd.DataFrame(confusion_matrix(y_data[\"label\"],x_data[label] ), index=index, columns=index))\n",
        "  print(ConfusionMatrix(y_data[\"label\"],x_data[label]))\n",
        "  print(\"****************\")\n",
        "  print(\"Accuracy=\",\"{:.2%}\".format(accuracy_score(y_data[\"label\"], x_data[label])))\n",
        "  print(\"****************\")\n",
        "  results= precision_recall_fscore_support(y_data[\"label\"], x_data[label], average=None, )\n",
        "  df=pd.DataFrame({\"Precision\":results[0],\"Recall\":results[1],\"F1\":results[2],\"W_DIR\":index})\n",
        "  df=df.set_index(\"W_DIR\")\n",
        "  print(df)\n",
        "  print(\"*******************************************************\")\n",
        "  print(\"Average precision =\",\"{:.2%}\".format(df[\"Precision\"].mean()))\n",
        "  print(\"Average recall =\",\"{:.2%}\".format(df[\"Recall\"].mean()))\n",
        "  print(\"*******************************************************\")\n",
        "  "
      ],
      "execution_count": 14,
      "outputs": [
        {
          "output_type": "stream",
          "text": [
            "label0\n",
            "Predicted  E   N  NE  NW   S  SE  SW   W  __all__\n",
            "Actual                                           \n",
            "E          0   4   6   1   2   1   3   6       23\n",
            "N          1   1   1   2  15   5   1   5       31\n",
            "NE         1   7   6  12  19   2   5  18       70\n",
            "NW         0   1   2   9   3   0   0   6       21\n",
            "S          0   9   8   3   1   1   4   7       33\n",
            "SE         1   3   5   1   2   1   4   4       21\n",
            "SW         0   6   6   9   4   1  19  17       62\n",
            "W          0   2   3  18   7   2   5  14       51\n",
            "__all__    3  33  37  55  53  13  41  77      312\n",
            "****************\n",
            "Accuracy= 16.35%\n",
            "****************\n",
            "       Precision    Recall        F1\n",
            "W_DIR                               \n",
            "E       0.000000  0.000000  0.000000\n",
            "N       0.030303  0.032258  0.031250\n",
            "NE      0.162162  0.085714  0.112150\n",
            "NW      0.163636  0.428571  0.236842\n",
            "S       0.018868  0.030303  0.023256\n",
            "SE      0.076923  0.047619  0.058824\n",
            "SW      0.463415  0.306452  0.368932\n",
            "W       0.181818  0.274510  0.218750\n",
            "*******************************************************\n",
            "Average precision = 13.71%\n",
            "Average recall = 15.07%\n",
            "*******************************************************\n",
            "label1\n",
            "Predicted  E   N  NE  NW   S  SE  SW   W  __all__\n",
            "Actual                                           \n",
            "E          0   4   7   1   1   1   3   6       23\n",
            "N          1   2   1   2  16   4   1   4       31\n",
            "NE         1   5   9   8  19   3   5  20       70\n",
            "NW         0   1   2   7   3   0   2   6       21\n",
            "S          0   7  10   2   1   1   3   9       33\n",
            "SE         1   2   5   1   2   2   4   4       21\n",
            "SW         0   6   6   8   2   3  21  16       62\n",
            "W          0   3   3  16   6   4   4  15       51\n",
            "__all__    3  30  43  45  50  18  43  80      312\n",
            "****************\n",
            "Accuracy= 18.27%\n",
            "****************\n",
            "       Precision    Recall        F1\n",
            "W_DIR                               \n",
            "E       0.000000  0.000000  0.000000\n",
            "N       0.066667  0.064516  0.065574\n",
            "NE      0.209302  0.128571  0.159292\n",
            "NW      0.155556  0.333333  0.212121\n",
            "S       0.020000  0.030303  0.024096\n",
            "SE      0.111111  0.095238  0.102564\n",
            "SW      0.488372  0.338710  0.400000\n",
            "W       0.187500  0.294118  0.229008\n",
            "*******************************************************\n",
            "Average precision = 15.48%\n",
            "Average recall = 16.06%\n",
            "*******************************************************\n",
            "label2\n",
            "Predicted  E   N  NE  NW   S  SE  SW   W  __all__\n",
            "Actual                                           \n",
            "E          0   4   6   1   3   0   6   3       23\n",
            "N          0   1   1   2  14   5   3   5       31\n",
            "NE         1   2   8   6  19   4   8  22       70\n",
            "NW         0   1   2   6   4   0   2   6       21\n",
            "S          0   8   9   2   0   1   4   9       33\n",
            "SE         1   0   4   4   2   2   3   5       21\n",
            "SW         0   4   7   9   3   2  22  15       62\n",
            "W          0   2   5  12   6   4   5  17       51\n",
            "__all__    2  22  42  42  51  18  53  82      312\n",
            "****************\n",
            "Accuracy= 17.95%\n",
            "****************\n",
            "       Precision    Recall        F1\n",
            "W_DIR                               \n",
            "E       0.000000  0.000000  0.000000\n",
            "N       0.045455  0.032258  0.037736\n",
            "NE      0.190476  0.114286  0.142857\n",
            "NW      0.142857  0.285714  0.190476\n",
            "S       0.000000  0.000000  0.000000\n",
            "SE      0.111111  0.095238  0.102564\n",
            "SW      0.415094  0.354839  0.382609\n",
            "W       0.207317  0.333333  0.255639\n",
            "*******************************************************\n",
            "Average precision = 13.90%\n",
            "Average recall = 15.20%\n",
            "*******************************************************\n",
            "label3\n",
            "Predicted  E   N  NE  NW   S  SE  SW   W  __all__\n",
            "Actual                                           \n",
            "E          0   4   6   1   1   2   4   5       23\n",
            "N          5   2   1   2  12   2   1   6       31\n",
            "NE         1   6   8  11  18   1   6  19       70\n",
            "NW         0   1   2   8   3   0   2   5       21\n",
            "S          0   8   9   3   1   1   5   6       33\n",
            "SE         1   4   5   1   2   0   5   3       21\n",
            "SW         0   6   6   7   2   1  24  16       62\n",
            "W          0   3   4  17   7   2   5  13       51\n",
            "__all__    7  34  41  50  46   9  52  73      312\n",
            "****************\n",
            "Accuracy= 17.95%\n",
            "****************\n",
            "       Precision    Recall        F1\n",
            "W_DIR                               \n",
            "E       0.000000  0.000000  0.000000\n",
            "N       0.058824  0.064516  0.061538\n",
            "NE      0.195122  0.114286  0.144144\n",
            "NW      0.160000  0.380952  0.225352\n",
            "S       0.021739  0.030303  0.025316\n",
            "SE      0.000000  0.000000  0.000000\n",
            "SW      0.461538  0.387097  0.421053\n",
            "W       0.178082  0.254902  0.209677\n",
            "*******************************************************\n",
            "Average precision = 13.44%\n",
            "Average recall = 15.40%\n",
            "*******************************************************\n",
            "label4\n",
            "Predicted  E   N  NE  NW   S  SE  SW   W  __all__\n",
            "Actual                                           \n",
            "E          0   4   7   1   1   1   3   6       23\n",
            "N          2   2   1   2  12   6   2   4       31\n",
            "NE         2   5   8  10  19   3   4  19       70\n",
            "NW         0   1   2   7   3   0   2   6       21\n",
            "S          0   9   9   2   1   1   6   5       33\n",
            "SE         2   3   5   1   2   0   5   3       21\n",
            "SW         0   6   6   7   4   2  21  16       62\n",
            "W          0   3   4  17   4   6   5  12       51\n",
            "__all__    6  33  42  47  46  19  48  71      312\n",
            "****************\n",
            "Accuracy= 16.35%\n",
            "****************\n",
            "       Precision    Recall        F1\n",
            "W_DIR                               \n",
            "E       0.000000  0.000000  0.000000\n",
            "N       0.060606  0.064516  0.062500\n",
            "NE      0.190476  0.114286  0.142857\n",
            "NW      0.148936  0.333333  0.205882\n",
            "S       0.021739  0.030303  0.025316\n",
            "SE      0.000000  0.000000  0.000000\n",
            "SW      0.437500  0.338710  0.381818\n",
            "W       0.169014  0.235294  0.196721\n",
            "*******************************************************\n",
            "Average precision = 12.85%\n",
            "Average recall = 13.96%\n",
            "*******************************************************\n",
            "label5\n",
            "Predicted  E   N  NE  NW   S  SE  SW   W  __all__\n",
            "Actual                                           \n",
            "E          0   1   8   2   3   1   5   3       23\n",
            "N          1   0   1   4  10   7   4   4       31\n",
            "NE         2   2   8   8  18   4   7  21       70\n",
            "NW         0   1   2   7   3   1   1   6       21\n",
            "S          0   8   9   2   1   1   7   5       33\n",
            "SE         1   0   5   2   2   1   4   6       21\n",
            "SW         0   7   6   8   4   3  20  14       62\n",
            "W          0   4   4  17   5   5   4  12       51\n",
            "__all__    4  23  43  50  46  23  52  71      312\n",
            "****************\n",
            "Accuracy= 15.71%\n",
            "****************\n",
            "       Precision    Recall        F1\n",
            "W_DIR                               \n",
            "E       0.000000  0.000000  0.000000\n",
            "N       0.000000  0.000000  0.000000\n",
            "NE      0.186047  0.114286  0.141593\n",
            "NW      0.140000  0.333333  0.197183\n",
            "S       0.021739  0.030303  0.025316\n",
            "SE      0.043478  0.047619  0.045455\n",
            "SW      0.384615  0.322581  0.350877\n",
            "W       0.169014  0.235294  0.196721\n",
            "*******************************************************\n",
            "Average precision = 11.81%\n",
            "Average recall = 13.54%\n",
            "*******************************************************\n",
            "label6\n",
            "Predicted  E   N  NE  NW   S  SE  SW   W  __all__\n",
            "Actual                                           \n",
            "E          1   4   7   1   1   0   4   5       23\n",
            "N          4   1   4   4  11   0   2   5       31\n",
            "NE         1   6   8  11  18   1   7  18       70\n",
            "NW         0   3   1   6   3   0   1   7       21\n",
            "S          0   6  11   4   2   0   5   5       33\n",
            "SE         1   5   5   0   2   0   3   5       21\n",
            "SW         0   7   5   6   3   1  24  16       62\n",
            "W          0   1   7  14   8   1   5  15       51\n",
            "__all__    7  33  48  46  48   3  51  76      312\n",
            "****************\n",
            "Accuracy= 18.27%\n",
            "****************\n",
            "       Precision    Recall        F1\n",
            "W_DIR                               \n",
            "E       0.142857  0.043478  0.066667\n",
            "N       0.030303  0.032258  0.031250\n",
            "NE      0.166667  0.114286  0.135593\n",
            "NW      0.130435  0.285714  0.179104\n",
            "S       0.041667  0.060606  0.049383\n",
            "SE      0.000000  0.000000  0.000000\n",
            "SW      0.470588  0.387097  0.424779\n",
            "W       0.197368  0.294118  0.236220\n",
            "*******************************************************\n",
            "Average precision = 14.75%\n",
            "Average recall = 15.22%\n",
            "*******************************************************\n",
            "label7\n",
            "Predicted  E   N  NE  NW   S  SE  SW   W  __all__\n",
            "Actual                                           \n",
            "E          1   3   7   1   1   1   3   6       23\n",
            "N          0   0   1   4  10   8   3   5       31\n",
            "NE         1   4   8  10  18   4   5  20       70\n",
            "NW         0   1   2   7   3   0   2   6       21\n",
            "S          0   8  10   3   1   1   6   4       33\n",
            "SE         0   3   6   1   2   1   5   3       21\n",
            "SW         0   7   6   8   2   3  21  15       62\n",
            "W          1   6   4  16   4   4   5  11       51\n",
            "__all__    3  32  44  50  41  22  50  70      312\n",
            "****************\n",
            "Accuracy= 16.03%\n",
            "****************\n",
            "       Precision    Recall        F1\n",
            "W_DIR                               \n",
            "E       0.333333  0.043478  0.076923\n",
            "N       0.000000  0.000000  0.000000\n",
            "NE      0.181818  0.114286  0.140351\n",
            "NW      0.140000  0.333333  0.197183\n",
            "S       0.024390  0.030303  0.027027\n",
            "SE      0.045455  0.047619  0.046512\n",
            "SW      0.420000  0.338710  0.375000\n",
            "W       0.157143  0.215686  0.181818\n",
            "*******************************************************\n",
            "Average precision = 16.28%\n",
            "Average recall = 14.04%\n",
            "*******************************************************\n",
            "label8\n",
            "Predicted  E   N  NE  NW   S  SE  SW   W  __all__\n",
            "Actual                                           \n",
            "E          1   1   7   3   3   1   3   4       23\n",
            "N          0   0   1   4  11   7   3   5       31\n",
            "NE         1   2   9   8  18   5   7  20       70\n",
            "NW         0   0   2   8   3   1   1   6       21\n",
            "S          0   7   9   3   3   1   6   4       33\n",
            "SE         1   1   5   1   2   1   5   5       21\n",
            "SW         0   7   6   7   4   4  20  14       62\n",
            "W          1   5   3  17   6   4   4  11       51\n",
            "__all__    4  23  42  51  50  24  49  69      312\n",
            "****************\n",
            "Accuracy= 16.99%\n",
            "****************\n",
            "       Precision    Recall        F1\n",
            "W_DIR                               \n",
            "E       0.250000  0.043478  0.074074\n",
            "N       0.000000  0.000000  0.000000\n",
            "NE      0.214286  0.128571  0.160714\n",
            "NW      0.156863  0.380952  0.222222\n",
            "S       0.060000  0.090909  0.072289\n",
            "SE      0.041667  0.047619  0.044444\n",
            "SW      0.408163  0.322581  0.360360\n",
            "W       0.159420  0.215686  0.183333\n",
            "*******************************************************\n",
            "Average precision = 16.13%\n",
            "Average recall = 15.37%\n",
            "*******************************************************\n"
          ],
          "name": "stdout"
        }
      ]
    }
  ]
}