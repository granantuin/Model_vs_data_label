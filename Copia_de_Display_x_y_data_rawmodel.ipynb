{
  "nbformat": 4,
  "nbformat_minor": 0,
  "metadata": {
    "colab": {
      "name": "Copia de Display_x_y_data_rawmodel",
      "version": "0.3.2",
      "provenance": [],
      "collapsed_sections": [],
      "include_colab_link": true
    },
    "kernelspec": {
      "name": "python3",
      "display_name": "Python 3"
    }
  },
  "cells": [
    {
      "cell_type": "markdown",
      "metadata": {
        "id": "view-in-github",
        "colab_type": "text"
      },
      "source": [
        "<a href=\"https://colab.research.google.com/github/granantuin/Model_vs_data_label/blob/master/Copia_de_Display_x_y_data_rawmodel.ipynb\" target=\"_parent\"><img src=\"https://colab.research.google.com/assets/colab-badge.svg\" alt=\"Open In Colab\"/></a>"
      ]
    },
    {
      "metadata": {
        "id": "QL27gIaS2FYt",
        "colab_type": "code",
        "outputId": "4158db79-f157-4e4c-a0b4-702226f53ddb",
        "colab": {
          "base_uri": "https://localhost:8080/",
          "height": 212
        }
      },
      "cell_type": "code",
      "source": [
        "!pip install pandas_ml"
      ],
      "execution_count": 1,
      "outputs": [
        {
          "output_type": "stream",
          "text": [
            "Collecting pandas_ml\n",
            "\u001b[?25l  Downloading https://files.pythonhosted.org/packages/ae/72/6d90debfcb9ea74ec00927fa7ed0204dcc560b1f9ffcd8b239daa7fd106d/pandas_ml-0.6.1-py3-none-any.whl (100kB)\n",
            "\u001b[K    100% |████████████████████████████████| 102kB 2.7MB/s \n",
            "\u001b[?25hRequirement already satisfied: pandas>=0.19.0 in /usr/local/lib/python3.6/dist-packages (from pandas_ml) (0.22.0)\n",
            "Requirement already satisfied: enum34 in /usr/local/lib/python3.6/dist-packages (from pandas_ml) (1.1.6)\n",
            "Requirement already satisfied: numpy>=1.9.0 in /usr/local/lib/python3.6/dist-packages (from pandas>=0.19.0->pandas_ml) (1.14.6)\n",
            "Requirement already satisfied: pytz>=2011k in /usr/local/lib/python3.6/dist-packages (from pandas>=0.19.0->pandas_ml) (2018.9)\n",
            "Requirement already satisfied: python-dateutil>=2 in /usr/local/lib/python3.6/dist-packages (from pandas>=0.19.0->pandas_ml) (2.5.3)\n",
            "Requirement already satisfied: six>=1.5 in /usr/local/lib/python3.6/dist-packages (from python-dateutil>=2->pandas>=0.19.0->pandas_ml) (1.11.0)\n",
            "Installing collected packages: pandas-ml\n",
            "Successfully installed pandas-ml-0.6.1\n"
          ],
          "name": "stdout"
        }
      ]
    },
    {
      "metadata": {
        "id": "DQs_itchZQJF",
        "colab_type": "code",
        "colab": {}
      },
      "cell_type": "code",
      "source": [
        "from sklearn.metrics import confusion_matrix ,accuracy_score,f1_score,recall_score\n",
        "from sklearn.metrics import precision_recall_fscore_support\n",
        "from pandas_ml import ConfusionMatrix\n",
        "import pandas as pd\n",
        "import matplotlib.pyplot as plt\n",
        "import numpy as np\n",
        "import seaborn as sns\n"
      ],
      "execution_count": 0,
      "outputs": []
    },
    {
      "metadata": {
        "id": "ujOkqRiLXuqx",
        "colab_type": "code",
        "outputId": "7187a161-c6ca-4c67-ff11-888b1f9b4f54",
        "colab": {
          "base_uri": "https://localhost:8080/",
          "height": 125
        }
      },
      "cell_type": "code",
      "source": [
        "from google.colab import drive\n",
        "drive.mount('/content/drive')\n"
      ],
      "execution_count": 3,
      "outputs": [
        {
          "output_type": "stream",
          "text": [
            "Go to this URL in a browser: https://accounts.google.com/o/oauth2/auth?client_id=947318989803-6bn6qk8qdgf4n4g3pfee6491hc0brc4i.apps.googleusercontent.com&redirect_uri=urn%3Aietf%3Awg%3Aoauth%3A2.0%3Aoob&scope=email%20https%3A%2F%2Fwww.googleapis.com%2Fauth%2Fdocs.test%20https%3A%2F%2Fwww.googleapis.com%2Fauth%2Fdrive%20https%3A%2F%2Fwww.googleapis.com%2Fauth%2Fdrive.photos.readonly%20https%3A%2F%2Fwww.googleapis.com%2Fauth%2Fpeopleapi.readonly&response_type=code\n",
            "\n",
            "Enter your authorization code:\n",
            "··········\n",
            "Mounted at /content/drive\n"
          ],
          "name": "stdout"
        }
      ]
    },
    {
      "metadata": {
        "id": "yyB-BAelb_uT",
        "colab_type": "code",
        "colab": {}
      },
      "cell_type": "code",
      "source": [
        "y_data=pd.read_excel(\"/content/drive/My Drive/Colab Notebooks/model_vs_data/Coron_Mars_H24to48_dir/y_data.xlsx\")\n",
        "x_data=pd.read_csv(\"/content/drive/My Drive/Colab Notebooks/model_vs_data/Coron_Mars_H24to48_dir/x_data\",usecols=range(1,10))"
      ],
      "execution_count": 0,
      "outputs": []
    },
    {
      "metadata": {
        "id": "RdBaTX9m-9AK",
        "colab_type": "code",
        "colab": {
          "base_uri": "https://localhost:8080/",
          "height": 870
        },
        "outputId": "93fd0a7d-d79d-45e4-9f7c-0cf8f5f24f48"
      },
      "cell_type": "code",
      "source": [
        "NE=y_data[(y_data[\"value\"]>22.5) & (y_data[\"value\"]<67.5)]\n",
        "NE[\"label\"]=\"NE\"\n",
        "E=y_data[(y_data[\"value\"]>67.5) & (y_data[\"value\"]<112.5)]\n",
        "E[\"label\"]=\"E\"\n",
        "SE=y_data[(y_data[\"value\"]>112.5) & (y_data[\"value\"]<157.5)]\n",
        "SE[\"label\"]=\"SE\"\n",
        "S=y_data[(y_data[\"value\"]>157.5) & (y_data[\"value\"]<202.5)]\n",
        "S[\"label\"]=\"S\"\n",
        "SW=y_data[(y_data[\"value\"]>202.5) & (y_data[\"value\"]<247.5)]\n",
        "SW[\"label\"]=\"SW\"\n",
        "W=y_data[(y_data[\"value\"]>247.5) & (y_data[\"value\"]<292.5)]\n",
        "W[\"label\"]=\"W\"\n",
        "NW=y_data[(y_data[\"value\"]>292.5) & (y_data[\"value\"]<337.5)]\n",
        "NW[\"label\"]=\"NW\"\n",
        "N=y_data[(y_data[\"value\"]>337.5) | (y_data[\"value\"]<22.5)]\n",
        "N[\"label\"]=\"N\"\n",
        "winds=[NE,N,E,SE,S,SW,W,NW]\n",
        "y_data=pd.concat(winds)\n",
        "y_data=y_data.sort_values(by=\"DATA (Horario UTC)\")\n"
      ],
      "execution_count": 6,
      "outputs": [
        {
          "output_type": "stream",
          "text": [
            "/usr/local/lib/python3.6/dist-packages/ipykernel_launcher.py:2: SettingWithCopyWarning: \n",
            "A value is trying to be set on a copy of a slice from a DataFrame.\n",
            "Try using .loc[row_indexer,col_indexer] = value instead\n",
            "\n",
            "See the caveats in the documentation: http://pandas.pydata.org/pandas-docs/stable/indexing.html#indexing-view-versus-copy\n",
            "  \n",
            "/usr/local/lib/python3.6/dist-packages/ipykernel_launcher.py:4: SettingWithCopyWarning: \n",
            "A value is trying to be set on a copy of a slice from a DataFrame.\n",
            "Try using .loc[row_indexer,col_indexer] = value instead\n",
            "\n",
            "See the caveats in the documentation: http://pandas.pydata.org/pandas-docs/stable/indexing.html#indexing-view-versus-copy\n",
            "  after removing the cwd from sys.path.\n",
            "/usr/local/lib/python3.6/dist-packages/ipykernel_launcher.py:6: SettingWithCopyWarning: \n",
            "A value is trying to be set on a copy of a slice from a DataFrame.\n",
            "Try using .loc[row_indexer,col_indexer] = value instead\n",
            "\n",
            "See the caveats in the documentation: http://pandas.pydata.org/pandas-docs/stable/indexing.html#indexing-view-versus-copy\n",
            "  \n",
            "/usr/local/lib/python3.6/dist-packages/ipykernel_launcher.py:8: SettingWithCopyWarning: \n",
            "A value is trying to be set on a copy of a slice from a DataFrame.\n",
            "Try using .loc[row_indexer,col_indexer] = value instead\n",
            "\n",
            "See the caveats in the documentation: http://pandas.pydata.org/pandas-docs/stable/indexing.html#indexing-view-versus-copy\n",
            "  \n",
            "/usr/local/lib/python3.6/dist-packages/ipykernel_launcher.py:10: SettingWithCopyWarning: \n",
            "A value is trying to be set on a copy of a slice from a DataFrame.\n",
            "Try using .loc[row_indexer,col_indexer] = value instead\n",
            "\n",
            "See the caveats in the documentation: http://pandas.pydata.org/pandas-docs/stable/indexing.html#indexing-view-versus-copy\n",
            "  # Remove the CWD from sys.path while we load stuff.\n",
            "/usr/local/lib/python3.6/dist-packages/ipykernel_launcher.py:12: SettingWithCopyWarning: \n",
            "A value is trying to be set on a copy of a slice from a DataFrame.\n",
            "Try using .loc[row_indexer,col_indexer] = value instead\n",
            "\n",
            "See the caveats in the documentation: http://pandas.pydata.org/pandas-docs/stable/indexing.html#indexing-view-versus-copy\n",
            "  if sys.path[0] == '':\n",
            "/usr/local/lib/python3.6/dist-packages/ipykernel_launcher.py:14: SettingWithCopyWarning: \n",
            "A value is trying to be set on a copy of a slice from a DataFrame.\n",
            "Try using .loc[row_indexer,col_indexer] = value instead\n",
            "\n",
            "See the caveats in the documentation: http://pandas.pydata.org/pandas-docs/stable/indexing.html#indexing-view-versus-copy\n",
            "  \n",
            "/usr/local/lib/python3.6/dist-packages/ipykernel_launcher.py:16: SettingWithCopyWarning: \n",
            "A value is trying to be set on a copy of a slice from a DataFrame.\n",
            "Try using .loc[row_indexer,col_indexer] = value instead\n",
            "\n",
            "See the caveats in the documentation: http://pandas.pydata.org/pandas-docs/stable/indexing.html#indexing-view-versus-copy\n",
            "  app.launch_new_instance()\n"
          ],
          "name": "stderr"
        }
      ]
    },
    {
      "metadata": {
        "id": "E9qXaXPNoBOR",
        "colab_type": "code",
        "colab": {}
      },
      "cell_type": "code",
      "source": [
        "y_data"
      ],
      "execution_count": 0,
      "outputs": []
    },
    {
      "metadata": {
        "id": "zzkKMadCiQDD",
        "colab_type": "code",
        "colab": {}
      },
      "cell_type": "code",
      "source": [
        "x_data[\"date\"]=y_data[\"DATA (Horario UTC)\"]"
      ],
      "execution_count": 0,
      "outputs": []
    },
    {
      "metadata": {
        "id": "yzJ_TzBkmXNz",
        "colab_type": "code",
        "colab": {}
      },
      "cell_type": "code",
      "source": [
        "x_data"
      ],
      "execution_count": 0,
      "outputs": []
    },
    {
      "metadata": {
        "id": "gA4jlBfEby76",
        "colab_type": "code",
        "colab": {
          "base_uri": "https://localhost:8080/",
          "height": 852
        },
        "outputId": "5f2eeb9f-4cd3-46ad-b3c3-3b55d54bce71"
      },
      "cell_type": "code",
      "source": [
        "for c in ['0', '1', '2', '3', '4', '5', '6', '7', '8']:\n",
        "  NE=x_data[(x_data[c]>22.5) & (x_data[c]<67.5)]\n",
        "  NE[\"label\"+c]=\"NE\"\n",
        "  E=x_data[(x_data[c]>67.5) & (x_data[c]<112.5)]\n",
        "  E[\"label\"+c]=\"E\"\n",
        "  SE=x_data[(x_data[c]>112.5) & (x_data[c]<157.5)]\n",
        "  SE[\"label\"+c]=\"SE\"\n",
        "  S=x_data[(x_data[c]>157.5) & (x_data[c]<202.5)]\n",
        "  S[\"label\"+c]=\"S\"\n",
        "  SW=x_data[(x_data[c]>202.5) & (x_data[c]<247.5)]\n",
        "  SW[\"label\"+c]=\"SW\"\n",
        "  W=x_data[(x_data[c]>247.5) & (x_data[c]<292.5)]\n",
        "  W[\"label\"+c]=\"W\"\n",
        "  NW=x_data[(x_data[c]>292.5) & (x_data[c]<337.5)]\n",
        "  NW[\"label\"+c]=\"NW\"\n",
        "  N=x_data[(x_data[c]>337.5) | (x_data[c]<22.5)]\n",
        "  N[\"label\"+c]=\"N\"\n",
        "  winds=[NE,N,E,SE,S,SW,W,NW]\n",
        "  x_data=pd.concat(winds)\n",
        "  x_data=x_data.sort_values(by=\"date\")\n",
        "  \n",
        "  "
      ],
      "execution_count": 10,
      "outputs": [
        {
          "output_type": "stream",
          "text": [
            "/usr/local/lib/python3.6/dist-packages/ipykernel_launcher.py:3: SettingWithCopyWarning: \n",
            "A value is trying to be set on a copy of a slice from a DataFrame.\n",
            "Try using .loc[row_indexer,col_indexer] = value instead\n",
            "\n",
            "See the caveats in the documentation: http://pandas.pydata.org/pandas-docs/stable/indexing.html#indexing-view-versus-copy\n",
            "  This is separate from the ipykernel package so we can avoid doing imports until\n",
            "/usr/local/lib/python3.6/dist-packages/ipykernel_launcher.py:5: SettingWithCopyWarning: \n",
            "A value is trying to be set on a copy of a slice from a DataFrame.\n",
            "Try using .loc[row_indexer,col_indexer] = value instead\n",
            "\n",
            "See the caveats in the documentation: http://pandas.pydata.org/pandas-docs/stable/indexing.html#indexing-view-versus-copy\n",
            "  \"\"\"\n",
            "/usr/local/lib/python3.6/dist-packages/ipykernel_launcher.py:7: SettingWithCopyWarning: \n",
            "A value is trying to be set on a copy of a slice from a DataFrame.\n",
            "Try using .loc[row_indexer,col_indexer] = value instead\n",
            "\n",
            "See the caveats in the documentation: http://pandas.pydata.org/pandas-docs/stable/indexing.html#indexing-view-versus-copy\n",
            "  import sys\n",
            "/usr/local/lib/python3.6/dist-packages/ipykernel_launcher.py:9: SettingWithCopyWarning: \n",
            "A value is trying to be set on a copy of a slice from a DataFrame.\n",
            "Try using .loc[row_indexer,col_indexer] = value instead\n",
            "\n",
            "See the caveats in the documentation: http://pandas.pydata.org/pandas-docs/stable/indexing.html#indexing-view-versus-copy\n",
            "  if __name__ == '__main__':\n",
            "/usr/local/lib/python3.6/dist-packages/ipykernel_launcher.py:11: SettingWithCopyWarning: \n",
            "A value is trying to be set on a copy of a slice from a DataFrame.\n",
            "Try using .loc[row_indexer,col_indexer] = value instead\n",
            "\n",
            "See the caveats in the documentation: http://pandas.pydata.org/pandas-docs/stable/indexing.html#indexing-view-versus-copy\n",
            "  # This is added back by InteractiveShellApp.init_path()\n",
            "/usr/local/lib/python3.6/dist-packages/ipykernel_launcher.py:13: SettingWithCopyWarning: \n",
            "A value is trying to be set on a copy of a slice from a DataFrame.\n",
            "Try using .loc[row_indexer,col_indexer] = value instead\n",
            "\n",
            "See the caveats in the documentation: http://pandas.pydata.org/pandas-docs/stable/indexing.html#indexing-view-versus-copy\n",
            "  del sys.path[0]\n",
            "/usr/local/lib/python3.6/dist-packages/ipykernel_launcher.py:15: SettingWithCopyWarning: \n",
            "A value is trying to be set on a copy of a slice from a DataFrame.\n",
            "Try using .loc[row_indexer,col_indexer] = value instead\n",
            "\n",
            "See the caveats in the documentation: http://pandas.pydata.org/pandas-docs/stable/indexing.html#indexing-view-versus-copy\n",
            "  from ipykernel import kernelapp as app\n",
            "/usr/local/lib/python3.6/dist-packages/ipykernel_launcher.py:17: SettingWithCopyWarning: \n",
            "A value is trying to be set on a copy of a slice from a DataFrame.\n",
            "Try using .loc[row_indexer,col_indexer] = value instead\n",
            "\n",
            "See the caveats in the documentation: http://pandas.pydata.org/pandas-docs/stable/indexing.html#indexing-view-versus-copy\n"
          ],
          "name": "stderr"
        }
      ]
    },
    {
      "metadata": {
        "id": "PXgZj4XHjRTx",
        "colab_type": "code",
        "colab": {}
      },
      "cell_type": "code",
      "source": [
        "x_data=x_data.iloc[:, 10:]"
      ],
      "execution_count": 0,
      "outputs": []
    },
    {
      "metadata": {
        "id": "vti0VkZVVPDE",
        "colab_type": "code",
        "colab": {}
      },
      "cell_type": "code",
      "source": [
        "x_data"
      ],
      "execution_count": 0,
      "outputs": []
    },
    {
      "metadata": {
        "id": "E0na0-PApb30",
        "colab_type": "code",
        "outputId": "868b61f8-f3b3-46ce-e16b-e994c389fa14",
        "colab": {
          "base_uri": "https://localhost:8080/",
          "height": 132
        }
      },
      "cell_type": "code",
      "source": [
        "for label in x_data.columns:\n",
        "  print(label)\n",
        "  print(\"accuracy=\"+\"{:.2%}\"\".format(accuracy_score(y_data[\"label\"], x_data[label]))\n",
        "  "
      ],
      "execution_count": 47,
      "outputs": [
        {
          "output_type": "error",
          "ename": "SyntaxError",
          "evalue": "ignored",
          "traceback": [
            "\u001b[0;36m  File \u001b[0;32m\"<ipython-input-47-a93b4c5f2a54>\"\u001b[0;36m, line \u001b[0;32m3\u001b[0m\n\u001b[0;31m    print(\"accuracy=\"+\"{:.2%}\"\".format(accuracy_score(y_data[\"label\"], x_data[label]))\u001b[0m\n\u001b[0m                                                                  ^\u001b[0m\n\u001b[0;31mSyntaxError\u001b[0m\u001b[0;31m:\u001b[0m invalid syntax\n"
          ]
        }
      ]
    },
    {
      "metadata": {
        "id": "7P6wFAk2xuaA",
        "colab_type": "code",
        "outputId": "04a34999-0143-47a5-9e2e-986cf542bbd4",
        "colab": {
          "base_uri": "https://localhost:8080/",
          "height": 1831
        }
      },
      "cell_type": "code",
      "source": [
        "for label in x_data.columns:\n",
        "  print(label)\n",
        "  print(ConfusionMatrix(y_data[\"label\"],x_data[label]))\n",
        "  \n",
        "  "
      ],
      "execution_count": 0,
      "outputs": [
        {
          "output_type": "stream",
          "text": [
            "label0\n",
            "Predicted   E    N   NE  NW   S  SE  SW   W  __all__\n",
            "Actual                                              \n",
            "E           2    3   20   1   8   6   0   1       41\n",
            "N           1   13   19   1   2   1   1   3       41\n",
            "NE         14   66  165  23  21   6  21  18      334\n",
            "NW          0    7    3   0   0   0   2   3       15\n",
            "S           0    9    8   2   5   0   7   2       33\n",
            "SE          0    7    8   2   1   2   1   2       23\n",
            "SW          1   13   16   2   5   0  13   7       57\n",
            "W           0   11   16   4   2   1  16   6       56\n",
            "__all__    18  129  255  35  44  16  61  42      600\n",
            "label1\n",
            "Predicted   E    N   NE  NW   S  SE  SW   W  __all__\n",
            "Actual                                              \n",
            "E           8    5   14   0   8   4   1   1       41\n",
            "N           2   18   13   0   2   1   3   2       41\n",
            "NE         28   93  126  22  23   5  19  18      334\n",
            "NW          0    7    3   0   0   0   2   3       15\n",
            "S           1   10    7   1   6   0   7   1       33\n",
            "SE          1    7    8   1   1   2   1   2       23\n",
            "SW          1   13   16   3   5   0  13   6       57\n",
            "W           0   14   14   3   3   1  14   7       56\n",
            "__all__    41  167  201  30  48  13  60  40      600\n",
            "label2\n",
            "Predicted   E    N   NE  NW   S  SE  SW   W  __all__\n",
            "Actual                                              \n",
            "E           8    4   12   0  10   5   1   1       41\n",
            "N           3   19   11   2   1   1   4   0       41\n",
            "NE         48   60  135  25  21   7  21  17      334\n",
            "NW          0    3    7   0   0   0   3   2       15\n",
            "S           1   10    5   2   6   1   8   0       33\n",
            "SE          1    6    8   1   1   3   1   2       23\n",
            "SW          1   12   17   3   3   0  15   6       57\n",
            "W           2   11   12   5   3   2  15   6       56\n",
            "__all__    64  125  207  38  45  19  68  34      600\n",
            "label3\n",
            "Predicted   E    N   NE  NW   S  SE  SW   W  __all__\n",
            "Actual                                              \n",
            "E           6    2   20   1   7   4   1   0       41\n",
            "N           1   13   20   0   2   1   0   4       41\n",
            "NE         12   54  182  20  22   6  19  19      334\n",
            "NW          0    6    4   0   0   0   1   4       15\n",
            "S           0    8    9   2   6   0   7   1       33\n",
            "SE          0    6    9   1   2   1   1   3       23\n",
            "SW          1   16   14   1   6   0  13   6       57\n",
            "W           0   12   15   3   2   1  17   6       56\n",
            "__all__    20  117  273  28  47  13  59  43      600\n",
            "label4\n",
            "Predicted   E    N   NE  NW   S  SE  SW   W  __all__\n",
            "Actual                                              \n",
            "E           6    3   16   0   8   5   2   1       41\n",
            "N           1   18   14   2   2   1   0   3       41\n",
            "NE         17   89  137  18  22   9  19  23      334\n",
            "NW          0    8    2   1   0   0   1   3       15\n",
            "S           0    7   10   2   6   0   8   0       33\n",
            "SE          1    6    8   2   1   2   1   2       23\n",
            "SW          1   16   14   1   4   0  16   5       57\n",
            "W           0   16   11   4   2   1  15   7       56\n",
            "__all__    26  163  212  30  45  18  62  44      600\n",
            "label5\n",
            "Predicted   E    N   NE  NW   S  SE  SW   W  __all__\n",
            "Actual                                              \n",
            "E           5    5   12   0  11   5   3   0       41\n",
            "N           2   20   11   1   1   1   2   3       41\n",
            "NE         43   91  108  16  24   8  19  25      334\n",
            "NW          0    4    6   0   0   0   2   3       15\n",
            "S           1    9    7   1   7   1   7   0       33\n",
            "SE          2    6    6   2   1   3   1   2       23\n",
            "SW          2   14   14   3   2   0  18   4       57\n",
            "W           1   13    9   7   2   2  16   6       56\n",
            "__all__    56  162  173  30  48  20  68  43      600\n",
            "label6\n",
            "Predicted   E    N   NE  NW   S  SE  SW   W  __all__\n",
            "Actual                                              \n",
            "E           7    4   20   0   5   3   2   0       41\n",
            "N           1   11   22   0   2   1   2   2       41\n",
            "NE          8   49  195  16  19   7  20  20      334\n",
            "NW          0    4    6   1   0   0   1   3       15\n",
            "S           0    6   11   2   6   1   6   1       33\n",
            "SE          1    5   10   1   2   0   1   3       23\n",
            "SW          1   16   15   0   7   0  13   5       57\n",
            "W           1   10   16   4   1   1  18   5       56\n",
            "__all__    19  105  295  24  42  13  63  39      600\n",
            "label7\n",
            "Predicted   E    N   NE  NW   S  SE  SW   W  __all__\n",
            "Actual                                              \n",
            "E           6    2   21   0   6   4   2   0       41\n",
            "N           1   17   15   2   2   1   0   3       41\n",
            "NE         15   80  152  15  20   7  21  24      334\n",
            "NW          0    7    3   1   0   0   1   3       15\n",
            "S           1    8    8   2   5   1   7   1       33\n",
            "SE          1    4   11   1   1   1   1   3       23\n",
            "SW          1   15   14   1   4   1  15   6       57\n",
            "W           0   12   13   5   1   2  17   6       56\n",
            "__all__    25  145  237  27  39  17  64  46      600\n",
            "label8\n",
            "Predicted   E    N   NE  NW   S  SE  SW   W  __all__\n",
            "Actual                                              \n",
            "E           5    6   14   0   9   4   3   0       41\n",
            "N           3   23    7   2   1   1   1   3       41\n",
            "NE         31  112   96  21  21  10  21  22      334\n",
            "NW          0    5    5   1   0   0   1   3       15\n",
            "S           0    8    7   1   7   2   7   1       33\n",
            "SE          1    7    8   1   1   2   1   2       23\n",
            "SW          1   18   11   2   4   1  15   5       57\n",
            "W           1   16    9   4   2   1  15   8       56\n",
            "__all__    42  195  157  32  45  21  64  44      600\n"
          ],
          "name": "stdout"
        }
      ]
    },
    {
      "metadata": {
        "id": "kUkILmVDZYtD",
        "colab_type": "code",
        "colab": {}
      },
      "cell_type": "code",
      "source": [
        "results= precision_recall_fscore_support(y_data[\"label\"], x_data[\"label8\"], average=None, )"
      ],
      "execution_count": 0,
      "outputs": []
    },
    {
      "metadata": {
        "id": "GJ-tTJkziAjr",
        "colab_type": "code",
        "colab": {
          "base_uri": "https://localhost:8080/",
          "height": 141
        },
        "outputId": "9a68b6bb-ddc5-4dc1-e292-bd0bf5dc1bc7"
      },
      "cell_type": "code",
      "source": [
        "results"
      ],
      "execution_count": 20,
      "outputs": [
        {
          "output_type": "execute_result",
          "data": {
            "text/plain": [
              "(array([0.11904762, 0.11794872, 0.61146497, 0.03125   , 0.15555556,\n",
              "        0.0952381 , 0.234375  , 0.18181818]),\n",
              " array([0.12195122, 0.56097561, 0.28742515, 0.06666667, 0.21212121,\n",
              "        0.08695652, 0.26315789, 0.14285714]),\n",
              " array([0.12048193, 0.19491525, 0.3910387 , 0.04255319, 0.17948718,\n",
              "        0.09090909, 0.24793388, 0.16      ]),\n",
              " array([ 41,  41, 334,  15,  33,  23,  57,  56]))"
            ]
          },
          "metadata": {
            "tags": []
          },
          "execution_count": 20
        }
      ]
    },
    {
      "metadata": {
        "id": "K3q4Wd6sisOK",
        "colab_type": "code",
        "colab": {
          "base_uri": "https://localhost:8080/",
          "height": 52
        },
        "outputId": "52306fb3-e096-4781-f85a-d4d5477f3b23"
      },
      "cell_type": "code",
      "source": [
        "results[0]"
      ],
      "execution_count": 21,
      "outputs": [
        {
          "output_type": "execute_result",
          "data": {
            "text/plain": [
              "array([0.11904762, 0.11794872, 0.61146497, 0.03125   , 0.15555556,\n",
              "       0.0952381 , 0.234375  , 0.18181818])"
            ]
          },
          "metadata": {
            "tags": []
          },
          "execution_count": 21
        }
      ]
    },
    {
      "metadata": {
        "id": "tQsx17MnkBQf",
        "colab_type": "code",
        "colab": {
          "base_uri": "https://localhost:8080/",
          "height": 1936
        },
        "outputId": "418dd2af-25bd-4b3a-db4b-4af30e771c6f"
      },
      "cell_type": "code",
      "source": [
        "for label in x_data.columns:\n",
        "  print(label)\n",
        "  print(\"accuracy=\",\"{:.2%}\".format(accuracy_score(y_data[\"label\"], x_data[label])))\n",
        "  index=[\"E\",\"N\",\"NE\",\"NW\",\"S\",\"SE\",\"SW\",\"W\"]\n",
        "  results= precision_recall_fscore_support(y_data[\"label\"], x_data[label], average=None, )\n",
        "  df=pd.DataFrame({\"Precision\":results[0],\"Recall\":results[1],\"F1\":results[2],\"W_DIR\":index})\n",
        "  df=df.set_index(\"W_DIR\")\n",
        "  print(df)\n"
      ],
      "execution_count": 50,
      "outputs": [
        {
          "output_type": "stream",
          "text": [
            "label0\n",
            "accuracy= 34.33%\n",
            "             F1  Precision    Recall\n",
            "W_DIR                               \n",
            "E      0.067797   0.111111  0.048780\n",
            "N      0.152941   0.100775  0.317073\n",
            "NE     0.560272   0.647059  0.494012\n",
            "NW     0.000000   0.000000  0.000000\n",
            "S      0.129870   0.113636  0.151515\n",
            "SE     0.102564   0.125000  0.086957\n",
            "SW     0.220339   0.213115  0.228070\n",
            "W      0.122449   0.142857  0.107143\n",
            "label1\n",
            "accuracy= 30.00%\n",
            "             F1  Precision    Recall\n",
            "W_DIR                               \n",
            "E      0.195122   0.195122  0.195122\n",
            "N      0.173077   0.107784  0.439024\n",
            "NE     0.471028   0.626866  0.377246\n",
            "NW     0.000000   0.000000  0.000000\n",
            "S      0.148148   0.125000  0.181818\n",
            "SE     0.111111   0.153846  0.086957\n",
            "SW     0.222222   0.216667  0.228070\n",
            "W      0.145833   0.175000  0.125000\n",
            "label2\n",
            "accuracy= 32.00%\n",
            "             F1  Precision    Recall\n",
            "W_DIR                               \n",
            "E      0.152381   0.125000  0.195122\n",
            "N      0.228916   0.152000  0.463415\n",
            "NE     0.499076   0.652174  0.404192\n",
            "NW     0.000000   0.000000  0.000000\n",
            "S      0.153846   0.133333  0.181818\n",
            "SE     0.142857   0.157895  0.130435\n",
            "SW     0.240000   0.220588  0.263158\n",
            "W      0.133333   0.176471  0.107143\n",
            "label3\n",
            "accuracy= 37.83%\n",
            "             F1  Precision    Recall\n",
            "W_DIR                               \n",
            "E      0.196721   0.300000  0.146341\n",
            "N      0.164557   0.111111  0.317073\n",
            "NE     0.599671   0.666667  0.544910\n",
            "NW     0.000000   0.000000  0.000000\n",
            "S      0.150000   0.127660  0.181818\n",
            "SE     0.055556   0.076923  0.043478\n",
            "SW     0.224138   0.220339  0.228070\n",
            "W      0.121212   0.139535  0.107143\n",
            "label4\n",
            "accuracy= 32.17%\n",
            "             F1  Precision    Recall\n",
            "W_DIR                               \n",
            "E      0.179104   0.230769  0.146341\n",
            "N      0.176471   0.110429  0.439024\n",
            "NE     0.501832   0.646226  0.410180\n",
            "NW     0.044444   0.033333  0.066667\n",
            "S      0.153846   0.133333  0.181818\n",
            "SE     0.097561   0.111111  0.086957\n",
            "SW     0.268908   0.258065  0.280702\n",
            "W      0.140000   0.159091  0.125000\n",
            "label5\n",
            "accuracy= 27.83%\n",
            "             F1  Precision    Recall\n",
            "W_DIR                               \n",
            "E      0.103093   0.089286  0.121951\n",
            "N      0.197044   0.123457  0.487805\n",
            "NE     0.426036   0.624277  0.323353\n",
            "NW     0.000000   0.000000  0.000000\n",
            "S      0.172840   0.145833  0.212121\n",
            "SE     0.139535   0.150000  0.130435\n",
            "SW     0.288000   0.264706  0.315789\n",
            "W      0.121212   0.139535  0.107143\n",
            "label6\n",
            "accuracy= 39.67%\n",
            "             F1  Precision    Recall\n",
            "W_DIR                               \n",
            "E      0.233333   0.368421  0.170732\n",
            "N      0.150685   0.104762  0.268293\n",
            "NE     0.620032   0.661017  0.583832\n",
            "NW     0.051282   0.041667  0.066667\n",
            "S      0.160000   0.142857  0.181818\n",
            "SE     0.000000   0.000000  0.000000\n",
            "SW     0.216667   0.206349  0.228070\n",
            "W      0.105263   0.128205  0.089286\n",
            "label7\n",
            "accuracy= 33.83%\n",
            "             F1  Precision    Recall\n",
            "W_DIR                               \n",
            "E      0.181818   0.240000  0.146341\n",
            "N      0.182796   0.117241  0.414634\n",
            "NE     0.532399   0.641350  0.455090\n",
            "NW     0.047619   0.037037  0.066667\n",
            "S      0.138889   0.128205  0.151515\n",
            "SE     0.050000   0.058824  0.043478\n",
            "SW     0.247934   0.234375  0.263158\n",
            "W      0.117647   0.130435  0.107143\n",
            "label8\n",
            "accuracy= 26.17%\n",
            "             F1  Precision    Recall\n",
            "W_DIR                               \n",
            "E      0.120482   0.119048  0.121951\n",
            "N      0.194915   0.117949  0.560976\n",
            "NE     0.391039   0.611465  0.287425\n",
            "NW     0.042553   0.031250  0.066667\n",
            "S      0.179487   0.155556  0.212121\n",
            "SE     0.090909   0.095238  0.086957\n",
            "SW     0.247934   0.234375  0.263158\n",
            "W      0.160000   0.181818  0.142857\n"
          ],
          "name": "stdout"
        }
      ]
    },
    {
      "metadata": {
        "id": "K2xV35SQpMfn",
        "colab_type": "code",
        "colab": {
          "base_uri": "https://localhost:8080/",
          "height": 34
        },
        "outputId": "10d6f1b8-abb4-4008-efbb-5cda910ec9ba"
      },
      "cell_type": "code",
      "source": [
        "df[\"F1\"].mean()"
      ],
      "execution_count": 39,
      "outputs": [
        {
          "output_type": "execute_result",
          "data": {
            "text/plain": [
              "0.1784149030836203"
            ]
          },
          "metadata": {
            "tags": []
          },
          "execution_count": 39
        }
      ]
    },
    {
      "metadata": {
        "id": "lTV82Fckuqrk",
        "colab_type": "code",
        "colab": {
          "base_uri": "https://localhost:8080/",
          "height": 317
        },
        "outputId": "830aa4fa-a425-4121-d351-e9cd6b0a2662"
      },
      "cell_type": "code",
      "source": [
        "df"
      ],
      "execution_count": 40,
      "outputs": [
        {
          "output_type": "execute_result",
          "data": {
            "text/html": [
              "<div>\n",
              "<style scoped>\n",
              "    .dataframe tbody tr th:only-of-type {\n",
              "        vertical-align: middle;\n",
              "    }\n",
              "\n",
              "    .dataframe tbody tr th {\n",
              "        vertical-align: top;\n",
              "    }\n",
              "\n",
              "    .dataframe thead th {\n",
              "        text-align: right;\n",
              "    }\n",
              "</style>\n",
              "<table border=\"1\" class=\"dataframe\">\n",
              "  <thead>\n",
              "    <tr style=\"text-align: right;\">\n",
              "      <th></th>\n",
              "      <th>F1</th>\n",
              "      <th>Precision</th>\n",
              "      <th>Recall</th>\n",
              "    </tr>\n",
              "    <tr>\n",
              "      <th>W_DIR</th>\n",
              "      <th></th>\n",
              "      <th></th>\n",
              "      <th></th>\n",
              "    </tr>\n",
              "  </thead>\n",
              "  <tbody>\n",
              "    <tr>\n",
              "      <th>E</th>\n",
              "      <td>0.120482</td>\n",
              "      <td>0.119048</td>\n",
              "      <td>0.121951</td>\n",
              "    </tr>\n",
              "    <tr>\n",
              "      <th>N</th>\n",
              "      <td>0.194915</td>\n",
              "      <td>0.117949</td>\n",
              "      <td>0.560976</td>\n",
              "    </tr>\n",
              "    <tr>\n",
              "      <th>NE</th>\n",
              "      <td>0.391039</td>\n",
              "      <td>0.611465</td>\n",
              "      <td>0.287425</td>\n",
              "    </tr>\n",
              "    <tr>\n",
              "      <th>NW</th>\n",
              "      <td>0.042553</td>\n",
              "      <td>0.031250</td>\n",
              "      <td>0.066667</td>\n",
              "    </tr>\n",
              "    <tr>\n",
              "      <th>S</th>\n",
              "      <td>0.179487</td>\n",
              "      <td>0.155556</td>\n",
              "      <td>0.212121</td>\n",
              "    </tr>\n",
              "    <tr>\n",
              "      <th>SE</th>\n",
              "      <td>0.090909</td>\n",
              "      <td>0.095238</td>\n",
              "      <td>0.086957</td>\n",
              "    </tr>\n",
              "    <tr>\n",
              "      <th>SW</th>\n",
              "      <td>0.247934</td>\n",
              "      <td>0.234375</td>\n",
              "      <td>0.263158</td>\n",
              "    </tr>\n",
              "    <tr>\n",
              "      <th>W</th>\n",
              "      <td>0.160000</td>\n",
              "      <td>0.181818</td>\n",
              "      <td>0.142857</td>\n",
              "    </tr>\n",
              "  </tbody>\n",
              "</table>\n",
              "</div>"
            ],
            "text/plain": [
              "             F1  Precision    Recall\n",
              "W_DIR                               \n",
              "E      0.120482   0.119048  0.121951\n",
              "N      0.194915   0.117949  0.560976\n",
              "NE     0.391039   0.611465  0.287425\n",
              "NW     0.042553   0.031250  0.066667\n",
              "S      0.179487   0.155556  0.212121\n",
              "SE     0.090909   0.095238  0.086957\n",
              "SW     0.247934   0.234375  0.263158\n",
              "W      0.160000   0.181818  0.142857"
            ]
          },
          "metadata": {
            "tags": []
          },
          "execution_count": 40
        }
      ]
    },
    {
      "metadata": {
        "id": "auVEOvvqC5HE",
        "colab_type": "code",
        "colab": {}
      },
      "cell_type": "code",
      "source": [
        "confusion_matrix(y_data[\"label\"],x_data[\"label8\"])"
      ],
      "execution_count": 0,
      "outputs": []
    }
  ]
}