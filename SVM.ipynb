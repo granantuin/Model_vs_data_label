{
  "nbformat": 4,
  "nbformat_minor": 0,
  "metadata": {
    "colab": {
      "name": " SVM.ipynb",
      "version": "0.3.2",
      "provenance": [],
      "collapsed_sections": [],
      "include_colab_link": true
    },
    "kernelspec": {
      "name": "python3",
      "display_name": "Python 3"
    }
  },
  "cells": [
    {
      "cell_type": "markdown",
      "metadata": {
        "id": "view-in-github",
        "colab_type": "text"
      },
      "source": [
        "<a href=\"https://colab.research.google.com/github/granantuin/Model_vs_data_label/blob/synthetic-data/SVM.ipynb\" target=\"_parent\"><img src=\"https://colab.research.google.com/assets/colab-badge.svg\" alt=\"Open In Colab\"/></a>"
      ]
    },
    {
      "metadata": {
        "id": "eKAeeLLI18Qj",
        "colab_type": "code",
        "colab": {}
      },
      "cell_type": "code",
      "source": [
        "from sklearn.metrics import precision_recall_fscore_support\n",
        "import pandas as pd\n",
        "from sklearn.metrics import confusion_matrix ,accuracy_score,f1_score,recall_score\n",
        "import numpy as np\n",
        "import seaborn as sns\n",
        "import matplotlib.pyplot as plt\n",
        "from sklearn.model_selection import train_test_split\n",
        "from sklearn import svm\n",
        "from sklearn.dummy import DummyClassifier"
      ],
      "execution_count": 0,
      "outputs": []
    },
    {
      "metadata": {
        "id": "D6Kp-M-UUxW5",
        "colab_type": "code",
        "colab": {
          "base_uri": "https://localhost:8080/",
          "height": 121
        },
        "outputId": "295ee22d-7345-43d0-832b-7b82f6e53264"
      },
      "cell_type": "code",
      "source": [
        "\n",
        "from google.colab import drive\n",
        "drive.mount('/content/drive')\n"
      ],
      "execution_count": 2,
      "outputs": [
        {
          "output_type": "stream",
          "text": [
            "Go to this URL in a browser: https://accounts.google.com/o/oauth2/auth?client_id=947318989803-6bn6qk8qdgf4n4g3pfee6491hc0brc4i.apps.googleusercontent.com&redirect_uri=urn%3Aietf%3Awg%3Aoauth%3A2.0%3Aoob&scope=email%20https%3A%2F%2Fwww.googleapis.com%2Fauth%2Fdocs.test%20https%3A%2F%2Fwww.googleapis.com%2Fauth%2Fdrive%20https%3A%2F%2Fwww.googleapis.com%2Fauth%2Fdrive.photos.readonly%20https%3A%2F%2Fwww.googleapis.com%2Fauth%2Fpeopleapi.readonly&response_type=code\n",
            "\n",
            "Enter your authorization code:\n",
            "··········\n",
            "Mounted at /content/drive\n"
          ],
          "name": "stdout"
        }
      ]
    },
    {
      "metadata": {
        "id": "zKYcQpI6WCoP",
        "colab_type": "code",
        "colab": {}
      },
      "cell_type": "code",
      "source": [
        "y_data=pd.read_excel(\"/content/drive/My Drive/Colab Notebooks/model_vs_data/Coron_Mars_H24to48_dir/y_data.xlsx\")\n",
        "x_data=pd.read_csv(\"/content/drive/My Drive/Colab Notebooks/model_vs_data/Coron_Mars_H24to48_dir/x_data\",usecols=range(1,10))"
      ],
      "execution_count": 0,
      "outputs": []
    },
    {
      "metadata": {
        "id": "4zBkI58Jmt1W",
        "colab_type": "code",
        "colab": {}
      },
      "cell_type": "code",
      "source": [
        "NE=y_data[(y_data[\"value\"]>22.5) & (y_data[\"value\"]<67.5)]\n",
        "NE[\"label\"]=\"NE\"\n",
        "E=y_data[(y_data[\"value\"]>67.5) & (y_data[\"value\"]<112.5)]\n",
        "E[\"label\"]=\"E\"\n",
        "SE=y_data[(y_data[\"value\"]>112.5) & (y_data[\"value\"]<157.5)]\n",
        "SE[\"label\"]=\"SE\"\n",
        "S=y_data[(y_data[\"value\"]>157.5) & (y_data[\"value\"]<202.5)]\n",
        "S[\"label\"]=\"S\"\n",
        "SW=y_data[(y_data[\"value\"]>202.5) & (y_data[\"value\"]<247.5)]\n",
        "SW[\"label\"]=\"SW\"\n",
        "W=y_data[(y_data[\"value\"]>247.5) & (y_data[\"value\"]<292.5)]\n",
        "W[\"label\"]=\"W\"\n",
        "NW=y_data[(y_data[\"value\"]>292.5) & (y_data[\"value\"]<337.5)]\n",
        "NW[\"label\"]=\"NW\"\n",
        "N=y_data[(y_data[\"value\"]>337.5) | (y_data[\"value\"]<22.5)]\n",
        "N[\"label\"]=\"N\"\n",
        "winds=[NE,N,E,SE,S,SW,W,NW]\n",
        "y_data=pd.concat(winds)\n",
        "y_data=y_data.sort_values(by=\"DATA (Horario UTC)\")"
      ],
      "execution_count": 0,
      "outputs": []
    },
    {
      "metadata": {
        "id": "TWNCUPsBWyx3",
        "colab_type": "code",
        "colab": {}
      },
      "cell_type": "code",
      "source": [
        "x_train, x_test, y_train, y_test = train_test_split(x_data,y_data[\"label\"], test_size=0.4, random_state=5)"
      ],
      "execution_count": 0,
      "outputs": []
    },
    {
      "metadata": {
        "id": "2l8aEPL-2MTm",
        "colab_type": "text"
      },
      "cell_type": "markdown",
      "source": [
        "**Classifier SVM**"
      ]
    },
    {
      "metadata": {
        "id": "DYbRo9V-XPzK",
        "colab_type": "code",
        "colab": {}
      },
      "cell_type": "code",
      "source": [
        "y_pred=svm.SVC(gamma='scale').fit(x_train,y_train).predict(x_test)"
      ],
      "execution_count": 0,
      "outputs": []
    },
    {
      "metadata": {
        "id": "yhyaCYmKzeZ7",
        "colab_type": "code",
        "colab": {
          "base_uri": "https://localhost:8080/",
          "height": 474
        },
        "outputId": "e5bc1d30-7ad8-489a-98e5-9d82571f0ec0"
      },
      "cell_type": "code",
      "source": [
        "index=[\"E\",\"N\",\"NE\",\"NW\",\"S\",\"SE\",\"SW\",\"W\"]\n",
        "print(pd.DataFrame(confusion_matrix(y_test, y_pred), index=index, columns=index))\n",
        "print(\"****************\")\n",
        "print(\"Accuracy=\",\"{:.2%}\".format(accuracy_score(y_test, y_pred)))\n",
        "print(\"****************\")\n",
        "results= precision_recall_fscore_support(y_test, y_pred, average=None, )\n",
        "df=pd.DataFrame({\"Precision\":results[0],\"Recall\":results[1],\"F1\":results[2],\"W_DIR\":index})\n",
        "df=df.set_index(\"W_DIR\")\n",
        "print(\"Average precision =\",\"{:.2%}\".format(df[\"Precision\"].mean()))\n",
        "print(\"Average recall =\",\"{:.2%}\".format(df[\"Recall\"].mean()))\n",
        "print(df)"
      ],
      "execution_count": 8,
      "outputs": [
        {
          "output_type": "stream",
          "text": [
            "    E  N   NE  NW  S  SE  SW  W\n",
            "E   0  0   16   0  0   0   0  0\n",
            "N   0  0   16   0  0   0   0  0\n",
            "NE  0  0  138   0  0   0   0  0\n",
            "NW  0  0    9   0  0   0   0  0\n",
            "S   0  0   12   0  0   0   0  0\n",
            "SE  0  0    8   0  0   0   0  0\n",
            "SW  0  0   23   0  0   0   0  0\n",
            "W   0  0   18   0  0   0   0  0\n",
            "****************\n",
            "Accuracy= 57.50%\n",
            "****************\n",
            "Average precision = 7.19%\n",
            "Average recall = 12.50%\n",
            "       Precision  Recall        F1\n",
            "W_DIR                             \n",
            "E          0.000     0.0  0.000000\n",
            "N          0.000     0.0  0.000000\n",
            "NE         0.575     1.0  0.730159\n",
            "NW         0.000     0.0  0.000000\n",
            "S          0.000     0.0  0.000000\n",
            "SE         0.000     0.0  0.000000\n",
            "SW         0.000     0.0  0.000000\n",
            "W          0.000     0.0  0.000000\n"
          ],
          "name": "stdout"
        },
        {
          "output_type": "stream",
          "text": [
            "/usr/local/lib/python3.6/dist-packages/sklearn/metrics/classification.py:1143: UndefinedMetricWarning: Precision and F-score are ill-defined and being set to 0.0 in labels with no predicted samples.\n",
            "  'precision', 'predicted', average, warn_for)\n"
          ],
          "name": "stderr"
        }
      ]
    },
    {
      "metadata": {
        "id": "HYIyQnM42fmV",
        "colab_type": "text"
      },
      "cell_type": "markdown",
      "source": [
        "**Classifier Dummmy**"
      ]
    },
    {
      "metadata": {
        "id": "oD_A9aXY36oX",
        "colab_type": "code",
        "colab": {}
      },
      "cell_type": "code",
      "source": [
        "dummy = DummyClassifier(strategy='most_frequent').fit(x_train, y_train)\n",
        "y_pred = dummy.predict(x_test)\n"
      ],
      "execution_count": 0,
      "outputs": []
    },
    {
      "metadata": {
        "id": "NYMu5nJ54IaK",
        "colab_type": "code",
        "colab": {
          "base_uri": "https://localhost:8080/",
          "height": 474
        },
        "outputId": "999054a5-d1ea-488f-fa97-70ddd2b8ed28"
      },
      "cell_type": "code",
      "source": [
        "index=[\"E\",\"N\",\"NE\",\"NW\",\"S\",\"SE\",\"SW\",\"W\"]\n",
        "print(pd.DataFrame(confusion_matrix(y_test, y_pred), index=index, columns=index))\n",
        "print(\"****************\")\n",
        "print(\"Accuracy=\",\"{:.2%}\".format(accuracy_score(y_test, y_pred)))\n",
        "print(\"****************\")\n",
        "results= precision_recall_fscore_support(y_test, y_pred, average=None, )\n",
        "df=pd.DataFrame({\"Precision\":results[0],\"Recall\":results[1],\"F1\":results[2],\"W_DIR\":index})\n",
        "df=df.set_index(\"W_DIR\")\n",
        "print(\"Average precision =\",\"{:.2%}\".format(df[\"Precision\"].mean()))\n",
        "print(\"Average recall =\",\"{:.2%}\".format(df[\"Recall\"].mean()))\n",
        "print(df)"
      ],
      "execution_count": 10,
      "outputs": [
        {
          "output_type": "stream",
          "text": [
            "    E  N   NE  NW  S  SE  SW  W\n",
            "E   0  0   16   0  0   0   0  0\n",
            "N   0  0   16   0  0   0   0  0\n",
            "NE  0  0  138   0  0   0   0  0\n",
            "NW  0  0    9   0  0   0   0  0\n",
            "S   0  0   12   0  0   0   0  0\n",
            "SE  0  0    8   0  0   0   0  0\n",
            "SW  0  0   23   0  0   0   0  0\n",
            "W   0  0   18   0  0   0   0  0\n",
            "****************\n",
            "Accuracy= 57.50%\n",
            "****************\n",
            "Average precision = 7.19%\n",
            "Average recall = 12.50%\n",
            "       Precision  Recall        F1\n",
            "W_DIR                             \n",
            "E          0.000     0.0  0.000000\n",
            "N          0.000     0.0  0.000000\n",
            "NE         0.575     1.0  0.730159\n",
            "NW         0.000     0.0  0.000000\n",
            "S          0.000     0.0  0.000000\n",
            "SE         0.000     0.0  0.000000\n",
            "SW         0.000     0.0  0.000000\n",
            "W          0.000     0.0  0.000000\n"
          ],
          "name": "stdout"
        },
        {
          "output_type": "stream",
          "text": [
            "/usr/local/lib/python3.6/dist-packages/sklearn/metrics/classification.py:1143: UndefinedMetricWarning: Precision and F-score are ill-defined and being set to 0.0 in labels with no predicted samples.\n",
            "  'precision', 'predicted', average, warn_for)\n"
          ],
          "name": "stderr"
        }
      ]
    },
    {
      "metadata": {
        "id": "5qbHm_PqXFJo",
        "colab_type": "text"
      },
      "cell_type": "markdown",
      "source": [
        "\n",
        "Model results\n",
        "\n",
        "\n",
        "\n",
        "---\n",
        "\n",
        "\n",
        "label4\n",
        "Predicted   E    N   NE  NW   S  SE  SW   W  __all__\n",
        "Actual                                              \n",
        "E           6    3   16   0   8   5   2   1       41\n",
        "N           1   18   14   2   2   1   0   3       41\n",
        "NE         17   89  137  18  22   9  19  23      334\n",
        "NW          0    8    2   1   0   0   1   3       15\n",
        "S           0    7   10   2   6   0   8   0       33\n",
        "SE          1    6    8   2   1   2   1   2       23\n",
        "SW          1   16   14   1   4   0  16   5       57\n",
        "W           0   16   11   4   2   1  15   7       56\n",
        "__all__    26  163  212  30  45  18  62  44      600\n",
        "****************\n",
        "Accuracy= 32.17%\n",
        "****************\n",
        "             F1  Precision    Recall\n",
        "W_DIR                               \n",
        "E      0.179104   0.230769  0.146341\n",
        "N      0.176471   0.110429  0.439024\n",
        "NE     0.501832   0.646226  0.410180\n",
        "NW     0.044444   0.033333  0.066667\n",
        "S      0.153846   0.133333  0.181818\n",
        "SE     0.097561   0.111111  0.086957\n",
        "SW     0.268908   0.258065  0.280702\n",
        "W      0.140000   0.159091  0.125000\n",
        "*******************************************************\n",
        "Average precision = 21.03%\n",
        "Average recall = 21.71%"
      ]
    }
  ]
}