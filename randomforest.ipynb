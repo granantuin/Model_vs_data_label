{
  "nbformat": 4,
  "nbformat_minor": 0,
  "metadata": {
    "colab": {
      "name": "randomforest.ipynb",
      "version": "0.3.2",
      "provenance": [],
      "collapsed_sections": [],
      "include_colab_link": true
    },
    "kernelspec": {
      "name": "python3",
      "display_name": "Python 3"
    },
    "accelerator": "GPU"
  },
  "cells": [
    {
      "cell_type": "markdown",
      "metadata": {
        "id": "view-in-github",
        "colab_type": "text"
      },
      "source": [
        "<a href=\"https://colab.research.google.com/github/granantuin/Model_vs_data_label/blob/master/randomforest.ipynb\" target=\"_parent\"><img src=\"https://colab.research.google.com/assets/colab-badge.svg\" alt=\"Open In Colab\"/></a>"
      ]
    },
    {
      "metadata": {
        "id": "q2yjZo0iz3Qy",
        "colab_type": "code",
        "colab": {}
      },
      "cell_type": "code",
      "source": [
        "from sklearn.metrics import precision_recall_fscore_support,confusion_matrix,accuracy_score\n",
        "import pandas as pd\n",
        "import numpy as np\n",
        "import seaborn as sns\n",
        "import matplotlib.pyplot as plt\n",
        "from sklearn.model_selection import train_test_split,cross_val_score,cross_validate,GridSearchCV\n",
        "from sklearn.dummy import DummyClassifier\n",
        "from sklearn.ensemble import RandomForestClassifier\n",
        "from sklearn.utils import resample\n",
        "from imblearn.over_sampling import SMOTE\n",
        "from sklearn.model_selection import RandomizedSearchCV"
      ],
      "execution_count": 0,
      "outputs": []
    },
    {
      "metadata": {
        "id": "2G2SFv5B0XBS",
        "colab_type": "code",
        "colab": {}
      },
      "cell_type": "code",
      "source": [
        "from google.colab import drive\n",
        "drive.mount('/content/drive')\n"
      ],
      "execution_count": 0,
      "outputs": []
    },
    {
      "metadata": {
        "id": "3EvkfiKL3nOZ",
        "colab_type": "code",
        "colab": {}
      },
      "cell_type": "code",
      "source": [
        "def evaluate(y_test,y_pred):\n",
        "  index=[\"E\",\"N\",\"NE\",\"NW\",\"S\",\"SE\",\"SW\",\"W\"]\n",
        "  print(pd.DataFrame(confusion_matrix(y_test, y_pred), index=index, columns=index))\n",
        "  print(\"****************\")\n",
        "  print(\"Accuracy=\",\"{:.2%}\".format(accuracy_score(y_test, y_pred)),\"// Model Accuracy=45%\")\n",
        "  results= precision_recall_fscore_support(y_test, y_pred, average=None, )\n",
        "  df=pd.DataFrame({\"Precision\":results[0],\"Recall\":results[1],\"F1\":results[2],\"W_DIR\":index})\n",
        "  df=df.set_index(\"W_DIR\")\n",
        "  print(\"Average precision =\",\"{:.2%}\".format(df[\"Precision\"].mean()),\"// Model precision=28%\")\n",
        "  print(\"Average recall =\",\"{:.2%}\".format(df[\"Recall\"].mean()),\"// Model recall=28%\")\n",
        "  results= precision_recall_fscore_support(y_test, y_pred, average='weighted', )\n",
        "  print(\"Precision weighted=\",\"{:.2%}\".format(results[0]),\"//Model weighted=56%\")\n",
        "  print(\"Recall weighted =\",\"{:.2%}\".format(results[1]),\"//Model weighted=53%\")\n",
        "  print(\"****************\")\n",
        "  print(df)"
      ],
      "execution_count": 0,
      "outputs": []
    },
    {
      "metadata": {
        "id": "NHHfznTP1-Fq",
        "colab_type": "code",
        "colab": {}
      },
      "cell_type": "code",
      "source": [
        "drive_4km=\"/content/drive/My Drive/Colab Notebooks/model_vs_data/Coron_4km_h24toh48_dir/\"\n",
        "drive_1km=\"/content/drive/My Drive/Colab Notebooks/model_vs_data/Coron_Mars_H24to48_dir/\"\n",
        "dr=[drive_4km,drive_1km]\n",
        "y_data=pd.read_excel(dr[1]+\"y_data.xlsx\")\n",
        "x_data=pd.read_csv(dr[1]+\"x_data\",usecols=range(1,10))\n",
        "y_sp=pd.read_excel(dr[1]+\"y_sp.xlsx\") # units=Km/h to m/s\n",
        "y_sp[\"spd\"]=y_sp[\"spd\"]/3.6"
      ],
      "execution_count": 0,
      "outputs": []
    },
    {
      "metadata": {
        "id": "5KTTTJpD2kPT",
        "colab_type": "code",
        "colab": {}
      },
      "cell_type": "code",
      "source": [
        "NE=y_data[(y_data[\"value\"]>22.5) & (y_data[\"value\"]<67.5)]\n",
        "NE[\"label\"]=\"NE\"\n",
        "E=y_data[(y_data[\"value\"]>67.5) & (y_data[\"value\"]<112.5)]\n",
        "E[\"label\"]=\"E\"\n",
        "SE=y_data[(y_data[\"value\"]>112.5) & (y_data[\"value\"]<157.5)]\n",
        "SE[\"label\"]=\"SE\"\n",
        "S=y_data[(y_data[\"value\"]>157.5) & (y_data[\"value\"]<202.5)]\n",
        "S[\"label\"]=\"S\"\n",
        "SW=y_data[(y_data[\"value\"]>202.5) & (y_data[\"value\"]<247.5)]\n",
        "SW[\"label\"]=\"SW\"\n",
        "W=y_data[(y_data[\"value\"]>247.5) & (y_data[\"value\"]<292.5)]\n",
        "W[\"label\"]=\"W\"\n",
        "NW=y_data[(y_data[\"value\"]>292.5) & (y_data[\"value\"]<337.5)]\n",
        "NW[\"label\"]=\"NW\"\n",
        "N=y_data[(y_data[\"value\"]>337.5) | (y_data[\"value\"]<22.5)]\n",
        "N[\"label\"]=\"N\"\n",
        "winds=[NE,N,E,SE,S,SW,W,NW]\n",
        "y_data=pd.concat(winds)\n",
        "y_data=y_data.sort_values(by=\"date\")"
      ],
      "execution_count": 0,
      "outputs": []
    },
    {
      "metadata": {
        "id": "-9wywTaw7p9a",
        "colab_type": "text"
      },
      "cell_type": "markdown",
      "source": [
        "**Dummy class**"
      ]
    },
    {
      "metadata": {
        "id": "r0lWwOLd70lI",
        "colab_type": "code",
        "outputId": "9bc44726-7ac4-41e2-afcc-a3b87459946b",
        "colab": {
          "base_uri": "https://localhost:8080/",
          "height": 978
        }
      },
      "cell_type": "code",
      "source": [
        "#strategy=[\"stratified\",\"most_frequent”]\n",
        "#“stratified”: generates predictions by respecting the training set’s class distribution\n",
        "#“most_frequent”: always predicts the most frequent label in the training set.\n",
        "print(\"Strategy = stratified\")\n",
        "x_train, x_test, y_train, y_test = train_test_split(x_data,y_data[\"label\"], test_size=0.2, random_state=5)\n",
        "y_pred = DummyClassifier(strategy=\"stratified\").fit(x_train, y_train).predict(x_test)\n",
        "evaluate(y_test,y_pred)\n",
        "print(\"Strategy = most_frequent\")\n",
        "x_train, x_test, y_train, y_test = train_test_split(x_data,y_data[\"label\"], test_size=0.2, random_state=5)\n",
        "y_pred = DummyClassifier(strategy=\"most_frequent\").fit(x_train, y_train).predict(x_test)\n",
        "evaluate(y_test,y_pred)"
      ],
      "execution_count": 6,
      "outputs": [
        {
          "output_type": "stream",
          "text": [
            "Strategy = stratified\n",
            "    E  N  NE  NW  S  SE  SW  W\n",
            "E   0  0   5   0  1   0   1  1\n",
            "N   3  0   7   0  0   0   4  1\n",
            "NE  5  3  39   0  7   2  13  7\n",
            "NW  0  1   6   0  1   0   1  0\n",
            "S   0  0   5   0  0   0   2  1\n",
            "SE  2  1   3   0  1   0   2  1\n",
            "SW  3  0   9   0  1   1   4  3\n",
            "W   0  1  12   0  0   1   2  1\n",
            "****************\n",
            "Accuracy= 26.83% // Model Accuracy=45%\n",
            "Average precision = 8.23% // Model precision=28%\n",
            "Average recall = 9.53% // Model recall=28%\n",
            "Precision weighted= 23.47% //Model weighted=56%\n",
            "Recall weighted = 26.83% //Model weighted=53%\n",
            "****************\n",
            "       Precision    Recall        F1\n",
            "W_DIR                               \n",
            "E       0.000000  0.000000  0.000000\n",
            "N       0.000000  0.000000  0.000000\n",
            "NE      0.453488  0.513158  0.481481\n",
            "NW      0.000000  0.000000  0.000000\n",
            "S       0.000000  0.000000  0.000000\n",
            "SE      0.000000  0.000000  0.000000\n",
            "SW      0.137931  0.190476  0.160000\n",
            "W       0.066667  0.058824  0.062500\n",
            "Strategy = most_frequent\n",
            "    E  N  NE  NW  S  SE  SW  W\n",
            "E   0  0   8   0  0   0   0  0\n",
            "N   0  0  15   0  0   0   0  0\n",
            "NE  0  0  76   0  0   0   0  0\n",
            "NW  0  0   9   0  0   0   0  0\n",
            "S   0  0   8   0  0   0   0  0\n",
            "SE  0  0  10   0  0   0   0  0\n",
            "SW  0  0  21   0  0   0   0  0\n",
            "W   0  0  17   0  0   0   0  0\n",
            "****************\n",
            "Accuracy= 46.34% // Model Accuracy=45%\n",
            "Average precision = 5.79% // Model precision=28%\n",
            "Average recall = 12.50% // Model recall=28%\n",
            "Precision weighted= 21.48% //Model weighted=56%\n",
            "Recall weighted = 46.34% //Model weighted=53%\n",
            "****************\n",
            "       Precision  Recall        F1\n",
            "W_DIR                             \n",
            "E       0.000000     0.0  0.000000\n",
            "N       0.000000     0.0  0.000000\n",
            "NE      0.463415     1.0  0.633333\n",
            "NW      0.000000     0.0  0.000000\n",
            "S       0.000000     0.0  0.000000\n",
            "SE      0.000000     0.0  0.000000\n",
            "SW      0.000000     0.0  0.000000\n",
            "W       0.000000     0.0  0.000000\n"
          ],
          "name": "stdout"
        },
        {
          "output_type": "stream",
          "text": [
            "/usr/local/lib/python3.6/dist-packages/sklearn/metrics/classification.py:1143: UndefinedMetricWarning: Precision and F-score are ill-defined and being set to 0.0 in labels with no predicted samples.\n",
            "  'precision', 'predicted', average, warn_for)\n"
          ],
          "name": "stderr"
        }
      ]
    },
    {
      "metadata": {
        "id": "BXtU5p-P55Jr",
        "colab_type": "text"
      },
      "cell_type": "markdown",
      "source": [
        "**Random Forest Class**"
      ]
    },
    {
      "metadata": {
        "id": "lEm3trSt2xTP",
        "colab_type": "code",
        "outputId": "f00af3c4-ec52-4302-ad6d-16ab3db8b4cf",
        "colab": {
          "base_uri": "https://localhost:8080/",
          "height": 454
        }
      },
      "cell_type": "code",
      "source": [
        "x_train, x_test, y_train, y_test = train_test_split(x_data,y_data[\"label\"], test_size=0.2, random_state=5)\n",
        "y_pred = RandomForestClassifier(n_estimators=40).fit(x_train, y_train).predict(x_test)\n",
        "evaluate(y_test,y_pred)"
      ],
      "execution_count": 7,
      "outputs": [
        {
          "output_type": "stream",
          "text": [
            "    E  N  NE  NW  S  SE  SW  W\n",
            "E   3  0   3   0  1   0   0  1\n",
            "N   1  5   5   0  0   1   0  3\n",
            "NE  0  4  66   0  1   0   5  0\n",
            "NW  1  0   1   0  0   0   5  2\n",
            "S   0  0   2   0  1   0   3  2\n",
            "SE  0  0   5   0  2   1   1  1\n",
            "SW  1  0   4   0  0   1  10  5\n",
            "W   0  0   6   1  0   0   3  7\n",
            "****************\n",
            "Accuracy= 56.71% // Model Accuracy=45%\n",
            "Average precision = 37.62% // Model precision=28%\n",
            "Average recall = 33.62% // Model recall=28%\n",
            "Precision weighted= 51.97% //Model weighted=56%\n",
            "Recall weighted = 56.71% //Model weighted=53%\n",
            "****************\n",
            "       Precision    Recall        F1\n",
            "W_DIR                               \n",
            "E       0.500000  0.375000  0.428571\n",
            "N       0.555556  0.333333  0.416667\n",
            "NE      0.717391  0.868421  0.785714\n",
            "NW      0.000000  0.000000  0.000000\n",
            "S       0.200000  0.125000  0.153846\n",
            "SE      0.333333  0.100000  0.153846\n",
            "SW      0.370370  0.476190  0.416667\n",
            "W       0.333333  0.411765  0.368421\n"
          ],
          "name": "stdout"
        }
      ]
    },
    {
      "metadata": {
        "id": "3jdSebxdAXlG",
        "colab_type": "text"
      },
      "cell_type": "markdown",
      "source": [
        "**Synthetic samples**"
      ]
    },
    {
      "metadata": {
        "id": "0OYFqxjJ9YN6",
        "colab_type": "code",
        "outputId": "089437c6-4c83-4f7d-fa28-213b1c6aba34",
        "colab": {
          "base_uri": "https://localhost:8080/",
          "height": 504
        }
      },
      "cell_type": "code",
      "source": [
        "x_train, x_test, y_train, y_test = train_test_split(x_data, y_data[\"label\"], test_size=0.4, random_state=27)\n",
        "print(\"Original train samples=\",x_train.shape[0])\n",
        "sm = SMOTE(random_state=27,)\n",
        "x_train, y_train = sm.fit_sample(x_train, y_train)\n",
        "print(\"Synthetic train samples=\",x_train.shape[0])\n",
        "print(\"****Randomforest****\")\n",
        "y_pred = RandomForestClassifier(n_estimators=40).fit(x_train, y_train).predict(x_test)\n",
        "evaluate(y_test,y_pred)"
      ],
      "execution_count": 8,
      "outputs": [
        {
          "output_type": "stream",
          "text": [
            "Original train samples= 489\n",
            "Synthetic train samples= 1944\n",
            "****Randomforest****\n",
            "     E   N  NE  NW  S  SE  SW   W\n",
            "E    4   2  10   1  0   3   4   0\n",
            "N    3   8  11   0  0   1   0   0\n",
            "NE  12  11  96   1  2   7   2   2\n",
            "NW   1   1   3   4  0   1   4   0\n",
            "S    1   1   2   2  8   3   7   0\n",
            "SE   4   0   3   1  1   3   1   0\n",
            "SW   1   3   4   4  7   5  23   4\n",
            "W    1   5   9   5  2   4   6  13\n",
            "****************\n",
            "Accuracy= 48.62% // Model Accuracy=45%\n",
            "Average precision = 37.61% // Model precision=28%\n",
            "Average recall = 35.32% // Model recall=28%\n",
            "Precision weighted= 52.57% //Model weighted=56%\n",
            "Recall weighted = 48.62% //Model weighted=53%\n",
            "****************\n",
            "       Precision    Recall        F1\n",
            "W_DIR                               \n",
            "E       0.148148  0.166667  0.156863\n",
            "N       0.258065  0.347826  0.296296\n",
            "NE      0.695652  0.721805  0.708487\n",
            "NW      0.222222  0.285714  0.250000\n",
            "S       0.400000  0.333333  0.363636\n",
            "SE      0.111111  0.230769  0.150000\n",
            "SW      0.489362  0.450980  0.469388\n",
            "W       0.684211  0.288889  0.406250\n"
          ],
          "name": "stdout"
        }
      ]
    },
    {
      "metadata": {
        "id": "TON0kcTIBF8f",
        "colab_type": "text"
      },
      "cell_type": "markdown",
      "source": [
        "**Filtering wind speed thershold**"
      ]
    },
    {
      "metadata": {
        "id": "wy0GtgwFBDKH",
        "colab_type": "code",
        "colab": {}
      },
      "cell_type": "code",
      "source": [
        "\n",
        "x_data[\"date\"]=y_data[\"date\"]\n",
        "x_data=x_data.set_index(\"date\")\n",
        "y_data=y_data.set_index(\"date\")\n",
        "y_sp=y_sp.set_index(\"date\")\n",
        "tot=pd.concat([x_data,y_data,y_sp],axis=1).dropna()\n",
        "x_data=tot[tot[\"spd\"]>2].iloc[:, 0:9]\n",
        "y_data=tot[tot[\"spd\"]>2].iloc[:, 10:11]\n"
      ],
      "execution_count": 0,
      "outputs": []
    },
    {
      "metadata": {
        "id": "xErf9-5vFDTw",
        "colab_type": "code",
        "outputId": "f07cb8e1-c07d-4e2f-fbd1-d62ab323daaa",
        "colab": {
          "base_uri": "https://localhost:8080/",
          "height": 507
        }
      },
      "cell_type": "code",
      "source": [
        "x_train, x_test, y_train, y_test = train_test_split(x_data,y_data[\"label\"], test_size=0.4, random_state=5)\n",
        "clas=RandomForestClassifier(n_estimators=40)\n",
        "y_pred = clas.fit(x_train, y_train).predict(x_test)\n",
        "evaluate(y_test,y_pred)"
      ],
      "execution_count": 12,
      "outputs": [
        {
          "output_type": "stream",
          "text": [
            "    E  N   NE  NW  S  SE  SW   W\n",
            "E   0  0    6   0  1   0   1   1\n",
            "N   0  3    5   0  1   0   1   1\n",
            "NE  0  3  114   0  1   0   0   3\n",
            "NW  0  1    1   3  0   0   0   3\n",
            "S   0  0    1   0  2   0   2   1\n",
            "SE  0  0    1   0  0   0   0   0\n",
            "SW  0  0    5   2  7   1  26   7\n",
            "W   0  0    4   3  0   0  16  15\n",
            "****************\n",
            "Accuracy= 67.36% // Model Accuracy=45%\n",
            "Average precision = 35.64% // Model precision=28%\n",
            "Average recall = 35.75% // Model recall=28%\n",
            "Precision weighted= 64.02% //Model weighted=56%\n",
            "Recall weighted = 67.36% //Model weighted=53%\n",
            "****************\n",
            "       Precision    Recall        F1\n",
            "W_DIR                               \n",
            "E       0.000000  0.000000  0.000000\n",
            "N       0.428571  0.272727  0.333333\n",
            "NE      0.832117  0.942149  0.883721\n",
            "NW      0.375000  0.375000  0.375000\n",
            "S       0.166667  0.333333  0.222222\n",
            "SE      0.000000  0.000000  0.000000\n",
            "SW      0.565217  0.541667  0.553191\n",
            "W       0.483871  0.394737  0.434783\n"
          ],
          "name": "stdout"
        },
        {
          "output_type": "stream",
          "text": [
            "/usr/local/lib/python3.6/dist-packages/sklearn/metrics/classification.py:1143: UndefinedMetricWarning: Precision and F-score are ill-defined and being set to 0.0 in labels with no predicted samples.\n",
            "  'precision', 'predicted', average, warn_for)\n"
          ],
          "name": "stderr"
        }
      ]
    },
    {
      "metadata": {
        "id": "TsjY_7fcbSWn",
        "colab_type": "text"
      },
      "cell_type": "markdown",
      "source": [
        "**K Folds**"
      ]
    },
    {
      "metadata": {
        "id": "V5kI0cdAbLhM",
        "colab_type": "code",
        "colab": {
          "base_uri": "https://localhost:8080/",
          "height": 692
        },
        "outputId": "d2c82967-90d9-478c-ced0-7feb5e755a2d"
      },
      "cell_type": "code",
      "source": [
        "scoring = ['precision_macro', 'recall_macro','f1_macro',\"accuracy\",\"precision_weighted\",\"recall_weighted\",\"f1_weighted\"]\n",
        "scores = cross_validate(clas, x_data, y_data[\"label\"], scoring=scoring,\n",
        "                        cv=5, return_train_score=False)\n",
        "print(\"Accuracy: {:.2%} (+/- {:.2%})\" .format (scores[\"test_accuracy\"].mean(), scores[\"test_accuracy\"].std() * 2))\n",
        "print(\"Recall: {:.2%} (+/- {:.2%})\" .format (scores[\"test_recall_macro\"].mean(), scores[\"test_recall_macro\"].std() * 2))\n",
        "print(\"Precision: {:.2%} (+/- {:.2%})\" .format (scores[\"test_precision_macro\"].mean(), scores[\"test_precision_macro\"].std() * 2))\n",
        "print(\"f1 : {:.2%} (+/-{:.2%} )\".format (scores[\"test_f1_macro\"].mean(), scores[\"test_f1_macro\"].std() * 2))\n",
        "print(\"Recall weighted: {:.2%} (+/- {:.2%})\" .format (scores[\"test_recall_weighted\"].mean(), scores[\"test_recall_weighted\"].std() * 2))\n",
        "print(\"Precision weighted: {:.2%} (+/- {:.2%})\" .format (scores[\"test_precision_weighted\"].mean(), scores[\"test_precision_weighted\"].std() * 2))\n",
        "print(\"f1 weighted: {:.2%} (+/-{:.2%} )\".format (scores[\"test_f1_weighted\"].mean(), scores[\"test_f1_weighted\"].std() * 2))"
      ],
      "execution_count": 13,
      "outputs": [
        {
          "output_type": "stream",
          "text": [
            "/usr/local/lib/python3.6/dist-packages/sklearn/metrics/classification.py:1143: UndefinedMetricWarning: Precision is ill-defined and being set to 0.0 in labels with no predicted samples.\n",
            "  'precision', 'predicted', average, warn_for)\n",
            "/usr/local/lib/python3.6/dist-packages/sklearn/metrics/classification.py:1143: UndefinedMetricWarning: F-score is ill-defined and being set to 0.0 in labels with no predicted samples.\n",
            "  'precision', 'predicted', average, warn_for)\n",
            "/usr/local/lib/python3.6/dist-packages/sklearn/metrics/classification.py:1143: UndefinedMetricWarning: Precision is ill-defined and being set to 0.0 in labels with no predicted samples.\n",
            "  'precision', 'predicted', average, warn_for)\n",
            "/usr/local/lib/python3.6/dist-packages/sklearn/metrics/classification.py:1143: UndefinedMetricWarning: F-score is ill-defined and being set to 0.0 in labels with no predicted samples.\n",
            "  'precision', 'predicted', average, warn_for)\n",
            "/usr/local/lib/python3.6/dist-packages/sklearn/metrics/classification.py:1143: UndefinedMetricWarning: Precision is ill-defined and being set to 0.0 in labels with no predicted samples.\n",
            "  'precision', 'predicted', average, warn_for)\n",
            "/usr/local/lib/python3.6/dist-packages/sklearn/metrics/classification.py:1143: UndefinedMetricWarning: F-score is ill-defined and being set to 0.0 in labels with no predicted samples.\n",
            "  'precision', 'predicted', average, warn_for)\n",
            "/usr/local/lib/python3.6/dist-packages/sklearn/metrics/classification.py:1143: UndefinedMetricWarning: Precision is ill-defined and being set to 0.0 in labels with no predicted samples.\n",
            "  'precision', 'predicted', average, warn_for)\n",
            "/usr/local/lib/python3.6/dist-packages/sklearn/metrics/classification.py:1143: UndefinedMetricWarning: F-score is ill-defined and being set to 0.0 in labels with no predicted samples.\n",
            "  'precision', 'predicted', average, warn_for)\n",
            "/usr/local/lib/python3.6/dist-packages/sklearn/metrics/classification.py:1143: UndefinedMetricWarning: Precision is ill-defined and being set to 0.0 in labels with no predicted samples.\n",
            "  'precision', 'predicted', average, warn_for)\n",
            "/usr/local/lib/python3.6/dist-packages/sklearn/metrics/classification.py:1143: UndefinedMetricWarning: F-score is ill-defined and being set to 0.0 in labels with no predicted samples.\n",
            "  'precision', 'predicted', average, warn_for)\n",
            "/usr/local/lib/python3.6/dist-packages/sklearn/metrics/classification.py:1143: UndefinedMetricWarning: Precision is ill-defined and being set to 0.0 in labels with no predicted samples.\n",
            "  'precision', 'predicted', average, warn_for)\n",
            "/usr/local/lib/python3.6/dist-packages/sklearn/metrics/classification.py:1143: UndefinedMetricWarning: F-score is ill-defined and being set to 0.0 in labels with no predicted samples.\n",
            "  'precision', 'predicted', average, warn_for)\n"
          ],
          "name": "stderr"
        },
        {
          "output_type": "stream",
          "text": [
            "Accuracy: 64.89% (+/- 16.05%)\n",
            "Recall: 29.68% (+/- 13.74%)\n",
            "Precision: 33.84% (+/- 16.41%)\n",
            "f1 : 30.16% (+/-14.20% )\n",
            "Recall weighted: 64.89% (+/- 16.05%)\n",
            "Precision weighted: 61.63% (+/- 17.14%)\n",
            "f1 weighted: 62.34% (+/-16.55% )\n"
          ],
          "name": "stdout"
        },
        {
          "output_type": "stream",
          "text": [
            "/usr/local/lib/python3.6/dist-packages/sklearn/metrics/classification.py:1143: UndefinedMetricWarning: Precision is ill-defined and being set to 0.0 in labels with no predicted samples.\n",
            "  'precision', 'predicted', average, warn_for)\n",
            "/usr/local/lib/python3.6/dist-packages/sklearn/metrics/classification.py:1143: UndefinedMetricWarning: F-score is ill-defined and being set to 0.0 in labels with no predicted samples.\n",
            "  'precision', 'predicted', average, warn_for)\n",
            "/usr/local/lib/python3.6/dist-packages/sklearn/metrics/classification.py:1143: UndefinedMetricWarning: Precision is ill-defined and being set to 0.0 in labels with no predicted samples.\n",
            "  'precision', 'predicted', average, warn_for)\n",
            "/usr/local/lib/python3.6/dist-packages/sklearn/metrics/classification.py:1143: UndefinedMetricWarning: F-score is ill-defined and being set to 0.0 in labels with no predicted samples.\n",
            "  'precision', 'predicted', average, warn_for)\n"
          ],
          "name": "stderr"
        }
      ]
    }
  ]
}