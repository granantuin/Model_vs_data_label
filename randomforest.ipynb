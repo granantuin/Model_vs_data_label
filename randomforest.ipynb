{
  "nbformat": 4,
  "nbformat_minor": 0,
  "metadata": {
    "colab": {
      "name": "randomforest.ipynb",
      "version": "0.3.2",
      "provenance": [],
      "collapsed_sections": [],
      "include_colab_link": true
    },
    "kernelspec": {
      "name": "python3",
      "display_name": "Python 3"
    },
    "accelerator": "GPU"
  },
  "cells": [
    {
      "cell_type": "markdown",
      "metadata": {
        "id": "view-in-github",
        "colab_type": "text"
      },
      "source": [
        "<a href=\"https://colab.research.google.com/github/granantuin/Model_vs_data_label/blob/master/randomforest.ipynb\" target=\"_parent\"><img src=\"https://colab.research.google.com/assets/colab-badge.svg\" alt=\"Open In Colab\"/></a>"
      ]
    },
    {
      "metadata": {
        "id": "q2yjZo0iz3Qy",
        "colab_type": "code",
        "colab": {}
      },
      "cell_type": "code",
      "source": [
        "from sklearn.metrics import precision_recall_fscore_support,confusion_matrix,accuracy_score\n",
        "import pandas as pd\n",
        "import numpy as np\n",
        "import seaborn as sns\n",
        "import matplotlib.pyplot as plt\n",
        "from sklearn.model_selection import train_test_split,cross_val_score,cross_validate,GridSearchCV\n",
        "from sklearn.dummy import DummyClassifier\n",
        "from sklearn.ensemble import RandomForestClassifier\n",
        "from sklearn.utils import resample\n",
        "from imblearn.over_sampling import SMOTE\n",
        "from sklearn.model_selection import RandomizedSearchCV"
      ],
      "execution_count": 0,
      "outputs": []
    },
    {
      "metadata": {
        "id": "2G2SFv5B0XBS",
        "colab_type": "code",
        "colab": {
          "base_uri": "https://localhost:8080/",
          "height": 121
        },
        "outputId": "9259f716-4ff8-4005-ed2b-60a9d3e4d119"
      },
      "cell_type": "code",
      "source": [
        "from google.colab import drive\n",
        "drive.mount('/content/drive')\n"
      ],
      "execution_count": 2,
      "outputs": [
        {
          "output_type": "stream",
          "text": [
            "Go to this URL in a browser: https://accounts.google.com/o/oauth2/auth?client_id=947318989803-6bn6qk8qdgf4n4g3pfee6491hc0brc4i.apps.googleusercontent.com&redirect_uri=urn%3Aietf%3Awg%3Aoauth%3A2.0%3Aoob&scope=email%20https%3A%2F%2Fwww.googleapis.com%2Fauth%2Fdocs.test%20https%3A%2F%2Fwww.googleapis.com%2Fauth%2Fdrive%20https%3A%2F%2Fwww.googleapis.com%2Fauth%2Fdrive.photos.readonly%20https%3A%2F%2Fwww.googleapis.com%2Fauth%2Fpeopleapi.readonly&response_type=code\n",
            "\n",
            "Enter your authorization code:\n",
            "··········\n",
            "Mounted at /content/drive\n"
          ],
          "name": "stdout"
        }
      ]
    },
    {
      "metadata": {
        "id": "3EvkfiKL3nOZ",
        "colab_type": "code",
        "colab": {}
      },
      "cell_type": "code",
      "source": [
        "def evaluate(y_test,y_pred):\n",
        "  index=[\"E\",\"N\",\"NE\",\"NW\",\"S\",\"SE\",\"SW\",\"W\"]\n",
        "  print(pd.DataFrame(confusion_matrix(y_test, y_pred), index=index, columns=index))\n",
        "  print(\"****************\")\n",
        "  print(\"Accuracy=\",\"{:.2%}\".format(accuracy_score(y_test, y_pred)),\"// Model Accuracy=45%\")\n",
        "  results= precision_recall_fscore_support(y_test, y_pred, average=None, )\n",
        "  df=pd.DataFrame({\"Precision\":results[0],\"Recall\":results[1],\"F1\":results[2],\"W_DIR\":index})\n",
        "  df=df.set_index(\"W_DIR\")\n",
        "  print(\"Average precision =\",\"{:.2%}\".format(df[\"Precision\"].mean()),\"// Model precision=28%\")\n",
        "  print(\"Average recall =\",\"{:.2%}\".format(df[\"Recall\"].mean()),\"// Model recall=28%\")\n",
        "  results= precision_recall_fscore_support(y_test, y_pred, average=\"micro\", )\n",
        "  print(\"Precision micro=\",\"{:.2%}\".format(results[0]),\"//Model precision micro=45%\")\n",
        "  print(\"Recall micro=\",\"{:.2%}\".format(results[1]),\"//Model recall micro=45%\")\n",
        "  results= precision_recall_fscore_support(y_test, y_pred, average='weighted', )\n",
        "  print(\"Precision weighted=\",\"{:.2%}\".format(results[0]),\"//Model weighted=56%\")\n",
        "  print(\"Recall weighted =\",\"{:.2%}\".format(results[1]),\"//Model weighted=53%\")\n",
        "  print(\"****************\")\n",
        "  print(df)"
      ],
      "execution_count": 0,
      "outputs": []
    },
    {
      "metadata": {
        "id": "NHHfznTP1-Fq",
        "colab_type": "code",
        "colab": {}
      },
      "cell_type": "code",
      "source": [
        "drive_4km=\"/content/drive/My Drive/Colab Notebooks/model_vs_data/Coron_4km_h24toh48_dir/\"\n",
        "drive_1km=\"/content/drive/My Drive/Colab Notebooks/model_vs_data/Coron_Mars_H24to48_dir/\"\n",
        "dr=[drive_4km,drive_1km]\n",
        "y_data=pd.read_excel(dr[1]+\"y_data.xlsx\")\n",
        "x_data=pd.read_csv(dr[1]+\"x_data\",usecols=range(1,10))\n",
        "y_sp=pd.read_excel(dr[1]+\"y_sp.xlsx\") # units=Km/h to m/s\n",
        "y_sp[\"spd\"]=y_sp[\"spd\"]/3.6"
      ],
      "execution_count": 0,
      "outputs": []
    },
    {
      "metadata": {
        "id": "5KTTTJpD2kPT",
        "colab_type": "code",
        "colab": {}
      },
      "cell_type": "code",
      "source": [
        "NE=y_data[(y_data[\"value\"]>22.5) & (y_data[\"value\"]<67.5)]\n",
        "NE[\"label\"]=\"NE\"\n",
        "E=y_data[(y_data[\"value\"]>67.5) & (y_data[\"value\"]<112.5)]\n",
        "E[\"label\"]=\"E\"\n",
        "SE=y_data[(y_data[\"value\"]>112.5) & (y_data[\"value\"]<157.5)]\n",
        "SE[\"label\"]=\"SE\"\n",
        "S=y_data[(y_data[\"value\"]>157.5) & (y_data[\"value\"]<202.5)]\n",
        "S[\"label\"]=\"S\"\n",
        "SW=y_data[(y_data[\"value\"]>202.5) & (y_data[\"value\"]<247.5)]\n",
        "SW[\"label\"]=\"SW\"\n",
        "W=y_data[(y_data[\"value\"]>247.5) & (y_data[\"value\"]<292.5)]\n",
        "W[\"label\"]=\"W\"\n",
        "NW=y_data[(y_data[\"value\"]>292.5) & (y_data[\"value\"]<337.5)]\n",
        "NW[\"label\"]=\"NW\"\n",
        "N=y_data[(y_data[\"value\"]>337.5) | (y_data[\"value\"]<22.5)]\n",
        "N[\"label\"]=\"N\"\n",
        "winds=[NE,N,E,SE,S,SW,W,NW]\n",
        "y_data=pd.concat(winds)\n",
        "y_data=y_data.sort_values(by=\"date\")"
      ],
      "execution_count": 0,
      "outputs": []
    },
    {
      "metadata": {
        "id": "-9wywTaw7p9a",
        "colab_type": "text"
      },
      "cell_type": "markdown",
      "source": [
        "**Dummy class**"
      ]
    },
    {
      "metadata": {
        "id": "r0lWwOLd70lI",
        "colab_type": "code",
        "colab": {
          "base_uri": "https://localhost:8080/",
          "height": 1011
        },
        "outputId": "3f3ff17c-0666-43b1-d813-3dcae391f96d"
      },
      "cell_type": "code",
      "source": [
        "#strategy=[\"stratified\",\"most_frequent”]\n",
        "#“stratified”: generates predictions by respecting the training set’s class distribution\n",
        "#“most_frequent”: always predicts the most frequent label in the training set.\n",
        "x_train, x_test, y_train, y_test = train_test_split(x_data,y_data[\"label\"], test_size=0.2, random_state=5)\n",
        "y_pred = DummyClassifier(strategy=\"stratified\").fit(x_train, y_train).predict(x_test)\n",
        "evaluate(y_test,y_pred)\n",
        "x_train, x_test, y_train, y_test = train_test_split(x_data,y_data[\"label\"], test_size=0.2, random_state=5)\n",
        "y_pred = DummyClassifier(strategy=\"most_frequent\").fit(x_train, y_train).predict(x_test)\n",
        "evaluate(y_test,y_pred)"
      ],
      "execution_count": 62,
      "outputs": [
        {
          "output_type": "stream",
          "text": [
            "    E  N  NE  NW  S  SE  SW   W\n",
            "E   0  0   2   0  0   0   2   0\n",
            "N   0  0   4   0  0   0   2   1\n",
            "NE  0  5  32   1  4   0   9  11\n",
            "NW  0  1   1   1  1   0   0   1\n",
            "S   0  0   2   0  0   0   0   1\n",
            "SE  0  0   1   0  0   0   0   0\n",
            "SW  0  1  11   0  5   1   3   2\n",
            "W   1  0  12   0  1   0   1   1\n",
            "****************\n",
            "Accuracy= 30.58% // Model Accuracy=45%\n",
            "Average precision = 15.35% // Model precision=28%\n",
            "Average recall = 11.36% // Model recall=28%\n",
            "Precision micro= 30.58% //Model precision micro=45%\n",
            "Recall micro= 30.58% //Model recall micro=45%\n",
            "Precision weighted= 31.42% //Model weighted=56%\n",
            "Recall weighted = 30.58% //Model weighted=53%\n",
            "****************\n",
            "       Precision    Recall        F1\n",
            "W_DIR                               \n",
            "E       0.000000  0.000000  0.000000\n",
            "N       0.000000  0.000000  0.000000\n",
            "NE      0.492308  0.516129  0.503937\n",
            "NW      0.500000  0.200000  0.285714\n",
            "S       0.000000  0.000000  0.000000\n",
            "SE      0.000000  0.000000  0.000000\n",
            "SW      0.176471  0.130435  0.150000\n",
            "W       0.058824  0.062500  0.060606\n",
            "    E  N  NE  NW  S  SE  SW  W\n",
            "E   0  0   4   0  0   0   0  0\n",
            "N   0  0   7   0  0   0   0  0\n",
            "NE  0  0  62   0  0   0   0  0\n",
            "NW  0  0   5   0  0   0   0  0\n",
            "S   0  0   3   0  0   0   0  0\n",
            "SE  0  0   1   0  0   0   0  0\n",
            "SW  0  0  23   0  0   0   0  0\n",
            "W   0  0  16   0  0   0   0  0\n",
            "****************\n",
            "Accuracy= 51.24% // Model Accuracy=45%\n",
            "Average precision = 6.40% // Model precision=28%\n",
            "Average recall = 12.50% // Model recall=28%\n",
            "Precision micro= 51.24% //Model precision micro=45%\n",
            "Recall micro= 51.24% //Model recall micro=45%\n",
            "Precision weighted= 26.26% //Model weighted=56%\n",
            "Recall weighted = 51.24% //Model weighted=53%\n",
            "****************\n",
            "       Precision  Recall        F1\n",
            "W_DIR                             \n",
            "E       0.000000     0.0  0.000000\n",
            "N       0.000000     0.0  0.000000\n",
            "NE      0.512397     1.0  0.677596\n",
            "NW      0.000000     0.0  0.000000\n",
            "S       0.000000     0.0  0.000000\n",
            "SE      0.000000     0.0  0.000000\n",
            "SW      0.000000     0.0  0.000000\n",
            "W       0.000000     0.0  0.000000\n"
          ],
          "name": "stdout"
        },
        {
          "output_type": "stream",
          "text": [
            "/usr/local/lib/python3.6/dist-packages/sklearn/metrics/classification.py:1143: UndefinedMetricWarning: Precision and F-score are ill-defined and being set to 0.0 in labels with no predicted samples.\n",
            "  'precision', 'predicted', average, warn_for)\n"
          ],
          "name": "stderr"
        }
      ]
    },
    {
      "metadata": {
        "id": "BXtU5p-P55Jr",
        "colab_type": "text"
      },
      "cell_type": "markdown",
      "source": [
        "**Random Forest Class**"
      ]
    },
    {
      "metadata": {
        "id": "lEm3trSt2xTP",
        "colab_type": "code",
        "colab": {
          "base_uri": "https://localhost:8080/",
          "height": 541
        },
        "outputId": "81253718-e9a9-4e02-93c7-8988acd0ab41"
      },
      "cell_type": "code",
      "source": [
        "x_train, x_test, y_train, y_test = train_test_split(x_data,y_data[\"label\"], test_size=0.2, random_state=5)\n",
        "y_pred = RandomForestClassifier(n_estimators=40).fit(x_train, y_train).predict(x_test)\n",
        "evaluate(y_test,y_pred)"
      ],
      "execution_count": 50,
      "outputs": [
        {
          "output_type": "stream",
          "text": [
            "    E  N  NE  NW  S  SE  SW  W\n",
            "E   3  0   3   0  1   0   0  1\n",
            "N   1  5   5   0  0   0   1  3\n",
            "NE  0  3  65   0  1   0   5  2\n",
            "NW  1  0   1   0  0   0   3  4\n",
            "S   1  0   1   0  1   0   3  2\n",
            "SE  0  1   3   0  3   0   2  1\n",
            "SW  2  0   4   0  0   0  11  4\n",
            "W   0  0   6   1  0   0   4  6\n",
            "****************\n",
            "Accuracy= 55.49% // Model Accuracy=45%\n",
            "Average precision = 30.95% // Model precision=28%\n",
            "Average recall = 32.07% // Model recall=28%\n",
            "Precision micro= 55.49% //Model precision micro=45%\n",
            "Recall micro= 55.49% //Model recall micro=45%\n",
            "Precision weighted= 49.51% //Model weighted=56%\n",
            "Recall weighted = 55.49% //Model weighted=53%\n",
            "****************\n",
            "       Precision    Recall        F1\n",
            "W_DIR                               \n",
            "E       0.375000  0.375000  0.375000\n",
            "N       0.555556  0.333333  0.416667\n",
            "NE      0.738636  0.855263  0.792683\n",
            "NW      0.000000  0.000000  0.000000\n",
            "S       0.166667  0.125000  0.142857\n",
            "SE      0.000000  0.000000  0.000000\n",
            "SW      0.379310  0.523810  0.440000\n",
            "W       0.260870  0.352941  0.300000\n"
          ],
          "name": "stdout"
        },
        {
          "output_type": "stream",
          "text": [
            "/usr/local/lib/python3.6/dist-packages/sklearn/metrics/classification.py:1143: UndefinedMetricWarning: Precision and F-score are ill-defined and being set to 0.0 in labels with no predicted samples.\n",
            "  'precision', 'predicted', average, warn_for)\n"
          ],
          "name": "stderr"
        }
      ]
    },
    {
      "metadata": {
        "id": "3jdSebxdAXlG",
        "colab_type": "text"
      },
      "cell_type": "markdown",
      "source": [
        "**Synthetic samples**"
      ]
    },
    {
      "metadata": {
        "id": "0OYFqxjJ9YN6",
        "colab_type": "code",
        "colab": {
          "base_uri": "https://localhost:8080/",
          "height": 538
        },
        "outputId": "bae67977-ca27-4ed5-dc7f-291867b60a84"
      },
      "cell_type": "code",
      "source": [
        "x_train, x_test, y_train, y_test = train_test_split(x_data, y_data[\"label\"], test_size=0.4, random_state=27)\n",
        "print(\"Original train samples=\",x_train.shape[0])\n",
        "sm = SMOTE(random_state=27,)\n",
        "x_train, y_train = sm.fit_sample(x_train, y_train)\n",
        "print(\"Synthetic train samples=\",x_train.shape[0])\n",
        "print(\"****Randomforest****\")\n",
        "y_pred = RandomForestClassifier(n_estimators=40).fit(x_train, y_train).predict(x_test)\n",
        "evaluate(y_test,y_pred)"
      ],
      "execution_count": 42,
      "outputs": [
        {
          "output_type": "stream",
          "text": [
            "Original train samples= 489\n",
            "Synthetic train samples= 1944\n",
            "****Randomforest****\n",
            "     E   N  NE  NW  S  SE  SW   W\n",
            "E    4   3  10   0  0   3   4   0\n",
            "N    1   9  12   0  0   1   0   0\n",
            "NE  10  11  98   2  2   6   2   2\n",
            "NW   1   2   2   4  0   1   4   0\n",
            "S    0   2   2   2  8   3   7   0\n",
            "SE   4   1   1   2  0   3   2   0\n",
            "SW   0   3   4   3  7   6  22   6\n",
            "W    1   5   9   5  6   2   7  10\n",
            "****************\n",
            "Accuracy= 48.32% // Model Accuracy=45%\n",
            "Average precision = 35.68% // Model precision=28%\n",
            "Average recall = 34.98% // Model recall=28%\n",
            "Precision micro= 48.32% //Model precision micro=45%\n",
            "Recall micro= 48.32% //Model recall micro=45%\n",
            "Precision weighted= 50.81% //Model weighted=56%\n",
            "Recall weighted = 48.32% //Model weighted=53%\n",
            "****************\n",
            "       Precision    Recall        F1\n",
            "W_DIR                               \n",
            "E       0.190476  0.166667  0.177778\n",
            "N       0.250000  0.391304  0.305085\n",
            "NE      0.710145  0.736842  0.723247\n",
            "NW      0.222222  0.285714  0.250000\n",
            "S       0.347826  0.333333  0.340426\n",
            "SE      0.120000  0.230769  0.157895\n",
            "SW      0.458333  0.431373  0.444444\n",
            "W       0.555556  0.222222  0.317460\n"
          ],
          "name": "stdout"
        }
      ]
    },
    {
      "metadata": {
        "id": "TON0kcTIBF8f",
        "colab_type": "text"
      },
      "cell_type": "markdown",
      "source": [
        "**Filtering wind speed thershold**"
      ]
    },
    {
      "metadata": {
        "id": "wy0GtgwFBDKH",
        "colab_type": "code",
        "colab": {}
      },
      "cell_type": "code",
      "source": [
        "\n",
        "x_data[\"date\"]=y_data[\"date\"]\n",
        "x_data=x_data.set_index(\"date\")\n",
        "y_data=y_data.set_index(\"date\")\n",
        "y_sp=y_sp.set_index(\"date\")\n",
        "tot=pd.concat([x_data,y_data,y_sp],axis=1).dropna()\n",
        "x_data=tot[tot[\"spd\"]>2].iloc[:, 0:9]\n",
        "y_data=tot[tot[\"spd\"]>2].iloc[:, 10:11]\n"
      ],
      "execution_count": 0,
      "outputs": []
    },
    {
      "metadata": {
        "id": "xErf9-5vFDTw",
        "colab_type": "code",
        "colab": {
          "base_uri": "https://localhost:8080/",
          "height": 487
        },
        "outputId": "2a893ed6-e087-4ebc-bf53-7dd772203647"
      },
      "cell_type": "code",
      "source": [
        "x_train, x_test, y_train, y_test = train_test_split(x_data,y_data[\"label\"], test_size=0.4, random_state=5)\n",
        "y_pred = RandomForestClassifier(n_estimators=40).fit(x_train, y_train).predict(x_test)\n",
        "evaluate(y_test,y_pred)"
      ],
      "execution_count": 52,
      "outputs": [
        {
          "output_type": "stream",
          "text": [
            "    E  N   NE  NW  S  SE  SW   W\n",
            "E   1  0    5   0  1   0   1   1\n",
            "N   0  3    5   0  1   0   1   1\n",
            "NE  0  4  113   0  0   0   1   3\n",
            "NW  1  2    0   1  0   0   0   4\n",
            "S   0  0    1   0  2   0   2   1\n",
            "SE  0  0    0   0  0   0   0   1\n",
            "SW  0  1    4   1  6   1  25  10\n",
            "W   0  0    6   2  2   0  16  12\n",
            "****************\n",
            "Accuracy= 64.88% // Model Accuracy=45%\n",
            "Average precision = 37.09% // Model precision=28%\n",
            "Average recall = 32.66% // Model recall=28%\n",
            "Precision micro= 64.88% //Model precision micro=45%\n",
            "Recall micro= 64.88% //Model recall micro=45%\n",
            "Precision weighted= 63.12% //Model weighted=56%\n",
            "Recall weighted = 64.88% //Model weighted=53%\n",
            "****************\n",
            "       Precision    Recall        F1\n",
            "W_DIR                               \n",
            "E       0.500000  0.111111  0.181818\n",
            "N       0.300000  0.272727  0.285714\n",
            "NE      0.843284  0.933884  0.886275\n",
            "NW      0.250000  0.125000  0.166667\n",
            "S       0.166667  0.333333  0.222222\n",
            "SE      0.000000  0.000000  0.000000\n",
            "SW      0.543478  0.520833  0.531915\n",
            "W       0.363636  0.315789  0.338028\n"
          ],
          "name": "stdout"
        }
      ]
    }
  ]
}